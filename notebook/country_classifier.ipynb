{
 "cells": [
  {
   "cell_type": "code",
   "execution_count": 1,
   "id": "24a5156b-b84f-4b37-81a2-6fcaff091a0b",
   "metadata": {},
   "outputs": [],
   "source": [
    "row_sample_rate = 1\n",
    "country_min_sample_cutoff = 2000\n",
    "DUMMY_NA = True\n",
    "FILL=\"Mean\"\n",
    "adjust_cutoff_with_sample_rate = lambda cutoff: cutoff * row_sample_rate\n",
    "# cutoffs = [5000]\n",
    "cutoffs = [5000, 2500, 1000, 500, 250, 100]\n"
   ]
  },
  {
   "cell_type": "code",
   "execution_count": 2,
   "id": "4b540d18-dd73-444f-87a1-1421d177f60f",
   "metadata": {},
   "outputs": [],
   "source": [
    "import numpy as np\n",
    "import pandas as pd\n",
    "import time\n",
    "import pickle\n",
    "\n",
    "from helpers import clone_drop_and_convert, clone_and_convert_multiple_choice_columns, clone_impute_data, perf_measures, round_decision, reduce_dataframe_using_min_non_null, get_coefficent_weights\n",
    "from models import apply_linear_regression_model\n",
    "from predict_country import predict_country\n",
    "\n",
    "# Developer note: If you modify the modules above, the changes to those modules will not be reflected until you \n",
    "# re-execute this cell, specifically the reload commands\n",
    "# TODO this doesn't work yet\n",
    "# import reload\n",
    "# reload(clone_drop_and_convert)\n",
    "# reload(models)\n",
    "\n",
    "pd.options.display.max_rows = 2000\n",
    "pd.options.display.max_columns = 1000\n",
    "pd.options.display.max_colwidth = 255\n",
    "\n",
    "script_start = time.time()\n",
    "\n",
    "raw_df = pd.read_csv('./assets/survey_results_public.csv')\n",
    "schema = pd.read_csv('./assets/survey_results_schema.csv')"
   ]
  },
  {
   "cell_type": "code",
   "execution_count": 3,
   "id": "355aad10-cb31-43cb-a2ed-fca578236c98",
   "metadata": {},
   "outputs": [
    {
     "name": "stdout",
     "output_type": "stream",
     "text": [
      "convert multi choice time 38.012s\n",
      "convert multi choice dataset has 64461 rows and 369 columns\n",
      "full_country impute time 0.709s\n",
      "full country imputed dataset has 64461 rows and 454 columns\n"
     ]
    }
   ],
   "source": [
    "start = time.time()\n",
    "\n",
    "df = clone_and_convert_multiple_choice_columns( \\\n",
    "         clone_drop_and_convert( \\\n",
    "             raw_df.sample(frac=row_sample_rate, axis=0) \\\n",
    "         ) \\\n",
    "     )\n",
    "end = time.time()\n",
    "print('convert multi choice time %ss' % round(end - start, 3))\n",
    "print(\"convert multi choice dataset has %s rows and %s columns\" % (df.shape[0], df.shape[1]))\n",
    "\n",
    "full_country = df\n",
    "\n",
    "start = time.time()\n",
    "full_country_imputed = clone_impute_data(full_country, dummy_na=True, fill_technique=FILL)\n",
    "end = time.time()\n",
    "print('full_country impute time %ss' % round(end - start, 3))\n",
    "print(\"full country imputed dataset has %s rows and %s columns\" % (full_country_imputed.shape[0], full_country_imputed.shape[1]))"
   ]
  },
  {
   "cell_type": "code",
   "execution_count": 4,
   "id": "b06a9f4f-6929-41d1-8b8b-b591552a2567",
   "metadata": {},
   "outputs": [
    {
     "data": {
      "text/plain": [
       "array(['United States', 'India', 'United Kingdom', 'Germany', 'Canada'],\n",
       "      dtype=object)"
      ]
     },
     "execution_count": 4,
     "metadata": {},
     "output_type": "execute_result"
    }
   ],
   "source": [
    "countries = full_country['Country'].value_counts()\n",
    "countries_with_enough_samples = countries[countries > (country_min_sample_cutoff * row_sample_rate)].index.values\n",
    "countries_with_enough_samples"
   ]
  },
  {
   "cell_type": "code",
   "execution_count": 5,
   "id": "a9da838e-005d-4aab-90e7-5712b146f988",
   "metadata": {},
   "outputs": [
    {
     "name": "stdout",
     "output_type": "stream",
     "text": [
      "model_type=linear_regression rowset_label=full_country_United States, columnset_label=all_numeric_categerical, cutoff=5000 yield columns=293, ACC=0.832979988624024, in duration=0.6227s\n",
      "model_type=random_forest rowset_label=full_country_United States, columnset_label=all_numeric_categerical, cutoff=5000 yield columns=293, ACC=0.8389265215367909, in duration=9.2388s\n"
     ]
    },
    {
     "name": "stderr",
     "output_type": "stream",
     "text": [
      "/opt/conda/lib/python3.9/site-packages/sklearn/svm/_base.py:985: ConvergenceWarning: Liblinear failed to converge, increase the number of iterations.\n",
      "  warnings.warn(\"Liblinear failed to converge, increase \"\n"
     ]
    },
    {
     "name": "stdout",
     "output_type": "stream",
     "text": [
      "model_type=linear_svm rowset_label=full_country_United States, columnset_label=all_numeric_categerical, cutoff=5000 yield columns=293, ACC=0.7803919540824241, in duration=15.6674s\n",
      "model_type=linear_regression rowset_label=full_country_United States, columnset_label=all_numeric_categerical, cutoff=2500 yield columns=362, ACC=0.8359274005894823, in duration=0.8103s\n",
      "model_type=random_forest rowset_label=full_country_United States, columnset_label=all_numeric_categerical, cutoff=2500 yield columns=362, ACC=0.8334453694606753, in duration=10.1844s\n"
     ]
    },
    {
     "name": "stderr",
     "output_type": "stream",
     "text": [
      "/opt/conda/lib/python3.9/site-packages/sklearn/svm/_base.py:985: ConvergenceWarning: Liblinear failed to converge, increase the number of iterations.\n",
      "  warnings.warn(\"Liblinear failed to converge, increase \"\n"
     ]
    },
    {
     "name": "stdout",
     "output_type": "stream",
     "text": [
      "model_type=linear_svm rowset_label=full_country_United States, columnset_label=all_numeric_categerical, cutoff=2500 yield columns=362, ACC=0.7874243756140442, in duration=16.158s\n",
      "model_type=linear_regression rowset_label=full_country_United States, columnset_label=all_numeric_categerical, cutoff=1000 yield columns=422, ACC=0.8380991778271886, in duration=0.8619s\n",
      "model_type=random_forest rowset_label=full_country_United States, columnset_label=all_numeric_categerical, cutoff=1000 yield columns=422, ACC=0.8308599203681679, in duration=10.6348s\n"
     ]
    },
    {
     "name": "stderr",
     "output_type": "stream",
     "text": [
      "/opt/conda/lib/python3.9/site-packages/sklearn/svm/_base.py:985: ConvergenceWarning: Liblinear failed to converge, increase the number of iterations.\n",
      "  warnings.warn(\"Liblinear failed to converge, increase \"\n"
     ]
    },
    {
     "name": "stdout",
     "output_type": "stream",
     "text": [
      "model_type=linear_svm rowset_label=full_country_United States, columnset_label=all_numeric_categerical, cutoff=1000 yield columns=422, ACC=0.8023165623868866, in duration=16.3643s\n",
      "model_type=linear_regression rowset_label=full_country_United States, columnset_label=all_numeric_categerical, cutoff=500 yield columns=443, ACC=0.838254304772739, in duration=1.0257s\n",
      "model_type=random_forest rowset_label=full_country_United States, columnset_label=all_numeric_categerical, cutoff=500 yield columns=443, ACC=0.8314804281503697, in duration=11.0962s\n"
     ]
    },
    {
     "name": "stderr",
     "output_type": "stream",
     "text": [
      "/opt/conda/lib/python3.9/site-packages/sklearn/svm/_base.py:985: ConvergenceWarning: Liblinear failed to converge, increase the number of iterations.\n",
      "  warnings.warn(\"Liblinear failed to converge, increase \"\n"
     ]
    },
    {
     "name": "stdout",
     "output_type": "stream",
     "text": [
      "model_type=linear_svm rowset_label=full_country_United States, columnset_label=all_numeric_categerical, cutoff=500 yield columns=443, ACC=0.7254253063757174, in duration=16.3438s\n",
      "model_type=linear_regression rowset_label=full_country_United States, columnset_label=all_numeric_categerical, cutoff=250 yield columns=450, ACC=0.8384611407001397, in duration=0.9271s\n",
      "model_type=random_forest rowset_label=full_country_United States, columnset_label=all_numeric_categerical, cutoff=250 yield columns=450, ACC=0.8276022545116086, in duration=11.0866s\n"
     ]
    },
    {
     "name": "stderr",
     "output_type": "stream",
     "text": [
      "/opt/conda/lib/python3.9/site-packages/sklearn/svm/_base.py:985: ConvergenceWarning: Liblinear failed to converge, increase the number of iterations.\n",
      "  warnings.warn(\"Liblinear failed to converge, increase \"\n"
     ]
    },
    {
     "name": "stdout",
     "output_type": "stream",
     "text": [
      "model_type=linear_svm rowset_label=full_country_United States, columnset_label=all_numeric_categerical, cutoff=250 yield columns=450, ACC=0.7825637313201304, in duration=16.2088s\n",
      "model_type=linear_regression rowset_label=full_country_United States, columnset_label=all_numeric_categerical, cutoff=100 yield columns=452, ACC=0.8384094317182895, in duration=0.9343s\n",
      "model_type=random_forest rowset_label=full_country_United States, columnset_label=all_numeric_categerical, cutoff=100 yield columns=452, ACC=0.8319458089870211, in duration=11.0671s\n"
     ]
    },
    {
     "name": "stderr",
     "output_type": "stream",
     "text": [
      "/opt/conda/lib/python3.9/site-packages/sklearn/svm/_base.py:985: ConvergenceWarning: Liblinear failed to converge, increase the number of iterations.\n",
      "  warnings.warn(\"Liblinear failed to converge, increase \"\n"
     ]
    },
    {
     "name": "stdout",
     "output_type": "stream",
     "text": [
      "model_type=linear_svm rowset_label=full_country_United States, columnset_label=all_numeric_categerical, cutoff=100 yield columns=452, ACC=0.7802885361187238, in duration=16.3498s\n",
      "model_type=linear_regression rowset_label=full_country_India, columnset_label=all_numeric_categerical, cutoff=5000 yield columns=293, ACC=0.8886705620766328, in duration=0.6237s\n",
      "model_type=random_forest rowset_label=full_country_India, columnset_label=all_numeric_categerical, cutoff=5000 yield columns=293, ACC=0.8720202699208852, in duration=7.3838s\n"
     ]
    },
    {
     "name": "stderr",
     "output_type": "stream",
     "text": [
      "/opt/conda/lib/python3.9/site-packages/sklearn/svm/_base.py:985: ConvergenceWarning: Liblinear failed to converge, increase the number of iterations.\n",
      "  warnings.warn(\"Liblinear failed to converge, increase \"\n"
     ]
    },
    {
     "name": "stdout",
     "output_type": "stream",
     "text": [
      "model_type=linear_svm rowset_label=full_country_India, columnset_label=all_numeric_categerical, cutoff=5000 yield columns=293, ACC=0.8675732974817726, in duration=15.2157s\n",
      "model_type=linear_regression rowset_label=full_country_India, columnset_label=all_numeric_categerical, cutoff=2500 yield columns=362, ACC=0.9005119189203165, in duration=0.7464s\n",
      "model_type=random_forest rowset_label=full_country_India, columnset_label=all_numeric_categerical, cutoff=2500 yield columns=362, ACC=0.8763638243962977, in duration=8.3331s\n"
     ]
    },
    {
     "name": "stderr",
     "output_type": "stream",
     "text": [
      "/opt/conda/lib/python3.9/site-packages/sklearn/svm/_base.py:985: ConvergenceWarning: Liblinear failed to converge, increase the number of iterations.\n",
      "  warnings.warn(\"Liblinear failed to converge, increase \"\n"
     ]
    },
    {
     "name": "stdout",
     "output_type": "stream",
     "text": [
      "model_type=linear_svm rowset_label=full_country_India, columnset_label=all_numeric_categerical, cutoff=2500 yield columns=362, ACC=0.2917420755985315, in duration=16.289s\n",
      "model_type=linear_regression rowset_label=full_country_India, columnset_label=all_numeric_categerical, cutoff=1000 yield columns=422, ACC=0.9008738817932674, in duration=0.8671s\n",
      "model_type=random_forest rowset_label=full_country_India, columnset_label=all_numeric_categerical, cutoff=1000 yield columns=422, ACC=0.8776565489425513, in duration=8.6427s\n"
     ]
    },
    {
     "name": "stderr",
     "output_type": "stream",
     "text": [
      "/opt/conda/lib/python3.9/site-packages/sklearn/svm/_base.py:985: ConvergenceWarning: Liblinear failed to converge, increase the number of iterations.\n",
      "  warnings.warn(\"Liblinear failed to converge, increase \"\n"
     ]
    },
    {
     "name": "stdout",
     "output_type": "stream",
     "text": [
      "model_type=linear_svm rowset_label=full_country_India, columnset_label=all_numeric_categerical, cutoff=1000 yield columns=422, ACC=0.676146646672527, in duration=16.52s\n",
      "model_type=linear_regression rowset_label=full_country_India, columnset_label=all_numeric_categerical, cutoff=500 yield columns=443, ACC=0.9005119189203165, in duration=0.9895s\n",
      "model_type=random_forest rowset_label=full_country_India, columnset_label=all_numeric_categerical, cutoff=500 yield columns=443, ACC=0.8773462950514505, in duration=8.9241s\n"
     ]
    },
    {
     "name": "stderr",
     "output_type": "stream",
     "text": [
      "/opt/conda/lib/python3.9/site-packages/sklearn/svm/_base.py:985: ConvergenceWarning: Liblinear failed to converge, increase the number of iterations.\n",
      "  warnings.warn(\"Liblinear failed to converge, increase \"\n"
     ]
    },
    {
     "name": "stdout",
     "output_type": "stream",
     "text": [
      "model_type=linear_svm rowset_label=full_country_India, columnset_label=all_numeric_categerical, cutoff=500 yield columns=443, ACC=0.3976937794094834, in duration=16.5951s\n",
      "model_type=linear_regression rowset_label=full_country_India, columnset_label=all_numeric_categerical, cutoff=250 yield columns=450, ACC=0.9005636279021666, in duration=1.0987s\n",
      "model_type=random_forest rowset_label=full_country_India, columnset_label=all_numeric_categerical, cutoff=250 yield columns=450, ACC=0.8731578675215885, in duration=9.4509s\n"
     ]
    },
    {
     "name": "stderr",
     "output_type": "stream",
     "text": [
      "/opt/conda/lib/python3.9/site-packages/sklearn/svm/_base.py:985: ConvergenceWarning: Liblinear failed to converge, increase the number of iterations.\n",
      "  warnings.warn(\"Liblinear failed to converge, increase \"\n"
     ]
    },
    {
     "name": "stdout",
     "output_type": "stream",
     "text": [
      "model_type=linear_svm rowset_label=full_country_India, columnset_label=all_numeric_categerical, cutoff=250 yield columns=450, ACC=0.8054191012978954, in duration=17.3357s\n",
      "model_type=linear_regression rowset_label=full_country_India, columnset_label=all_numeric_categerical, cutoff=100 yield columns=452, ACC=0.9004602099384663, in duration=0.9976s\n",
      "model_type=random_forest rowset_label=full_country_India, columnset_label=all_numeric_categerical, cutoff=100 yield columns=452, ACC=0.8757433166140959, in duration=9.2264s\n"
     ]
    },
    {
     "name": "stderr",
     "output_type": "stream",
     "text": [
      "/opt/conda/lib/python3.9/site-packages/sklearn/svm/_base.py:985: ConvergenceWarning: Liblinear failed to converge, increase the number of iterations.\n",
      "  warnings.warn(\"Liblinear failed to converge, increase \"\n"
     ]
    },
    {
     "name": "stdout",
     "output_type": "stream",
     "text": [
      "model_type=linear_svm rowset_label=full_country_India, columnset_label=all_numeric_categerical, cutoff=100 yield columns=452, ACC=0.8579554268576451, in duration=18.4887s\n",
      "model_type=linear_regression rowset_label=full_country_United Kingdom, columnset_label=all_numeric_categerical, cutoff=5000 yield columns=293, ACC=0.9415171415274833, in duration=0.6462s\n",
      "model_type=random_forest rowset_label=full_country_United Kingdom, columnset_label=all_numeric_categerical, cutoff=5000 yield columns=293, ACC=0.9415171415274833, in duration=8.9916s\n"
     ]
    },
    {
     "name": "stderr",
     "output_type": "stream",
     "text": [
      "/opt/conda/lib/python3.9/site-packages/sklearn/svm/_base.py:985: ConvergenceWarning: Liblinear failed to converge, increase the number of iterations.\n",
      "  warnings.warn(\"Liblinear failed to converge, increase \"\n"
     ]
    },
    {
     "name": "stdout",
     "output_type": "stream",
     "text": [
      "model_type=linear_svm rowset_label=full_country_United Kingdom, columnset_label=all_numeric_categerical, cutoff=5000 yield columns=293, ACC=0.9414654325456332, in duration=16.0159s\n",
      "model_type=linear_regression rowset_label=full_country_United Kingdom, columnset_label=all_numeric_categerical, cutoff=2500 yield columns=362, ACC=0.9415171415274833, in duration=0.768s\n",
      "model_type=random_forest rowset_label=full_country_United Kingdom, columnset_label=all_numeric_categerical, cutoff=2500 yield columns=362, ACC=0.9415171415274833, in duration=10.376s\n"
     ]
    },
    {
     "name": "stderr",
     "output_type": "stream",
     "text": [
      "/opt/conda/lib/python3.9/site-packages/sklearn/svm/_base.py:985: ConvergenceWarning: Liblinear failed to converge, increase the number of iterations.\n",
      "  warnings.warn(\"Liblinear failed to converge, increase \"\n"
     ]
    },
    {
     "name": "stdout",
     "output_type": "stream",
     "text": [
      "model_type=linear_svm rowset_label=full_country_United Kingdom, columnset_label=all_numeric_categerical, cutoff=2500 yield columns=362, ACC=0.9415171415274833, in duration=17.9687s\n",
      "model_type=linear_regression rowset_label=full_country_United Kingdom, columnset_label=all_numeric_categerical, cutoff=1000 yield columns=422, ACC=0.9415171415274833, in duration=0.8364s\n",
      "model_type=random_forest rowset_label=full_country_United Kingdom, columnset_label=all_numeric_categerical, cutoff=1000 yield columns=422, ACC=0.9415171415274833, in duration=1767.2959s\n"
     ]
    },
    {
     "name": "stderr",
     "output_type": "stream",
     "text": [
      "/opt/conda/lib/python3.9/site-packages/sklearn/svm/_base.py:985: ConvergenceWarning: Liblinear failed to converge, increase the number of iterations.\n",
      "  warnings.warn(\"Liblinear failed to converge, increase \"\n"
     ]
    },
    {
     "name": "stdout",
     "output_type": "stream",
     "text": [
      "model_type=linear_svm rowset_label=full_country_United Kingdom, columnset_label=all_numeric_categerical, cutoff=1000 yield columns=422, ACC=0.9399141630901288, in duration=20.1183s\n",
      "model_type=linear_regression rowset_label=full_country_United Kingdom, columnset_label=all_numeric_categerical, cutoff=500 yield columns=443, ACC=0.9415171415274833, in duration=0.9727s\n",
      "model_type=random_forest rowset_label=full_country_United Kingdom, columnset_label=all_numeric_categerical, cutoff=500 yield columns=443, ACC=0.9415171415274833, in duration=2683.0125s\n"
     ]
    },
    {
     "name": "stderr",
     "output_type": "stream",
     "text": [
      "/opt/conda/lib/python3.9/site-packages/sklearn/svm/_base.py:985: ConvergenceWarning: Liblinear failed to converge, increase the number of iterations.\n",
      "  warnings.warn(\"Liblinear failed to converge, increase \"\n"
     ]
    },
    {
     "name": "stdout",
     "output_type": "stream",
     "text": [
      "model_type=linear_svm rowset_label=full_country_United Kingdom, columnset_label=all_numeric_categerical, cutoff=500 yield columns=443, ACC=0.9415171415274833, in duration=20.1685s\n",
      "model_type=linear_regression rowset_label=full_country_United Kingdom, columnset_label=all_numeric_categerical, cutoff=250 yield columns=450, ACC=0.9415171415274833, in duration=0.9278s\n",
      "model_type=random_forest rowset_label=full_country_United Kingdom, columnset_label=all_numeric_categerical, cutoff=250 yield columns=450, ACC=0.9415171415274833, in duration=1792.7023s\n"
     ]
    },
    {
     "name": "stderr",
     "output_type": "stream",
     "text": [
      "/opt/conda/lib/python3.9/site-packages/sklearn/svm/_base.py:985: ConvergenceWarning: Liblinear failed to converge, increase the number of iterations.\n",
      "  warnings.warn(\"Liblinear failed to converge, increase \"\n"
     ]
    },
    {
     "name": "stdout",
     "output_type": "stream",
     "text": [
      "model_type=linear_svm rowset_label=full_country_United Kingdom, columnset_label=all_numeric_categerical, cutoff=250 yield columns=450, ACC=0.9415171415274833, in duration=4390.8927s\n",
      "model_type=linear_regression rowset_label=full_country_United Kingdom, columnset_label=all_numeric_categerical, cutoff=100 yield columns=452, ACC=0.9415171415274833, in duration=0.9267s\n",
      "model_type=random_forest rowset_label=full_country_United Kingdom, columnset_label=all_numeric_categerical, cutoff=100 yield columns=452, ACC=0.9415171415274833, in duration=11.7408s\n"
     ]
    },
    {
     "name": "stderr",
     "output_type": "stream",
     "text": [
      "/opt/conda/lib/python3.9/site-packages/sklearn/svm/_base.py:985: ConvergenceWarning: Liblinear failed to converge, increase the number of iterations.\n",
      "  warnings.warn(\"Liblinear failed to converge, increase \"\n"
     ]
    },
    {
     "name": "stdout",
     "output_type": "stream",
     "text": [
      "model_type=linear_svm rowset_label=full_country_United Kingdom, columnset_label=all_numeric_categerical, cutoff=100 yield columns=452, ACC=0.9349501008325146, in duration=17.5375s\n",
      "model_type=linear_regression rowset_label=full_country_Germany, columnset_label=all_numeric_categerical, cutoff=5000 yield columns=293, ACC=0.9401209990175293, in duration=0.614s\n",
      "model_type=random_forest rowset_label=full_country_Germany, columnset_label=all_numeric_categerical, cutoff=5000 yield columns=293, ACC=0.9401209990175293, in duration=8.4573s\n"
     ]
    },
    {
     "name": "stderr",
     "output_type": "stream",
     "text": [
      "/opt/conda/lib/python3.9/site-packages/sklearn/svm/_base.py:985: ConvergenceWarning: Liblinear failed to converge, increase the number of iterations.\n",
      "  warnings.warn(\"Liblinear failed to converge, increase \"\n"
     ]
    },
    {
     "name": "stdout",
     "output_type": "stream",
     "text": [
      "model_type=linear_svm rowset_label=full_country_Germany, columnset_label=all_numeric_categerical, cutoff=5000 yield columns=293, ACC=0.9401209990175293, in duration=16.6994s\n",
      "model_type=linear_regression rowset_label=full_country_Germany, columnset_label=all_numeric_categerical, cutoff=2500 yield columns=362, ACC=0.9401209990175293, in duration=0.7704s\n",
      "model_type=random_forest rowset_label=full_country_Germany, columnset_label=all_numeric_categerical, cutoff=2500 yield columns=362, ACC=0.9401209990175293, in duration=9.5908s\n"
     ]
    },
    {
     "name": "stderr",
     "output_type": "stream",
     "text": [
      "/opt/conda/lib/python3.9/site-packages/sklearn/svm/_base.py:985: ConvergenceWarning: Liblinear failed to converge, increase the number of iterations.\n",
      "  warnings.warn(\"Liblinear failed to converge, increase \"\n"
     ]
    },
    {
     "name": "stdout",
     "output_type": "stream",
     "text": [
      "model_type=linear_svm rowset_label=full_country_Germany, columnset_label=all_numeric_categerical, cutoff=2500 yield columns=362, ACC=0.9401209990175293, in duration=17.9125s\n",
      "model_type=linear_regression rowset_label=full_country_Germany, columnset_label=all_numeric_categerical, cutoff=1000 yield columns=422, ACC=0.9401209990175293, in duration=1.0326s\n",
      "model_type=random_forest rowset_label=full_country_Germany, columnset_label=all_numeric_categerical, cutoff=1000 yield columns=422, ACC=0.9401209990175293, in duration=9.9894s\n"
     ]
    },
    {
     "name": "stderr",
     "output_type": "stream",
     "text": [
      "/opt/conda/lib/python3.9/site-packages/sklearn/svm/_base.py:985: ConvergenceWarning: Liblinear failed to converge, increase the number of iterations.\n",
      "  warnings.warn(\"Liblinear failed to converge, increase \"\n"
     ]
    },
    {
     "name": "stdout",
     "output_type": "stream",
     "text": [
      "model_type=linear_svm rowset_label=full_country_Germany, columnset_label=all_numeric_categerical, cutoff=1000 yield columns=422, ACC=0.9401209990175293, in duration=19.0809s\n",
      "model_type=linear_regression rowset_label=full_country_Germany, columnset_label=all_numeric_categerical, cutoff=500 yield columns=443, ACC=0.9401209990175293, in duration=1.1006s\n",
      "model_type=random_forest rowset_label=full_country_Germany, columnset_label=all_numeric_categerical, cutoff=500 yield columns=443, ACC=0.9401209990175293, in duration=11.163s\n"
     ]
    },
    {
     "name": "stderr",
     "output_type": "stream",
     "text": [
      "/opt/conda/lib/python3.9/site-packages/sklearn/svm/_base.py:985: ConvergenceWarning: Liblinear failed to converge, increase the number of iterations.\n",
      "  warnings.warn(\"Liblinear failed to converge, increase \"\n"
     ]
    },
    {
     "name": "stdout",
     "output_type": "stream",
     "text": [
      "model_type=linear_svm rowset_label=full_country_Germany, columnset_label=all_numeric_categerical, cutoff=500 yield columns=443, ACC=0.9400692900356792, in duration=21.0625s\n",
      "model_type=linear_regression rowset_label=full_country_Germany, columnset_label=all_numeric_categerical, cutoff=250 yield columns=450, ACC=0.9401209990175293, in duration=1.17s\n",
      "model_type=random_forest rowset_label=full_country_Germany, columnset_label=all_numeric_categerical, cutoff=250 yield columns=450, ACC=0.9401209990175293, in duration=11.1779s\n"
     ]
    },
    {
     "name": "stderr",
     "output_type": "stream",
     "text": [
      "/opt/conda/lib/python3.9/site-packages/sklearn/svm/_base.py:985: ConvergenceWarning: Liblinear failed to converge, increase the number of iterations.\n",
      "  warnings.warn(\"Liblinear failed to converge, increase \"\n"
     ]
    },
    {
     "name": "stdout",
     "output_type": "stream",
     "text": [
      "model_type=linear_svm rowset_label=full_country_Germany, columnset_label=all_numeric_categerical, cutoff=250 yield columns=450, ACC=0.9132323284554527, in duration=19.4679s\n",
      "model_type=linear_regression rowset_label=full_country_Germany, columnset_label=all_numeric_categerical, cutoff=100 yield columns=452, ACC=0.9401209990175293, in duration=1.0742s\n",
      "model_type=random_forest rowset_label=full_country_Germany, columnset_label=all_numeric_categerical, cutoff=100 yield columns=452, ACC=0.9401209990175293, in duration=10.9261s\n"
     ]
    },
    {
     "name": "stderr",
     "output_type": "stream",
     "text": [
      "/opt/conda/lib/python3.9/site-packages/sklearn/svm/_base.py:985: ConvergenceWarning: Liblinear failed to converge, increase the number of iterations.\n",
      "  warnings.warn(\"Liblinear failed to converge, increase \"\n"
     ]
    },
    {
     "name": "stdout",
     "output_type": "stream",
     "text": [
      "model_type=linear_svm rowset_label=full_country_Germany, columnset_label=all_numeric_categerical, cutoff=100 yield columns=452, ACC=0.9400692900356792, in duration=20.6491s\n",
      "model_type=linear_regression rowset_label=full_country_Canada, columnset_label=all_numeric_categerical, cutoff=5000 yield columns=293, ACC=0.965613527069652, in duration=0.7784s\n",
      "model_type=random_forest rowset_label=full_country_Canada, columnset_label=all_numeric_categerical, cutoff=5000 yield columns=293, ACC=0.965613527069652, in duration=9.3121s\n"
     ]
    },
    {
     "name": "stderr",
     "output_type": "stream",
     "text": [
      "/opt/conda/lib/python3.9/site-packages/sklearn/svm/_base.py:985: ConvergenceWarning: Liblinear failed to converge, increase the number of iterations.\n",
      "  warnings.warn(\"Liblinear failed to converge, increase \"\n"
     ]
    },
    {
     "name": "stdout",
     "output_type": "stream",
     "text": [
      "model_type=linear_svm rowset_label=full_country_Canada, columnset_label=all_numeric_categerical, cutoff=5000 yield columns=293, ACC=0.9424996121826361, in duration=18.8914s\n",
      "model_type=linear_regression rowset_label=full_country_Canada, columnset_label=all_numeric_categerical, cutoff=2500 yield columns=362, ACC=0.965613527069652, in duration=0.972s\n",
      "model_type=random_forest rowset_label=full_country_Canada, columnset_label=all_numeric_categerical, cutoff=2500 yield columns=362, ACC=0.965613527069652, in duration=10.1212s\n"
     ]
    },
    {
     "name": "stderr",
     "output_type": "stream",
     "text": [
      "/opt/conda/lib/python3.9/site-packages/sklearn/svm/_base.py:985: ConvergenceWarning: Liblinear failed to converge, increase the number of iterations.\n",
      "  warnings.warn(\"Liblinear failed to converge, increase \"\n"
     ]
    },
    {
     "name": "stdout",
     "output_type": "stream",
     "text": [
      "model_type=linear_svm rowset_label=full_country_Canada, columnset_label=all_numeric_categerical, cutoff=2500 yield columns=362, ACC=0.965613527069652, in duration=20.3648s\n",
      "model_type=linear_regression rowset_label=full_country_Canada, columnset_label=all_numeric_categerical, cutoff=1000 yield columns=422, ACC=0.965613527069652, in duration=1.0462s\n",
      "model_type=random_forest rowset_label=full_country_Canada, columnset_label=all_numeric_categerical, cutoff=1000 yield columns=422, ACC=0.965613527069652, in duration=10.851s\n"
     ]
    },
    {
     "name": "stderr",
     "output_type": "stream",
     "text": [
      "/opt/conda/lib/python3.9/site-packages/sklearn/svm/_base.py:985: ConvergenceWarning: Liblinear failed to converge, increase the number of iterations.\n",
      "  warnings.warn(\"Liblinear failed to converge, increase \"\n"
     ]
    },
    {
     "name": "stdout",
     "output_type": "stream",
     "text": [
      "model_type=linear_svm rowset_label=full_country_Canada, columnset_label=all_numeric_categerical, cutoff=1000 yield columns=422, ACC=0.9503076684420084, in duration=22.0508s\n",
      "model_type=linear_regression rowset_label=full_country_Canada, columnset_label=all_numeric_categerical, cutoff=500 yield columns=443, ACC=0.965613527069652, in duration=1.2312s\n",
      "model_type=random_forest rowset_label=full_country_Canada, columnset_label=all_numeric_categerical, cutoff=500 yield columns=443, ACC=0.965613527069652, in duration=11.6712s\n"
     ]
    },
    {
     "name": "stderr",
     "output_type": "stream",
     "text": [
      "/opt/conda/lib/python3.9/site-packages/sklearn/svm/_base.py:985: ConvergenceWarning: Liblinear failed to converge, increase the number of iterations.\n",
      "  warnings.warn(\"Liblinear failed to converge, increase \"\n"
     ]
    },
    {
     "name": "stdout",
     "output_type": "stream",
     "text": [
      "model_type=linear_svm rowset_label=full_country_Canada, columnset_label=all_numeric_categerical, cutoff=500 yield columns=443, ACC=0.9461192409121464, in duration=21.2707s\n",
      "model_type=linear_regression rowset_label=full_country_Canada, columnset_label=all_numeric_categerical, cutoff=250 yield columns=450, ACC=0.965613527069652, in duration=1.1413s\n",
      "model_type=random_forest rowset_label=full_country_Canada, columnset_label=all_numeric_categerical, cutoff=250 yield columns=450, ACC=0.965613527069652, in duration=11.6111s\n"
     ]
    },
    {
     "name": "stderr",
     "output_type": "stream",
     "text": [
      "/opt/conda/lib/python3.9/site-packages/sklearn/svm/_base.py:985: ConvergenceWarning: Liblinear failed to converge, increase the number of iterations.\n",
      "  warnings.warn(\"Liblinear failed to converge, increase \"\n"
     ]
    },
    {
     "name": "stdout",
     "output_type": "stream",
     "text": [
      "model_type=linear_svm rowset_label=full_country_Canada, columnset_label=all_numeric_categerical, cutoff=250 yield columns=450, ACC=0.9623558612130927, in duration=20.3869s\n",
      "model_type=linear_regression rowset_label=full_country_Canada, columnset_label=all_numeric_categerical, cutoff=100 yield columns=452, ACC=0.965613527069652, in duration=1.2505s\n",
      "model_type=random_forest rowset_label=full_country_Canada, columnset_label=all_numeric_categerical, cutoff=100 yield columns=452, ACC=0.965613527069652, in duration=11.4731s\n",
      "model_type=linear_svm rowset_label=full_country_Canada, columnset_label=all_numeric_categerical, cutoff=100 yield columns=452, ACC=0.9583225606287812, in duration=21.0284s\n"
     ]
    },
    {
     "name": "stderr",
     "output_type": "stream",
     "text": [
      "/opt/conda/lib/python3.9/site-packages/sklearn/svm/_base.py:985: ConvergenceWarning: Liblinear failed to converge, increase the number of iterations.\n",
      "  warnings.warn(\"Liblinear failed to converge, increase \"\n"
     ]
    }
   ],
   "source": [
    "results = []\n",
    "for country in countries_with_enough_samples:\n",
    "    country_results = predict_country( \\\n",
    "        rowset_label='full_country_%s' % country, \\\n",
    "        columnset_label='all_numeric_categerical', \\\n",
    "        imputed_df=full_country_imputed, \\\n",
    "        cutoffs=cutoffs, \\\n",
    "        country_to_classify=country, \\\n",
    "        row_sample_rate=row_sample_rate \\\n",
    "    )\n",
    "    results.extend(country_results)"
   ]
  },
  {
   "cell_type": "code",
   "execution_count": 6,
   "id": "5f663f0b-6e39-4cfc-bd3e-4de31550a912",
   "metadata": {},
   "outputs": [],
   "source": [
    "# result_df = pd.DataFrame(data=results).set_index(['rowset_label', 'columnset_label', 'country', 'cutoff'])\n",
    "result_df = pd.DataFrame(data=results).set_index(['country', 'cutoff'])\n",
    "for to_round in ['TPR', 'TNR', 'PPV', 'NPV', 'ACC', 'duration']:\n",
    "    result_df[to_round] = result_df[to_round].map(lambda x: round(x,3))\n",
    "\n",
    "result_df.drop(columns=['X_columns', 'coefficients']).sort_values('ACC')\n",
    "\n",
    "with open('./pickles/latest_results.pkl', 'wb') as f:\n",
    "    pickle.dump(result_df, f)\n",
    "\n",
    "cutoff_string = '-'.join(map(str, cutoffs))\n",
    "dataset_name = 'full_country_row_sample_rate_%s_country_min_sample_cutoff_%s_cutoffs_%s_results.pkl' % (row_sample_rate, country_min_sample_cutoff, cutoff_string)\n",
    "with open('./pickles/%s.pkl' % dataset_name, 'wb') as f:\n",
    "    pickle.dump(result_df, f)\n"
   ]
  },
  {
   "cell_type": "code",
   "execution_count": 7,
   "id": "a2f91171-a1c8-4b1e-923b-882267e838d1",
   "metadata": {},
   "outputs": [
    {
     "name": "stdout",
     "output_type": "stream",
     "text": [
      "script duration 11467.406s\n"
     ]
    }
   ],
   "source": [
    "script_end = time.time()\n",
    "print('script duration %ss' % round(script_end - start, 3))"
   ]
  },
  {
   "cell_type": "code",
   "execution_count": null,
   "id": "d4d265ac-0d5f-4b6a-ba98-98c0432a7bad",
   "metadata": {},
   "outputs": [],
   "source": []
  }
 ],
 "metadata": {
  "kernelspec": {
   "display_name": "Python 3",
   "language": "python",
   "name": "python3"
  },
  "language_info": {
   "codemirror_mode": {
    "name": "ipython",
    "version": 3
   },
   "file_extension": ".py",
   "mimetype": "text/x-python",
   "name": "python",
   "nbconvert_exporter": "python",
   "pygments_lexer": "ipython3",
   "version": "3.9.5"
  }
 },
 "nbformat": 4,
 "nbformat_minor": 5
}
