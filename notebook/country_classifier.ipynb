{
 "cells": [
  {
   "cell_type": "code",
   "execution_count": 1,
   "id": "24a5156b-b84f-4b37-81a2-6fcaff091a0b",
   "metadata": {},
   "outputs": [],
   "source": [
    "row_sample_rate = 1\n",
    "country_min_sample_cutoff = 1200\n",
    "DUMMY_NA = True\n",
    "FILL=\"Mean\"\n",
    "cutoffs = [5000, 2500, 1000, 500, 250, 100]\n"
   ]
  },
  {
   "cell_type": "code",
   "execution_count": 2,
   "id": "4b540d18-dd73-444f-87a1-1421d177f60f",
   "metadata": {},
   "outputs": [],
   "source": [
    "import numpy as np\n",
    "import pandas as pd\n",
    "import time\n",
    "import pickle\n",
    "\n",
    "from helpers import clone_drop_and_convert, clone_and_convert_multiple_choice_columns, clone_impute_data, perf_measures, round_decision, reduce_dataframe_using_min_non_null, get_coefficent_weights\n",
    "from models import apply_linear_regression_model\n",
    "from predict_country import predict_country\n",
    "\n",
    "# Developer note: If you modify the modules above, the changes to those modules will not be reflected until you \n",
    "# re-execute this cell, specifically the reload commands\n",
    "# TODO this doesn't work yet\n",
    "# import reload\n",
    "# reload(clone_drop_and_convert)\n",
    "# reload(models)\n",
    "\n",
    "pd.options.display.max_rows = 2000\n",
    "pd.options.display.max_columns = 1000\n",
    "pd.options.display.max_colwidth = 255\n",
    "\n",
    "script_start = time.time()\n",
    "\n",
    "raw_df = pd.read_csv('./assets/survey_results_public.csv')\n",
    "schema = pd.read_csv('./assets/survey_results_schema.csv')"
   ]
  },
  {
   "cell_type": "code",
   "execution_count": 3,
   "id": "355aad10-cb31-43cb-a2ed-fca578236c98",
   "metadata": {},
   "outputs": [
    {
     "name": "stdout",
     "output_type": "stream",
     "text": [
      "convert multi choice time 39.08s\n",
      "convert multi choice dataset has 64461 rows and 369 columns\n",
      "full_country impute time 0.737s\n",
      "full country imputed dataset has 64461 rows and 454 columns\n"
     ]
    }
   ],
   "source": [
    "start = time.time()\n",
    "\n",
    "df = clone_and_convert_multiple_choice_columns( \\\n",
    "         clone_drop_and_convert( \\\n",
    "             raw_df.sample(frac=row_sample_rate, axis=0) \\\n",
    "         ) \\\n",
    "     )\n",
    "end = time.time()\n",
    "print('convert multi choice time %ss' % round(end - start, 3))\n",
    "print(\"convert multi choice dataset has %s rows and %s columns\" % (df.shape[0], df.shape[1]))\n",
    "\n",
    "full_country = df\n",
    "\n",
    "start = time.time()\n",
    "full_country_imputed = clone_impute_data(full_country, dummy_na=True, fill_technique=FILL)\n",
    "end = time.time()\n",
    "print('full_country impute time %ss' % round(end - start, 3))\n",
    "print(\"full country imputed dataset has %s rows and %s columns\" % (full_country_imputed.shape[0], full_country_imputed.shape[1]))"
   ]
  },
  {
   "cell_type": "code",
   "execution_count": 4,
   "id": "b06a9f4f-6929-41d1-8b8b-b591552a2567",
   "metadata": {},
   "outputs": [
    {
     "data": {
      "text/plain": [
       "array(['United States', 'India', 'United Kingdom', 'Germany', 'Canada',\n",
       "       'France', 'Brazil', 'Netherlands', 'Poland', 'Australia'],\n",
       "      dtype=object)"
      ]
     },
     "execution_count": 4,
     "metadata": {},
     "output_type": "execute_result"
    }
   ],
   "source": [
    "countries = full_country['Country'].value_counts()\n",
    "countries_with_enough_samples = countries[countries > (country_min_sample_cutoff * row_sample_rate)].index.values\n",
    "countries_with_enough_samples"
   ]
  },
  {
   "cell_type": "code",
   "execution_count": 5,
   "id": "a9da838e-005d-4aab-90e7-5712b146f988",
   "metadata": {},
   "outputs": [
    {
     "name": "stdout",
     "output_type": "stream",
     "text": [
      "model_type=linear_regression rowset_label=full_country_United States, columnset_label=all_numeric_categerical, cutoff=5000 yield columns=293, ACC=0.8302911215678164, in duration=0.6762s\n",
      "model_type=random_forest rowset_label=full_country_United States, columnset_label=all_numeric_categerical, cutoff=5000 yield columns=293, ACC=0.8334970784425255, in duration=9.412s\n"
     ]
    },
    {
     "name": "stderr",
     "output_type": "stream",
     "text": [
      "/opt/conda/lib/python3.9/site-packages/sklearn/svm/_base.py:985: ConvergenceWarning: Liblinear failed to converge, increase the number of iterations.\n",
      "  warnings.warn(\"Liblinear failed to converge, increase \"\n"
     ]
    },
    {
     "name": "stdout",
     "output_type": "stream",
     "text": [
      "model_type=linear_svm rowset_label=full_country_United States, columnset_label=all_numeric_categerical, cutoff=5000 yield columns=293, ACC=0.7694296499301929, in duration=16.8224s\n",
      "model_type=linear_regression rowset_label=full_country_United States, columnset_label=all_numeric_categerical, cutoff=2500 yield columns=362, ACC=0.8322560628781219, in duration=0.7799s\n",
      "model_type=random_forest rowset_label=full_country_United States, columnset_label=all_numeric_categerical, cutoff=2500 yield columns=362, ACC=0.8317906820414706, in duration=10.486s\n"
     ]
    },
    {
     "name": "stderr",
     "output_type": "stream",
     "text": [
      "/opt/conda/lib/python3.9/site-packages/sklearn/svm/_base.py:985: ConvergenceWarning: Liblinear failed to converge, increase the number of iterations.\n",
      "  warnings.warn(\"Liblinear failed to converge, increase \"\n"
     ]
    },
    {
     "name": "stdout",
     "output_type": "stream",
     "text": [
      "model_type=linear_svm rowset_label=full_country_United States, columnset_label=all_numeric_categerical, cutoff=2500 yield columns=362, ACC=0.7892858989606495, in duration=18.5463s\n",
      "model_type=linear_regression rowset_label=full_country_United States, columnset_label=all_numeric_categerical, cutoff=1000 yield columns=422, ACC=0.8340658772428771, in duration=0.9947s\n",
      "model_type=random_forest rowset_label=full_country_United States, columnset_label=all_numeric_categerical, cutoff=1000 yield columns=422, ACC=0.8270851646931072, in duration=11.0652s\n"
     ]
    },
    {
     "name": "stderr",
     "output_type": "stream",
     "text": [
      "/opt/conda/lib/python3.9/site-packages/sklearn/svm/_base.py:985: ConvergenceWarning: Liblinear failed to converge, increase the number of iterations.\n",
      "  warnings.warn(\"Liblinear failed to converge, increase \"\n"
     ]
    },
    {
     "name": "stdout",
     "output_type": "stream",
     "text": [
      "model_type=linear_svm rowset_label=full_country_United States, columnset_label=all_numeric_categerical, cutoff=1000 yield columns=422, ACC=0.7432649051140183, in duration=18.5615s\n",
      "model_type=linear_regression rowset_label=full_country_United States, columnset_label=all_numeric_categerical, cutoff=500 yield columns=443, ACC=0.8328765706603237, in duration=1.0407s\n",
      "model_type=random_forest rowset_label=full_country_United States, columnset_label=all_numeric_categerical, cutoff=500 yield columns=443, ACC=0.8288432700760122, in duration=11.4953s\n"
     ]
    },
    {
     "name": "stderr",
     "output_type": "stream",
     "text": [
      "/opt/conda/lib/python3.9/site-packages/sklearn/svm/_base.py:985: ConvergenceWarning: Liblinear failed to converge, increase the number of iterations.\n",
      "  warnings.warn(\"Liblinear failed to converge, increase \"\n"
     ]
    },
    {
     "name": "stdout",
     "output_type": "stream",
     "text": [
      "model_type=linear_svm rowset_label=full_country_United States, columnset_label=all_numeric_categerical, cutoff=500 yield columns=443, ACC=0.7691711050209421, in duration=18.9311s\n",
      "model_type=linear_regression rowset_label=full_country_United States, columnset_label=all_numeric_categerical, cutoff=250 yield columns=450, ACC=0.8331868245514246, in duration=0.9742s\n",
      "model_type=random_forest rowset_label=full_country_United States, columnset_label=all_numeric_categerical, cutoff=250 yield columns=450, ACC=0.8283778892393608, in duration=11.3699s\n"
     ]
    },
    {
     "name": "stderr",
     "output_type": "stream",
     "text": [
      "/opt/conda/lib/python3.9/site-packages/sklearn/svm/_base.py:985: ConvergenceWarning: Liblinear failed to converge, increase the number of iterations.\n",
      "  warnings.warn(\"Liblinear failed to converge, increase \"\n"
     ]
    },
    {
     "name": "stdout",
     "output_type": "stream",
     "text": [
      "model_type=linear_svm rowset_label=full_country_United States, columnset_label=all_numeric_categerical, cutoff=250 yield columns=450, ACC=0.6721650550700656, in duration=17.7498s\n",
      "model_type=linear_regression rowset_label=full_country_United States, columnset_label=all_numeric_categerical, cutoff=100 yield columns=452, ACC=0.8331868245514246, in duration=1.0305s\n",
      "model_type=random_forest rowset_label=full_country_United States, columnset_label=all_numeric_categerical, cutoff=100 yield columns=452, ACC=0.82806763534826, in duration=11.386s\n"
     ]
    },
    {
     "name": "stderr",
     "output_type": "stream",
     "text": [
      "/opt/conda/lib/python3.9/site-packages/sklearn/svm/_base.py:985: ConvergenceWarning: Liblinear failed to converge, increase the number of iterations.\n",
      "  warnings.warn(\"Liblinear failed to converge, increase \"\n"
     ]
    },
    {
     "name": "stdout",
     "output_type": "stream",
     "text": [
      "model_type=linear_svm rowset_label=full_country_United States, columnset_label=all_numeric_categerical, cutoff=100 yield columns=452, ACC=0.7846837995759863, in duration=18.9985s\n",
      "model_type=linear_regression rowset_label=full_country_India, columnset_label=all_numeric_categerical, cutoff=5000 yield columns=293, ACC=0.8907906303324887, in duration=0.6361s\n",
      "model_type=random_forest rowset_label=full_country_India, columnset_label=all_numeric_categerical, cutoff=5000 yield columns=293, ACC=0.8747608459589431, in duration=7.9992s\n"
     ]
    },
    {
     "name": "stderr",
     "output_type": "stream",
     "text": [
      "/opt/conda/lib/python3.9/site-packages/sklearn/svm/_base.py:985: ConvergenceWarning: Liblinear failed to converge, increase the number of iterations.\n",
      "  warnings.warn(\"Liblinear failed to converge, increase \"\n"
     ]
    },
    {
     "name": "stdout",
     "output_type": "stream",
     "text": [
      "model_type=linear_svm rowset_label=full_country_India, columnset_label=all_numeric_categerical, cutoff=5000 yield columns=293, ACC=0.6695796059775583, in duration=17.5484s\n",
      "model_type=linear_regression rowset_label=full_country_India, columnset_label=all_numeric_categerical, cutoff=2500 yield columns=362, ACC=0.9006670458658669, in duration=0.8464s\n",
      "model_type=random_forest rowset_label=full_country_India, columnset_label=all_numeric_categerical, cutoff=2500 yield columns=362, ACC=0.8816898495268628, in duration=8.5949s\n"
     ]
    },
    {
     "name": "stderr",
     "output_type": "stream",
     "text": [
      "/opt/conda/lib/python3.9/site-packages/sklearn/svm/_base.py:985: ConvergenceWarning: Liblinear failed to converge, increase the number of iterations.\n",
      "  warnings.warn(\"Liblinear failed to converge, increase \"\n"
     ]
    },
    {
     "name": "stdout",
     "output_type": "stream",
     "text": [
      "model_type=linear_svm rowset_label=full_country_India, columnset_label=all_numeric_categerical, cutoff=2500 yield columns=362, ACC=0.8688660220280263, in duration=18.6394s\n",
      "model_type=linear_regression rowset_label=full_country_India, columnset_label=all_numeric_categerical, cutoff=1000 yield columns=422, ACC=0.9010807177206681, in duration=0.9364s\n",
      "model_type=random_forest rowset_label=full_country_India, columnset_label=all_numeric_categerical, cutoff=1000 yield columns=422, ACC=0.8816381405450127, in duration=8.9676s\n"
     ]
    },
    {
     "name": "stderr",
     "output_type": "stream",
     "text": [
      "/opt/conda/lib/python3.9/site-packages/sklearn/svm/_base.py:985: ConvergenceWarning: Liblinear failed to converge, increase the number of iterations.\n",
      "  warnings.warn(\"Liblinear failed to converge, increase \"\n"
     ]
    },
    {
     "name": "stdout",
     "output_type": "stream",
     "text": [
      "model_type=linear_svm rowset_label=full_country_India, columnset_label=all_numeric_categerical, cutoff=1000 yield columns=422, ACC=0.6358653498112622, in duration=19.6181s\n",
      "model_type=linear_regression rowset_label=full_country_India, columnset_label=all_numeric_categerical, cutoff=500 yield columns=443, ACC=0.9005636279021666, in duration=1.0782s\n",
      "model_type=random_forest rowset_label=full_country_India, columnset_label=all_numeric_categerical, cutoff=500 yield columns=443, ACC=0.8772945860696003, in duration=9.208s\n"
     ]
    },
    {
     "name": "stderr",
     "output_type": "stream",
     "text": [
      "/opt/conda/lib/python3.9/site-packages/sklearn/svm/_base.py:985: ConvergenceWarning: Liblinear failed to converge, increase the number of iterations.\n",
      "  warnings.warn(\"Liblinear failed to converge, increase \"\n"
     ]
    },
    {
     "name": "stdout",
     "output_type": "stream",
     "text": [
      "model_type=linear_svm rowset_label=full_country_India, columnset_label=all_numeric_categerical, cutoff=500 yield columns=443, ACC=0.7861316510677905, in duration=17.572s\n",
      "model_type=linear_regression rowset_label=full_country_India, columnset_label=all_numeric_categerical, cutoff=250 yield columns=450, ACC=0.900356791974766, in duration=0.9744s\n",
      "model_type=random_forest rowset_label=full_country_India, columnset_label=all_numeric_categerical, cutoff=250 yield columns=450, ACC=0.8786390195977041, in duration=9.0131s\n"
     ]
    },
    {
     "name": "stderr",
     "output_type": "stream",
     "text": [
      "/opt/conda/lib/python3.9/site-packages/sklearn/svm/_base.py:985: ConvergenceWarning: Liblinear failed to converge, increase the number of iterations.\n",
      "  warnings.warn(\"Liblinear failed to converge, increase \"\n"
     ]
    },
    {
     "name": "stdout",
     "output_type": "stream",
     "text": [
      "model_type=linear_svm rowset_label=full_country_India, columnset_label=all_numeric_categerical, cutoff=250 yield columns=450, ACC=0.4535911887894927, in duration=18.171s\n",
      "model_type=linear_regression rowset_label=full_country_India, columnset_label=all_numeric_categerical, cutoff=100 yield columns=452, ACC=0.9005636279021666, in duration=0.9539s\n",
      "model_type=random_forest rowset_label=full_country_India, columnset_label=all_numeric_categerical, cutoff=100 yield columns=452, ACC=0.8798800351621077, in duration=9.0801s\n"
     ]
    },
    {
     "name": "stderr",
     "output_type": "stream",
     "text": [
      "/opt/conda/lib/python3.9/site-packages/sklearn/svm/_base.py:985: ConvergenceWarning: Liblinear failed to converge, increase the number of iterations.\n",
      "  warnings.warn(\"Liblinear failed to converge, increase \"\n"
     ]
    },
    {
     "name": "stdout",
     "output_type": "stream",
     "text": [
      "model_type=linear_svm rowset_label=full_country_India, columnset_label=all_numeric_categerical, cutoff=100 yield columns=452, ACC=0.8693314028646776, in duration=17.6424s\n",
      "model_type=linear_regression rowset_label=full_country_United Kingdom, columnset_label=all_numeric_categerical, cutoff=5000 yield columns=293, ACC=0.9405863798541807, in duration=0.6392s\n",
      "model_type=random_forest rowset_label=full_country_United Kingdom, columnset_label=all_numeric_categerical, cutoff=5000 yield columns=293, ACC=0.9405863798541807, in duration=8.6491s\n"
     ]
    },
    {
     "name": "stderr",
     "output_type": "stream",
     "text": [
      "/opt/conda/lib/python3.9/site-packages/sklearn/svm/_base.py:985: ConvergenceWarning: Liblinear failed to converge, increase the number of iterations.\n",
      "  warnings.warn(\"Liblinear failed to converge, increase \"\n"
     ]
    },
    {
     "name": "stdout",
     "output_type": "stream",
     "text": [
      "model_type=linear_svm rowset_label=full_country_United Kingdom, columnset_label=all_numeric_categerical, cutoff=5000 yield columns=293, ACC=0.9405346708723306, in duration=17.1854s\n",
      "model_type=linear_regression rowset_label=full_country_United Kingdom, columnset_label=all_numeric_categerical, cutoff=2500 yield columns=362, ACC=0.9405863798541807, in duration=0.7864s\n",
      "model_type=random_forest rowset_label=full_country_United Kingdom, columnset_label=all_numeric_categerical, cutoff=2500 yield columns=362, ACC=0.9405863798541807, in duration=9.6046s\n"
     ]
    },
    {
     "name": "stderr",
     "output_type": "stream",
     "text": [
      "/opt/conda/lib/python3.9/site-packages/sklearn/svm/_base.py:985: ConvergenceWarning: Liblinear failed to converge, increase the number of iterations.\n",
      "  warnings.warn(\"Liblinear failed to converge, increase \"\n"
     ]
    },
    {
     "name": "stdout",
     "output_type": "stream",
     "text": [
      "model_type=linear_svm rowset_label=full_country_United Kingdom, columnset_label=all_numeric_categerical, cutoff=2500 yield columns=362, ACC=0.936139407415068, in duration=17.4851s\n",
      "model_type=linear_regression rowset_label=full_country_United Kingdom, columnset_label=all_numeric_categerical, cutoff=1000 yield columns=422, ACC=0.9405863798541807, in duration=0.8827s\n",
      "model_type=random_forest rowset_label=full_country_United Kingdom, columnset_label=all_numeric_categerical, cutoff=1000 yield columns=422, ACC=0.9405863798541807, in duration=10.1559s\n"
     ]
    },
    {
     "name": "stderr",
     "output_type": "stream",
     "text": [
      "/opt/conda/lib/python3.9/site-packages/sklearn/svm/_base.py:985: ConvergenceWarning: Liblinear failed to converge, increase the number of iterations.\n",
      "  warnings.warn(\"Liblinear failed to converge, increase \"\n"
     ]
    },
    {
     "name": "stdout",
     "output_type": "stream",
     "text": [
      "model_type=linear_svm rowset_label=full_country_United Kingdom, columnset_label=all_numeric_categerical, cutoff=1000 yield columns=422, ACC=0.9134908733647035, in duration=17.3116s\n",
      "model_type=linear_regression rowset_label=full_country_United Kingdom, columnset_label=all_numeric_categerical, cutoff=500 yield columns=443, ACC=0.9405863798541807, in duration=1.0198s\n",
      "model_type=random_forest rowset_label=full_country_United Kingdom, columnset_label=all_numeric_categerical, cutoff=500 yield columns=443, ACC=0.9405863798541807, in duration=10.5672s\n"
     ]
    },
    {
     "name": "stderr",
     "output_type": "stream",
     "text": [
      "/opt/conda/lib/python3.9/site-packages/sklearn/svm/_base.py:985: ConvergenceWarning: Liblinear failed to converge, increase the number of iterations.\n",
      "  warnings.warn(\"Liblinear failed to converge, increase \"\n"
     ]
    },
    {
     "name": "stdout",
     "output_type": "stream",
     "text": [
      "model_type=linear_svm rowset_label=full_country_United Kingdom, columnset_label=all_numeric_categerical, cutoff=500 yield columns=443, ACC=0.9405863798541807, in duration=17.5054s\n",
      "model_type=linear_regression rowset_label=full_country_United Kingdom, columnset_label=all_numeric_categerical, cutoff=250 yield columns=450, ACC=0.9405863798541807, in duration=0.9427s\n",
      "model_type=random_forest rowset_label=full_country_United Kingdom, columnset_label=all_numeric_categerical, cutoff=250 yield columns=450, ACC=0.9405863798541807, in duration=10.5s\n"
     ]
    },
    {
     "name": "stderr",
     "output_type": "stream",
     "text": [
      "/opt/conda/lib/python3.9/site-packages/sklearn/svm/_base.py:985: ConvergenceWarning: Liblinear failed to converge, increase the number of iterations.\n",
      "  warnings.warn(\"Liblinear failed to converge, increase \"\n"
     ]
    },
    {
     "name": "stdout",
     "output_type": "stream",
     "text": [
      "model_type=linear_svm rowset_label=full_country_United Kingdom, columnset_label=all_numeric_categerical, cutoff=250 yield columns=450, ACC=0.9268317906820415, in duration=17.3137s\n",
      "model_type=linear_regression rowset_label=full_country_United Kingdom, columnset_label=all_numeric_categerical, cutoff=100 yield columns=452, ACC=0.9405863798541807, in duration=0.9324s\n",
      "model_type=random_forest rowset_label=full_country_United Kingdom, columnset_label=all_numeric_categerical, cutoff=100 yield columns=452, ACC=0.9405863798541807, in duration=10.5544s\n"
     ]
    },
    {
     "name": "stderr",
     "output_type": "stream",
     "text": [
      "/opt/conda/lib/python3.9/site-packages/sklearn/svm/_base.py:985: ConvergenceWarning: Liblinear failed to converge, increase the number of iterations.\n",
      "  warnings.warn(\"Liblinear failed to converge, increase \"\n"
     ]
    },
    {
     "name": "stdout",
     "output_type": "stream",
     "text": [
      "model_type=linear_svm rowset_label=full_country_United Kingdom, columnset_label=all_numeric_categerical, cutoff=100 yield columns=452, ACC=0.3755106261957702, in duration=17.7725s\n",
      "model_type=linear_regression rowset_label=full_country_Germany, columnset_label=all_numeric_categerical, cutoff=5000 yield columns=293, ACC=0.9386731475257252, in duration=0.6425s\n",
      "model_type=random_forest rowset_label=full_country_Germany, columnset_label=all_numeric_categerical, cutoff=5000 yield columns=293, ACC=0.9386731475257252, in duration=8.2602s\n"
     ]
    },
    {
     "name": "stderr",
     "output_type": "stream",
     "text": [
      "/opt/conda/lib/python3.9/site-packages/sklearn/svm/_base.py:985: ConvergenceWarning: Liblinear failed to converge, increase the number of iterations.\n",
      "  warnings.warn(\"Liblinear failed to converge, increase \"\n"
     ]
    },
    {
     "name": "stdout",
     "output_type": "stream",
     "text": [
      "model_type=linear_svm rowset_label=full_country_Germany, columnset_label=all_numeric_categerical, cutoff=5000 yield columns=293, ACC=0.9227467811158798, in duration=16.5669s\n",
      "model_type=linear_regression rowset_label=full_country_Germany, columnset_label=all_numeric_categerical, cutoff=2500 yield columns=362, ACC=0.9386731475257252, in duration=0.7838s\n",
      "model_type=random_forest rowset_label=full_country_Germany, columnset_label=all_numeric_categerical, cutoff=2500 yield columns=362, ACC=0.9386731475257252, in duration=9.3525s\n"
     ]
    },
    {
     "name": "stderr",
     "output_type": "stream",
     "text": [
      "/opt/conda/lib/python3.9/site-packages/sklearn/svm/_base.py:985: ConvergenceWarning: Liblinear failed to converge, increase the number of iterations.\n",
      "  warnings.warn(\"Liblinear failed to converge, increase \"\n"
     ]
    },
    {
     "name": "stdout",
     "output_type": "stream",
     "text": [
      "model_type=linear_svm rowset_label=full_country_Germany, columnset_label=all_numeric_categerical, cutoff=2500 yield columns=362, ACC=0.9386731475257252, in duration=17.2255s\n",
      "model_type=linear_regression rowset_label=full_country_Germany, columnset_label=all_numeric_categerical, cutoff=1000 yield columns=422, ACC=0.9386731475257252, in duration=0.9033s\n",
      "model_type=random_forest rowset_label=full_country_Germany, columnset_label=all_numeric_categerical, cutoff=1000 yield columns=422, ACC=0.9386731475257252, in duration=9.75s\n"
     ]
    },
    {
     "name": "stderr",
     "output_type": "stream",
     "text": [
      "/opt/conda/lib/python3.9/site-packages/sklearn/svm/_base.py:985: ConvergenceWarning: Liblinear failed to converge, increase the number of iterations.\n",
      "  warnings.warn(\"Liblinear failed to converge, increase \"\n"
     ]
    },
    {
     "name": "stdout",
     "output_type": "stream",
     "text": [
      "model_type=linear_svm rowset_label=full_country_Germany, columnset_label=all_numeric_categerical, cutoff=1000 yield columns=422, ACC=0.9386731475257252, in duration=17.6553s\n",
      "model_type=linear_regression rowset_label=full_country_Germany, columnset_label=all_numeric_categerical, cutoff=500 yield columns=443, ACC=0.9386731475257252, in duration=1.0237s\n",
      "model_type=random_forest rowset_label=full_country_Germany, columnset_label=all_numeric_categerical, cutoff=500 yield columns=443, ACC=0.9386731475257252, in duration=10.0797s\n"
     ]
    },
    {
     "name": "stderr",
     "output_type": "stream",
     "text": [
      "/opt/conda/lib/python3.9/site-packages/sklearn/svm/_base.py:985: ConvergenceWarning: Liblinear failed to converge, increase the number of iterations.\n",
      "  warnings.warn(\"Liblinear failed to converge, increase \"\n"
     ]
    },
    {
     "name": "stdout",
     "output_type": "stream",
     "text": [
      "model_type=linear_svm rowset_label=full_country_Germany, columnset_label=all_numeric_categerical, cutoff=500 yield columns=443, ACC=0.9386731475257252, in duration=17.6125s\n",
      "model_type=linear_regression rowset_label=full_country_Germany, columnset_label=all_numeric_categerical, cutoff=250 yield columns=450, ACC=0.9386731475257252, in duration=0.9376s\n",
      "model_type=random_forest rowset_label=full_country_Germany, columnset_label=all_numeric_categerical, cutoff=250 yield columns=450, ACC=0.9386731475257252, in duration=10.1107s\n"
     ]
    },
    {
     "name": "stderr",
     "output_type": "stream",
     "text": [
      "/opt/conda/lib/python3.9/site-packages/sklearn/svm/_base.py:985: ConvergenceWarning: Liblinear failed to converge, increase the number of iterations.\n",
      "  warnings.warn(\"Liblinear failed to converge, increase \"\n"
     ]
    },
    {
     "name": "stdout",
     "output_type": "stream",
     "text": [
      "model_type=linear_svm rowset_label=full_country_Germany, columnset_label=all_numeric_categerical, cutoff=250 yield columns=450, ACC=0.9386731475257252, in duration=17.9788s\n",
      "model_type=linear_regression rowset_label=full_country_Germany, columnset_label=all_numeric_categerical, cutoff=100 yield columns=452, ACC=0.9386731475257252, in duration=0.9212s\n",
      "model_type=random_forest rowset_label=full_country_Germany, columnset_label=all_numeric_categerical, cutoff=100 yield columns=452, ACC=0.9386731475257252, in duration=10.1294s\n"
     ]
    },
    {
     "name": "stderr",
     "output_type": "stream",
     "text": [
      "/opt/conda/lib/python3.9/site-packages/sklearn/svm/_base.py:985: ConvergenceWarning: Liblinear failed to converge, increase the number of iterations.\n",
      "  warnings.warn(\"Liblinear failed to converge, increase \"\n"
     ]
    },
    {
     "name": "stdout",
     "output_type": "stream",
     "text": [
      "model_type=linear_svm rowset_label=full_country_Germany, columnset_label=all_numeric_categerical, cutoff=100 yield columns=452, ACC=0.7641553337814778, in duration=17.5792s\n",
      "model_type=linear_regression rowset_label=full_country_Canada, columnset_label=all_numeric_categerical, cutoff=5000 yield columns=293, ACC=0.9659754899426031, in duration=0.6186s\n",
      "model_type=random_forest rowset_label=full_country_Canada, columnset_label=all_numeric_categerical, cutoff=5000 yield columns=293, ACC=0.9659754899426031, in duration=8.256s\n"
     ]
    },
    {
     "name": "stderr",
     "output_type": "stream",
     "text": [
      "/opt/conda/lib/python3.9/site-packages/sklearn/svm/_base.py:985: ConvergenceWarning: Liblinear failed to converge, increase the number of iterations.\n",
      "  warnings.warn(\"Liblinear failed to converge, increase \"\n"
     ]
    },
    {
     "name": "stdout",
     "output_type": "stream",
     "text": [
      "model_type=linear_svm rowset_label=full_country_Canada, columnset_label=all_numeric_categerical, cutoff=5000 yield columns=293, ACC=0.9445162624747919, in duration=16.5264s\n",
      "model_type=linear_regression rowset_label=full_country_Canada, columnset_label=all_numeric_categerical, cutoff=2500 yield columns=362, ACC=0.9659754899426031, in duration=0.7719s\n",
      "model_type=random_forest rowset_label=full_country_Canada, columnset_label=all_numeric_categerical, cutoff=2500 yield columns=362, ACC=0.9659754899426031, in duration=9.287s\n"
     ]
    },
    {
     "name": "stderr",
     "output_type": "stream",
     "text": [
      "/opt/conda/lib/python3.9/site-packages/sklearn/svm/_base.py:985: ConvergenceWarning: Liblinear failed to converge, increase the number of iterations.\n",
      "  warnings.warn(\"Liblinear failed to converge, increase \"\n"
     ]
    },
    {
     "name": "stdout",
     "output_type": "stream",
     "text": [
      "model_type=linear_svm rowset_label=full_country_Canada, columnset_label=all_numeric_categerical, cutoff=2500 yield columns=362, ACC=0.9659754899426031, in duration=17.2274s\n",
      "model_type=linear_regression rowset_label=full_country_Canada, columnset_label=all_numeric_categerical, cutoff=1000 yield columns=422, ACC=0.9659754899426031, in duration=0.8782s\n",
      "model_type=random_forest rowset_label=full_country_Canada, columnset_label=all_numeric_categerical, cutoff=1000 yield columns=422, ACC=0.9659754899426031, in duration=9.9283s\n"
     ]
    },
    {
     "name": "stderr",
     "output_type": "stream",
     "text": [
      "/opt/conda/lib/python3.9/site-packages/sklearn/svm/_base.py:985: ConvergenceWarning: Liblinear failed to converge, increase the number of iterations.\n",
      "  warnings.warn(\"Liblinear failed to converge, increase \"\n"
     ]
    },
    {
     "name": "stdout",
     "output_type": "stream",
     "text": [
      "model_type=linear_svm rowset_label=full_country_Canada, columnset_label=all_numeric_categerical, cutoff=1000 yield columns=422, ACC=0.9659754899426031, in duration=18.1752s\n",
      "model_type=linear_regression rowset_label=full_country_Canada, columnset_label=all_numeric_categerical, cutoff=500 yield columns=443, ACC=0.9659754899426031, in duration=1.0421s\n",
      "model_type=random_forest rowset_label=full_country_Canada, columnset_label=all_numeric_categerical, cutoff=500 yield columns=443, ACC=0.9659754899426031, in duration=10.348s\n"
     ]
    },
    {
     "name": "stderr",
     "output_type": "stream",
     "text": [
      "/opt/conda/lib/python3.9/site-packages/sklearn/svm/_base.py:985: ConvergenceWarning: Liblinear failed to converge, increase the number of iterations.\n",
      "  warnings.warn(\"Liblinear failed to converge, increase \"\n"
     ]
    },
    {
     "name": "stdout",
     "output_type": "stream",
     "text": [
      "model_type=linear_svm rowset_label=full_country_Canada, columnset_label=all_numeric_categerical, cutoff=500 yield columns=443, ACC=0.9659237809607529, in duration=18.2904s\n",
      "model_type=linear_regression rowset_label=full_country_Canada, columnset_label=all_numeric_categerical, cutoff=250 yield columns=450, ACC=0.9659754899426031, in duration=1.0025s\n",
      "model_type=random_forest rowset_label=full_country_Canada, columnset_label=all_numeric_categerical, cutoff=250 yield columns=450, ACC=0.9659754899426031, in duration=10.4982s\n"
     ]
    },
    {
     "name": "stderr",
     "output_type": "stream",
     "text": [
      "/opt/conda/lib/python3.9/site-packages/sklearn/svm/_base.py:985: ConvergenceWarning: Liblinear failed to converge, increase the number of iterations.\n",
      "  warnings.warn(\"Liblinear failed to converge, increase \"\n"
     ]
    },
    {
     "name": "stdout",
     "output_type": "stream",
     "text": [
      "model_type=linear_svm rowset_label=full_country_Canada, columnset_label=all_numeric_categerical, cutoff=250 yield columns=450, ACC=0.9659754899426031, in duration=18.5662s\n",
      "model_type=linear_regression rowset_label=full_country_Canada, columnset_label=all_numeric_categerical, cutoff=100 yield columns=452, ACC=0.9659754899426031, in duration=0.9851s\n",
      "model_type=random_forest rowset_label=full_country_Canada, columnset_label=all_numeric_categerical, cutoff=100 yield columns=452, ACC=0.9659754899426031, in duration=10.3328s\n"
     ]
    },
    {
     "name": "stderr",
     "output_type": "stream",
     "text": [
      "/opt/conda/lib/python3.9/site-packages/sklearn/svm/_base.py:985: ConvergenceWarning: Liblinear failed to converge, increase the number of iterations.\n",
      "  warnings.warn(\"Liblinear failed to converge, increase \"\n"
     ]
    },
    {
     "name": "stdout",
     "output_type": "stream",
     "text": [
      "model_type=linear_svm rowset_label=full_country_Canada, columnset_label=all_numeric_categerical, cutoff=100 yield columns=452, ACC=0.9659754899426031, in duration=18.5029s\n",
      "model_type=linear_regression rowset_label=full_country_France, columnset_label=all_numeric_categerical, cutoff=5000 yield columns=293, ACC=0.9694399917265629, in duration=0.631s\n",
      "model_type=random_forest rowset_label=full_country_France, columnset_label=all_numeric_categerical, cutoff=5000 yield columns=293, ACC=0.9694399917265629, in duration=7.657s\n"
     ]
    },
    {
     "name": "stderr",
     "output_type": "stream",
     "text": [
      "/opt/conda/lib/python3.9/site-packages/sklearn/svm/_base.py:985: ConvergenceWarning: Liblinear failed to converge, increase the number of iterations.\n",
      "  warnings.warn(\"Liblinear failed to converge, increase \"\n"
     ]
    },
    {
     "name": "stdout",
     "output_type": "stream",
     "text": [
      "model_type=linear_svm rowset_label=full_country_France, columnset_label=all_numeric_categerical, cutoff=5000 yield columns=293, ACC=0.9694399917265629, in duration=16.8644s\n",
      "model_type=linear_regression rowset_label=full_country_France, columnset_label=all_numeric_categerical, cutoff=2500 yield columns=362, ACC=0.9694399917265629, in duration=0.8041s\n",
      "model_type=random_forest rowset_label=full_country_France, columnset_label=all_numeric_categerical, cutoff=2500 yield columns=362, ACC=0.9694399917265629, in duration=8.4181s\n"
     ]
    },
    {
     "name": "stderr",
     "output_type": "stream",
     "text": [
      "/opt/conda/lib/python3.9/site-packages/sklearn/svm/_base.py:985: ConvergenceWarning: Liblinear failed to converge, increase the number of iterations.\n",
      "  warnings.warn(\"Liblinear failed to converge, increase \"\n"
     ]
    },
    {
     "name": "stdout",
     "output_type": "stream",
     "text": [
      "model_type=linear_svm rowset_label=full_country_France, columnset_label=all_numeric_categerical, cutoff=2500 yield columns=362, ACC=0.9694399917265629, in duration=18.2959s\n",
      "model_type=linear_regression rowset_label=full_country_France, columnset_label=all_numeric_categerical, cutoff=1000 yield columns=422, ACC=0.9694399917265629, in duration=0.9103s\n",
      "model_type=random_forest rowset_label=full_country_France, columnset_label=all_numeric_categerical, cutoff=1000 yield columns=422, ACC=0.9694399917265629, in duration=9.0106s\n"
     ]
    },
    {
     "name": "stderr",
     "output_type": "stream",
     "text": [
      "/opt/conda/lib/python3.9/site-packages/sklearn/svm/_base.py:985: ConvergenceWarning: Liblinear failed to converge, increase the number of iterations.\n",
      "  warnings.warn(\"Liblinear failed to converge, increase \"\n"
     ]
    },
    {
     "name": "stdout",
     "output_type": "stream",
     "text": [
      "model_type=linear_svm rowset_label=full_country_France, columnset_label=all_numeric_categerical, cutoff=1000 yield columns=422, ACC=0.9515486840064119, in duration=18.1696s\n",
      "model_type=linear_regression rowset_label=full_country_France, columnset_label=all_numeric_categerical, cutoff=500 yield columns=443, ACC=0.9694399917265629, in duration=1.0178s\n",
      "model_type=random_forest rowset_label=full_country_France, columnset_label=all_numeric_categerical, cutoff=500 yield columns=443, ACC=0.9694399917265629, in duration=9.4365s\n"
     ]
    },
    {
     "name": "stderr",
     "output_type": "stream",
     "text": [
      "/opt/conda/lib/python3.9/site-packages/sklearn/svm/_base.py:985: ConvergenceWarning: Liblinear failed to converge, increase the number of iterations.\n",
      "  warnings.warn(\"Liblinear failed to converge, increase \"\n"
     ]
    },
    {
     "name": "stdout",
     "output_type": "stream",
     "text": [
      "model_type=linear_svm rowset_label=full_country_France, columnset_label=all_numeric_categerical, cutoff=500 yield columns=443, ACC=0.9577537618284296, in duration=18.6256s\n",
      "model_type=linear_regression rowset_label=full_country_France, columnset_label=all_numeric_categerical, cutoff=250 yield columns=450, ACC=0.9694399917265629, in duration=0.9541s\n",
      "model_type=random_forest rowset_label=full_country_France, columnset_label=all_numeric_categerical, cutoff=250 yield columns=450, ACC=0.9694399917265629, in duration=9.6015s\n"
     ]
    },
    {
     "name": "stderr",
     "output_type": "stream",
     "text": [
      "/opt/conda/lib/python3.9/site-packages/sklearn/svm/_base.py:985: ConvergenceWarning: Liblinear failed to converge, increase the number of iterations.\n",
      "  warnings.warn(\"Liblinear failed to converge, increase \"\n"
     ]
    },
    {
     "name": "stdout",
     "output_type": "stream",
     "text": [
      "model_type=linear_svm rowset_label=full_country_France, columnset_label=all_numeric_categerical, cutoff=250 yield columns=450, ACC=0.9425513211644863, in duration=18.3713s\n",
      "model_type=linear_regression rowset_label=full_country_France, columnset_label=all_numeric_categerical, cutoff=100 yield columns=452, ACC=0.9694399917265629, in duration=0.9494s\n",
      "model_type=random_forest rowset_label=full_country_France, columnset_label=all_numeric_categerical, cutoff=100 yield columns=452, ACC=0.9694399917265629, in duration=9.4223s\n"
     ]
    },
    {
     "name": "stderr",
     "output_type": "stream",
     "text": [
      "/opt/conda/lib/python3.9/site-packages/sklearn/svm/_base.py:985: ConvergenceWarning: Liblinear failed to converge, increase the number of iterations.\n",
      "  warnings.warn(\"Liblinear failed to converge, increase \"\n"
     ]
    },
    {
     "name": "stdout",
     "output_type": "stream",
     "text": [
      "model_type=linear_svm rowset_label=full_country_France, columnset_label=all_numeric_categerical, cutoff=100 yield columns=452, ACC=0.9530482444800662, in duration=18.4426s\n",
      "model_type=linear_regression rowset_label=full_country_Brazil, columnset_label=all_numeric_categerical, cutoff=5000 yield columns=293, ACC=0.971611768964269, in duration=0.6346s\n",
      "model_type=random_forest rowset_label=full_country_Brazil, columnset_label=all_numeric_categerical, cutoff=5000 yield columns=293, ACC=0.971611768964269, in duration=8.0126s\n"
     ]
    },
    {
     "name": "stderr",
     "output_type": "stream",
     "text": [
      "/opt/conda/lib/python3.9/site-packages/sklearn/svm/_base.py:985: ConvergenceWarning: Liblinear failed to converge, increase the number of iterations.\n",
      "  warnings.warn(\"Liblinear failed to converge, increase \"\n"
     ]
    },
    {
     "name": "stdout",
     "output_type": "stream",
     "text": [
      "model_type=linear_svm rowset_label=full_country_Brazil, columnset_label=all_numeric_categerical, cutoff=5000 yield columns=293, ACC=0.10693417446610476, in duration=17.4171s\n",
      "model_type=linear_regression rowset_label=full_country_Brazil, columnset_label=all_numeric_categerical, cutoff=2500 yield columns=362, ACC=0.971611768964269, in duration=0.7826s\n",
      "model_type=random_forest rowset_label=full_country_Brazil, columnset_label=all_numeric_categerical, cutoff=2500 yield columns=362, ACC=0.971611768964269, in duration=8.2836s\n"
     ]
    },
    {
     "name": "stderr",
     "output_type": "stream",
     "text": [
      "/opt/conda/lib/python3.9/site-packages/sklearn/svm/_base.py:985: ConvergenceWarning: Liblinear failed to converge, increase the number of iterations.\n",
      "  warnings.warn(\"Liblinear failed to converge, increase \"\n"
     ]
    },
    {
     "name": "stdout",
     "output_type": "stream",
     "text": [
      "model_type=linear_svm rowset_label=full_country_Brazil, columnset_label=all_numeric_categerical, cutoff=2500 yield columns=362, ACC=0.971611768964269, in duration=16.484s\n",
      "model_type=linear_regression rowset_label=full_country_Brazil, columnset_label=all_numeric_categerical, cutoff=1000 yield columns=422, ACC=0.971611768964269, in duration=0.9262s\n",
      "model_type=random_forest rowset_label=full_country_Brazil, columnset_label=all_numeric_categerical, cutoff=1000 yield columns=422, ACC=0.971611768964269, in duration=9.268s\n"
     ]
    },
    {
     "name": "stderr",
     "output_type": "stream",
     "text": [
      "/opt/conda/lib/python3.9/site-packages/sklearn/svm/_base.py:985: ConvergenceWarning: Liblinear failed to converge, increase the number of iterations.\n",
      "  warnings.warn(\"Liblinear failed to converge, increase \"\n"
     ]
    },
    {
     "name": "stdout",
     "output_type": "stream",
     "text": [
      "model_type=linear_svm rowset_label=full_country_Brazil, columnset_label=all_numeric_categerical, cutoff=1000 yield columns=422, ACC=0.971611768964269, in duration=18.7202s\n",
      "model_type=linear_regression rowset_label=full_country_Brazil, columnset_label=all_numeric_categerical, cutoff=500 yield columns=443, ACC=0.971611768964269, in duration=1.0198s\n",
      "model_type=random_forest rowset_label=full_country_Brazil, columnset_label=all_numeric_categerical, cutoff=500 yield columns=443, ACC=0.971611768964269, in duration=9.8322s\n"
     ]
    },
    {
     "name": "stderr",
     "output_type": "stream",
     "text": [
      "/opt/conda/lib/python3.9/site-packages/sklearn/svm/_base.py:985: ConvergenceWarning: Liblinear failed to converge, increase the number of iterations.\n",
      "  warnings.warn(\"Liblinear failed to converge, increase \"\n"
     ]
    },
    {
     "name": "stdout",
     "output_type": "stream",
     "text": [
      "model_type=linear_svm rowset_label=full_country_Brazil, columnset_label=all_numeric_categerical, cutoff=500 yield columns=443, ACC=0.9568230001551269, in duration=18.6792s\n",
      "model_type=linear_regression rowset_label=full_country_Brazil, columnset_label=all_numeric_categerical, cutoff=250 yield columns=450, ACC=0.971611768964269, in duration=0.9754s\n",
      "model_type=random_forest rowset_label=full_country_Brazil, columnset_label=all_numeric_categerical, cutoff=250 yield columns=450, ACC=0.971611768964269, in duration=9.855s\n"
     ]
    },
    {
     "name": "stderr",
     "output_type": "stream",
     "text": [
      "/opt/conda/lib/python3.9/site-packages/sklearn/svm/_base.py:985: ConvergenceWarning: Liblinear failed to converge, increase the number of iterations.\n",
      "  warnings.warn(\"Liblinear failed to converge, increase \"\n"
     ]
    },
    {
     "name": "stdout",
     "output_type": "stream",
     "text": [
      "model_type=linear_svm rowset_label=full_country_Brazil, columnset_label=all_numeric_categerical, cutoff=250 yield columns=450, ACC=0.971611768964269, in duration=18.7231s\n",
      "model_type=linear_regression rowset_label=full_country_Brazil, columnset_label=all_numeric_categerical, cutoff=100 yield columns=452, ACC=0.971611768964269, in duration=0.9993s\n",
      "model_type=random_forest rowset_label=full_country_Brazil, columnset_label=all_numeric_categerical, cutoff=100 yield columns=452, ACC=0.971611768964269, in duration=9.6072s\n"
     ]
    },
    {
     "name": "stderr",
     "output_type": "stream",
     "text": [
      "/opt/conda/lib/python3.9/site-packages/sklearn/svm/_base.py:985: ConvergenceWarning: Liblinear failed to converge, increase the number of iterations.\n",
      "  warnings.warn(\"Liblinear failed to converge, increase \"\n"
     ]
    },
    {
     "name": "stdout",
     "output_type": "stream",
     "text": [
      "model_type=linear_svm rowset_label=full_country_Brazil, columnset_label=all_numeric_categerical, cutoff=100 yield columns=452, ACC=0.9558405294999741, in duration=18.5848s\n",
      "model_type=linear_regression rowset_label=full_country_Netherlands, columnset_label=all_numeric_categerical, cutoff=5000 yield columns=293, ACC=0.978592481514039, in duration=0.7183s\n",
      "model_type=random_forest rowset_label=full_country_Netherlands, columnset_label=all_numeric_categerical, cutoff=5000 yield columns=293, ACC=0.978592481514039, in duration=7.7841s\n"
     ]
    },
    {
     "name": "stderr",
     "output_type": "stream",
     "text": [
      "/opt/conda/lib/python3.9/site-packages/sklearn/svm/_base.py:985: ConvergenceWarning: Liblinear failed to converge, increase the number of iterations.\n",
      "  warnings.warn(\"Liblinear failed to converge, increase \"\n"
     ]
    },
    {
     "name": "stdout",
     "output_type": "stream",
     "text": [
      "model_type=linear_svm rowset_label=full_country_Netherlands, columnset_label=all_numeric_categerical, cutoff=5000 yield columns=293, ACC=0.9643208025233984, in duration=16.6437s\n",
      "model_type=linear_regression rowset_label=full_country_Netherlands, columnset_label=all_numeric_categerical, cutoff=2500 yield columns=362, ACC=0.978592481514039, in duration=0.7834s\n",
      "model_type=random_forest rowset_label=full_country_Netherlands, columnset_label=all_numeric_categerical, cutoff=2500 yield columns=362, ACC=0.978592481514039, in duration=8.7234s\n"
     ]
    },
    {
     "name": "stderr",
     "output_type": "stream",
     "text": [
      "/opt/conda/lib/python3.9/site-packages/sklearn/svm/_base.py:985: ConvergenceWarning: Liblinear failed to converge, increase the number of iterations.\n",
      "  warnings.warn(\"Liblinear failed to converge, increase \"\n"
     ]
    },
    {
     "name": "stdout",
     "output_type": "stream",
     "text": [
      "model_type=linear_svm rowset_label=full_country_Netherlands, columnset_label=all_numeric_categerical, cutoff=2500 yield columns=362, ACC=0.978592481514039, in duration=17.9372s\n",
      "model_type=linear_regression rowset_label=full_country_Netherlands, columnset_label=all_numeric_categerical, cutoff=1000 yield columns=422, ACC=0.978592481514039, in duration=1.1008s\n",
      "model_type=random_forest rowset_label=full_country_Netherlands, columnset_label=all_numeric_categerical, cutoff=1000 yield columns=422, ACC=0.978592481514039, in duration=8.0538s\n"
     ]
    },
    {
     "name": "stderr",
     "output_type": "stream",
     "text": [
      "/opt/conda/lib/python3.9/site-packages/sklearn/svm/_base.py:985: ConvergenceWarning: Liblinear failed to converge, increase the number of iterations.\n",
      "  warnings.warn(\"Liblinear failed to converge, increase \"\n"
     ]
    },
    {
     "name": "stdout",
     "output_type": "stream",
     "text": [
      "model_type=linear_svm rowset_label=full_country_Netherlands, columnset_label=all_numeric_categerical, cutoff=1000 yield columns=422, ACC=0.9632349139045452, in duration=16.643s\n",
      "model_type=linear_regression rowset_label=full_country_Netherlands, columnset_label=all_numeric_categerical, cutoff=500 yield columns=443, ACC=0.978592481514039, in duration=1.057s\n",
      "model_type=random_forest rowset_label=full_country_Netherlands, columnset_label=all_numeric_categerical, cutoff=500 yield columns=443, ACC=0.978592481514039, in duration=9.4127s\n"
     ]
    },
    {
     "name": "stderr",
     "output_type": "stream",
     "text": [
      "/opt/conda/lib/python3.9/site-packages/sklearn/svm/_base.py:985: ConvergenceWarning: Liblinear failed to converge, increase the number of iterations.\n",
      "  warnings.warn(\"Liblinear failed to converge, increase \"\n"
     ]
    },
    {
     "name": "stdout",
     "output_type": "stream",
     "text": [
      "model_type=linear_svm rowset_label=full_country_Netherlands, columnset_label=all_numeric_categerical, cutoff=500 yield columns=443, ACC=0.960028957029836, in duration=16.6806s\n",
      "model_type=linear_regression rowset_label=full_country_Netherlands, columnset_label=all_numeric_categerical, cutoff=250 yield columns=450, ACC=0.978592481514039, in duration=1.0555s\n",
      "model_type=random_forest rowset_label=full_country_Netherlands, columnset_label=all_numeric_categerical, cutoff=250 yield columns=450, ACC=0.978592481514039, in duration=8.479s\n"
     ]
    },
    {
     "name": "stderr",
     "output_type": "stream",
     "text": [
      "/opt/conda/lib/python3.9/site-packages/sklearn/svm/_base.py:985: ConvergenceWarning: Liblinear failed to converge, increase the number of iterations.\n",
      "  warnings.warn(\"Liblinear failed to converge, increase \"\n"
     ]
    },
    {
     "name": "stdout",
     "output_type": "stream",
     "text": [
      "model_type=linear_svm rowset_label=full_country_Netherlands, columnset_label=all_numeric_categerical, cutoff=250 yield columns=450, ACC=0.978592481514039, in duration=17.2685s\n",
      "model_type=linear_regression rowset_label=full_country_Netherlands, columnset_label=all_numeric_categerical, cutoff=100 yield columns=452, ACC=0.978592481514039, in duration=0.9701s\n",
      "model_type=random_forest rowset_label=full_country_Netherlands, columnset_label=all_numeric_categerical, cutoff=100 yield columns=452, ACC=0.978592481514039, in duration=9.4134s\n"
     ]
    },
    {
     "name": "stderr",
     "output_type": "stream",
     "text": [
      "/opt/conda/lib/python3.9/site-packages/sklearn/svm/_base.py:985: ConvergenceWarning: Liblinear failed to converge, increase the number of iterations.\n",
      "  warnings.warn(\"Liblinear failed to converge, increase \"\n"
     ]
    },
    {
     "name": "stdout",
     "output_type": "stream",
     "text": [
      "model_type=linear_svm rowset_label=full_country_Netherlands, columnset_label=all_numeric_categerical, cutoff=100 yield columns=452, ACC=0.9721288587827706, in duration=15.2326s\n",
      "model_type=linear_regression rowset_label=full_country_Poland, columnset_label=all_numeric_categerical, cutoff=5000 yield columns=293, ACC=0.9804022958787941, in duration=0.6445s\n",
      "model_type=random_forest rowset_label=full_country_Poland, columnset_label=all_numeric_categerical, cutoff=5000 yield columns=293, ACC=0.9804022958787941, in duration=7.1453s\n"
     ]
    },
    {
     "name": "stderr",
     "output_type": "stream",
     "text": [
      "/opt/conda/lib/python3.9/site-packages/sklearn/svm/_base.py:985: ConvergenceWarning: Liblinear failed to converge, increase the number of iterations.\n",
      "  warnings.warn(\"Liblinear failed to converge, increase \"\n"
     ]
    },
    {
     "name": "stdout",
     "output_type": "stream",
     "text": [
      "model_type=linear_svm rowset_label=full_country_Poland, columnset_label=all_numeric_categerical, cutoff=5000 yield columns=293, ACC=0.31408035575779514, in duration=16.2536s\n",
      "model_type=linear_regression rowset_label=full_country_Poland, columnset_label=all_numeric_categerical, cutoff=2500 yield columns=362, ACC=0.9804022958787941, in duration=0.7751s\n",
      "model_type=random_forest rowset_label=full_country_Poland, columnset_label=all_numeric_categerical, cutoff=2500 yield columns=362, ACC=0.9804022958787941, in duration=7.9637s\n"
     ]
    },
    {
     "name": "stderr",
     "output_type": "stream",
     "text": [
      "/opt/conda/lib/python3.9/site-packages/sklearn/svm/_base.py:985: ConvergenceWarning: Liblinear failed to converge, increase the number of iterations.\n",
      "  warnings.warn(\"Liblinear failed to converge, increase \"\n"
     ]
    },
    {
     "name": "stdout",
     "output_type": "stream",
     "text": [
      "model_type=linear_svm rowset_label=full_country_Poland, columnset_label=all_numeric_categerical, cutoff=2500 yield columns=362, ACC=0.9602357929572367, in duration=17.3036s\n",
      "model_type=linear_regression rowset_label=full_country_Poland, columnset_label=all_numeric_categerical, cutoff=1000 yield columns=422, ACC=0.9804022958787941, in duration=0.9201s\n",
      "model_type=random_forest rowset_label=full_country_Poland, columnset_label=all_numeric_categerical, cutoff=1000 yield columns=422, ACC=0.9804022958787941, in duration=8.5895s\n"
     ]
    },
    {
     "name": "stderr",
     "output_type": "stream",
     "text": [
      "/opt/conda/lib/python3.9/site-packages/sklearn/svm/_base.py:985: ConvergenceWarning: Liblinear failed to converge, increase the number of iterations.\n",
      "  warnings.warn(\"Liblinear failed to converge, increase \"\n"
     ]
    },
    {
     "name": "stdout",
     "output_type": "stream",
     "text": [
      "model_type=linear_svm rowset_label=full_country_Poland, columnset_label=all_numeric_categerical, cutoff=1000 yield columns=422, ACC=0.9804022958787941, in duration=17.3117s\n",
      "model_type=linear_regression rowset_label=full_country_Poland, columnset_label=all_numeric_categerical, cutoff=500 yield columns=443, ACC=0.9804022958787941, in duration=1.0129s\n",
      "model_type=random_forest rowset_label=full_country_Poland, columnset_label=all_numeric_categerical, cutoff=500 yield columns=443, ACC=0.9804022958787941, in duration=8.7133s\n"
     ]
    },
    {
     "name": "stderr",
     "output_type": "stream",
     "text": [
      "/opt/conda/lib/python3.9/site-packages/sklearn/svm/_base.py:985: ConvergenceWarning: Liblinear failed to converge, increase the number of iterations.\n",
      "  warnings.warn(\"Liblinear failed to converge, increase \"\n"
     ]
    },
    {
     "name": "stdout",
     "output_type": "stream",
     "text": [
      "model_type=linear_svm rowset_label=full_country_Poland, columnset_label=all_numeric_categerical, cutoff=500 yield columns=443, ACC=0.9798852060602927, in duration=17.8477s\n",
      "model_type=linear_regression rowset_label=full_country_Poland, columnset_label=all_numeric_categerical, cutoff=250 yield columns=450, ACC=0.9804022958787941, in duration=0.9558s\n",
      "model_type=random_forest rowset_label=full_country_Poland, columnset_label=all_numeric_categerical, cutoff=250 yield columns=450, ACC=0.9804022958787941, in duration=8.7383s\n"
     ]
    },
    {
     "name": "stderr",
     "output_type": "stream",
     "text": [
      "/opt/conda/lib/python3.9/site-packages/sklearn/svm/_base.py:985: ConvergenceWarning: Liblinear failed to converge, increase the number of iterations.\n",
      "  warnings.warn(\"Liblinear failed to converge, increase \"\n"
     ]
    },
    {
     "name": "stdout",
     "output_type": "stream",
     "text": [
      "model_type=linear_svm rowset_label=full_country_Poland, columnset_label=all_numeric_categerical, cutoff=250 yield columns=450, ACC=0.9804022958787941, in duration=17.6112s\n",
      "model_type=linear_regression rowset_label=full_country_Poland, columnset_label=all_numeric_categerical, cutoff=100 yield columns=452, ACC=0.9804022958787941, in duration=0.9348s\n",
      "model_type=random_forest rowset_label=full_country_Poland, columnset_label=all_numeric_categerical, cutoff=100 yield columns=452, ACC=0.9804022958787941, in duration=8.7176s\n"
     ]
    },
    {
     "name": "stderr",
     "output_type": "stream",
     "text": [
      "/opt/conda/lib/python3.9/site-packages/sklearn/svm/_base.py:985: ConvergenceWarning: Liblinear failed to converge, increase the number of iterations.\n",
      "  warnings.warn(\"Liblinear failed to converge, increase \"\n"
     ]
    },
    {
     "name": "stdout",
     "output_type": "stream",
     "text": [
      "model_type=linear_svm rowset_label=full_country_Poland, columnset_label=all_numeric_categerical, cutoff=100 yield columns=452, ACC=0.9804022958787941, in duration=17.4402s\n",
      "model_type=linear_regression rowset_label=full_country_Australia, columnset_label=all_numeric_categerical, cutoff=5000 yield columns=293, ACC=0.9816433114431977, in duration=0.6365s\n",
      "model_type=random_forest rowset_label=full_country_Australia, columnset_label=all_numeric_categerical, cutoff=5000 yield columns=293, ACC=0.9816433114431977, in duration=7.1856s\n"
     ]
    },
    {
     "name": "stderr",
     "output_type": "stream",
     "text": [
      "/opt/conda/lib/python3.9/site-packages/sklearn/svm/_base.py:985: ConvergenceWarning: Liblinear failed to converge, increase the number of iterations.\n",
      "  warnings.warn(\"Liblinear failed to converge, increase \"\n"
     ]
    },
    {
     "name": "stdout",
     "output_type": "stream",
     "text": [
      "model_type=linear_svm rowset_label=full_country_Australia, columnset_label=all_numeric_categerical, cutoff=5000 yield columns=293, ACC=0.9639588396504473, in duration=16.0361s\n",
      "model_type=linear_regression rowset_label=full_country_Australia, columnset_label=all_numeric_categerical, cutoff=2500 yield columns=362, ACC=0.9816433114431977, in duration=0.7505s\n",
      "model_type=random_forest rowset_label=full_country_Australia, columnset_label=all_numeric_categerical, cutoff=2500 yield columns=362, ACC=0.9816433114431977, in duration=8.2595s\n"
     ]
    },
    {
     "name": "stderr",
     "output_type": "stream",
     "text": [
      "/opt/conda/lib/python3.9/site-packages/sklearn/svm/_base.py:985: ConvergenceWarning: Liblinear failed to converge, increase the number of iterations.\n",
      "  warnings.warn(\"Liblinear failed to converge, increase \"\n"
     ]
    },
    {
     "name": "stdout",
     "output_type": "stream",
     "text": [
      "model_type=linear_svm rowset_label=full_country_Australia, columnset_label=all_numeric_categerical, cutoff=2500 yield columns=362, ACC=0.9816433114431977, in duration=16.9928s\n",
      "model_type=linear_regression rowset_label=full_country_Australia, columnset_label=all_numeric_categerical, cutoff=1000 yield columns=422, ACC=0.9816433114431977, in duration=0.8663s\n",
      "model_type=random_forest rowset_label=full_country_Australia, columnset_label=all_numeric_categerical, cutoff=1000 yield columns=422, ACC=0.9816433114431977, in duration=8.7435s\n"
     ]
    },
    {
     "name": "stderr",
     "output_type": "stream",
     "text": [
      "/opt/conda/lib/python3.9/site-packages/sklearn/svm/_base.py:985: ConvergenceWarning: Liblinear failed to converge, increase the number of iterations.\n",
      "  warnings.warn(\"Liblinear failed to converge, increase \"\n"
     ]
    },
    {
     "name": "stdout",
     "output_type": "stream",
     "text": [
      "model_type=linear_svm rowset_label=full_country_Australia, columnset_label=all_numeric_categerical, cutoff=1000 yield columns=422, ACC=0.9686126480169606, in duration=17.0545s\n",
      "model_type=linear_regression rowset_label=full_country_Australia, columnset_label=all_numeric_categerical, cutoff=500 yield columns=443, ACC=0.9816433114431977, in duration=1.0162s\n",
      "model_type=random_forest rowset_label=full_country_Australia, columnset_label=all_numeric_categerical, cutoff=500 yield columns=443, ACC=0.9816433114431977, in duration=9.1186s\n"
     ]
    },
    {
     "name": "stderr",
     "output_type": "stream",
     "text": [
      "/opt/conda/lib/python3.9/site-packages/sklearn/svm/_base.py:985: ConvergenceWarning: Liblinear failed to converge, increase the number of iterations.\n",
      "  warnings.warn(\"Liblinear failed to converge, increase \"\n"
     ]
    },
    {
     "name": "stdout",
     "output_type": "stream",
     "text": [
      "model_type=linear_svm rowset_label=full_country_Australia, columnset_label=all_numeric_categerical, cutoff=500 yield columns=443, ACC=0.975076270748229, in duration=17.4108s\n",
      "model_type=linear_regression rowset_label=full_country_Australia, columnset_label=all_numeric_categerical, cutoff=250 yield columns=450, ACC=0.9816433114431977, in duration=0.9524s\n",
      "model_type=random_forest rowset_label=full_country_Australia, columnset_label=all_numeric_categerical, cutoff=250 yield columns=450, ACC=0.9816433114431977, in duration=9.0933s\n"
     ]
    },
    {
     "name": "stderr",
     "output_type": "stream",
     "text": [
      "/opt/conda/lib/python3.9/site-packages/sklearn/svm/_base.py:985: ConvergenceWarning: Liblinear failed to converge, increase the number of iterations.\n",
      "  warnings.warn(\"Liblinear failed to converge, increase \"\n"
     ]
    },
    {
     "name": "stdout",
     "output_type": "stream",
     "text": [
      "model_type=linear_svm rowset_label=full_country_Australia, columnset_label=all_numeric_categerical, cutoff=250 yield columns=450, ACC=0.9659754899426031, in duration=17.2424s\n",
      "model_type=linear_regression rowset_label=full_country_Australia, columnset_label=all_numeric_categerical, cutoff=100 yield columns=452, ACC=0.9816433114431977, in duration=0.9413s\n",
      "model_type=random_forest rowset_label=full_country_Australia, columnset_label=all_numeric_categerical, cutoff=100 yield columns=452, ACC=0.9816433114431977, in duration=9.0978s\n",
      "model_type=linear_svm rowset_label=full_country_Australia, columnset_label=all_numeric_categerical, cutoff=100 yield columns=452, ACC=0.9751279797300791, in duration=16.7751s\n"
     ]
    },
    {
     "name": "stderr",
     "output_type": "stream",
     "text": [
      "/opt/conda/lib/python3.9/site-packages/sklearn/svm/_base.py:985: ConvergenceWarning: Liblinear failed to converge, increase the number of iterations.\n",
      "  warnings.warn(\"Liblinear failed to converge, increase \"\n"
     ]
    }
   ],
   "source": [
    "results = []\n",
    "for country in countries_with_enough_samples:\n",
    "    country_results = predict_country( \\\n",
    "        rowset_label='full_country_%s' % country, \\\n",
    "        columnset_label='all_numeric_categerical', \\\n",
    "        imputed_df=full_country_imputed, \\\n",
    "        cutoffs=cutoffs, \\\n",
    "        country_to_classify=country, \\\n",
    "        row_sample_rate=row_sample_rate \\\n",
    "    )\n",
    "    results.extend(country_results)"
   ]
  },
  {
   "cell_type": "code",
   "execution_count": 6,
   "id": "5f663f0b-6e39-4cfc-bd3e-4de31550a912",
   "metadata": {},
   "outputs": [],
   "source": [
    "# result_df = pd.DataFrame(data=results).set_index(['rowset_label', 'columnset_label', 'country', 'cutoff'])\n",
    "result_df = pd.DataFrame(data=results).set_index(['country', 'cutoff'])\n",
    "for to_round in ['TPR', 'TNR', 'PPV', 'NPV', 'ACC', 'duration']:\n",
    "    result_df[to_round] = result_df[to_round].map(lambda x: round(x,3))\n",
    "\n",
    "result_df.drop(columns=['X_columns', 'coefficients']).sort_values('ACC')\n",
    "\n",
    "with open('./pickles/latest_results.pkl', 'wb') as f:\n",
    "    pickle.dump(result_df, f)\n",
    "\n",
    "cutoff_string = '-'.join(map(str, cutoffs))\n",
    "dataset_name = 'full_country_row_sample_rate_%s_country_min_sample_cutoff_%s_cutoffs_%s_results' % (row_sample_rate, country_min_sample_cutoff, cutoff_string)\n",
    "with open('./pickles/%s.pkl' % dataset_name, 'wb') as f:\n",
    "    pickle.dump(result_df, f)\n"
   ]
  },
  {
   "cell_type": "code",
   "execution_count": 7,
   "id": "a2f91171-a1c8-4b1e-923b-882267e838d1",
   "metadata": {},
   "outputs": [
    {
     "name": "stdout",
     "output_type": "stream",
     "text": [
      "script duration 1676.288s\n"
     ]
    }
   ],
   "source": [
    "script_end = time.time()\n",
    "print('script duration %ss' % round(script_end - start, 3))"
   ]
  },
  {
   "cell_type": "code",
   "execution_count": null,
   "id": "d4d265ac-0d5f-4b6a-ba98-98c0432a7bad",
   "metadata": {},
   "outputs": [],
   "source": []
  }
 ],
 "metadata": {
  "kernelspec": {
   "display_name": "Python 3",
   "language": "python",
   "name": "python3"
  },
  "language_info": {
   "codemirror_mode": {
    "name": "ipython",
    "version": 3
   },
   "file_extension": ".py",
   "mimetype": "text/x-python",
   "name": "python",
   "nbconvert_exporter": "python",
   "pygments_lexer": "ipython3",
   "version": "3.9.5"
  }
 },
 "nbformat": 4,
 "nbformat_minor": 5
}
