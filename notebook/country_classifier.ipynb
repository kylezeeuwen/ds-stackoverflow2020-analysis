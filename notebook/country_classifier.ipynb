{
 "cells": [
  {
   "cell_type": "code",
   "execution_count": 1,
   "id": "24a5156b-b84f-4b37-81a2-6fcaff091a0b",
   "metadata": {},
   "outputs": [],
   "source": [
    "row_sample_rate = 0.5\n",
    "country_min_sample_cutoff = 500\n",
    "DUMMY_NA = True\n",
    "FILL=\"Mean\""
   ]
  },
  {
   "cell_type": "code",
   "execution_count": 2,
   "id": "4b540d18-dd73-444f-87a1-1421d177f60f",
   "metadata": {},
   "outputs": [],
   "source": [
    "import numpy as np\n",
    "import pandas as pd\n",
    "import time\n",
    "import pickle\n",
    "\n",
    "from helpers import clone_drop_and_convert, clone_and_convert_multiple_choice_columns, clone_impute_data, perf_measures, round_decision, reduce_dataframe_using_min_non_null, get_coefficent_weights\n",
    "from models import apply_linear_regression_model\n",
    "from predict_country import predict_country\n",
    "\n",
    "# Developer note: If you modify the modules above, the changes to those modules will not be reflected until you \n",
    "# re-execute this cell, specifically the reload commands\n",
    "# TODO this doesn't work yet\n",
    "# import reload\n",
    "# reload(clone_drop_and_convert)\n",
    "# reload(models)\n",
    "\n",
    "pd.options.display.max_rows = 2000\n",
    "pd.options.display.max_columns = 1000\n",
    "pd.options.display.max_colwidth = 255\n",
    "\n",
    "script_start = time.time()\n",
    "\n",
    "raw_df = pd.read_csv('./assets/survey_results_public.csv')\n",
    "schema = pd.read_csv('./assets/survey_results_schema.csv')"
   ]
  },
  {
   "cell_type": "code",
   "execution_count": 3,
   "id": "355aad10-cb31-43cb-a2ed-fca578236c98",
   "metadata": {},
   "outputs": [
    {
     "name": "stdout",
     "output_type": "stream",
     "text": [
      "convert multi choice time 36.663614988327026\n",
      "convert multi choice dataset has 64461 rows and 369 columns\n",
      "full_country impute time 0.3745298385620117\n",
      "full country imputed dataset has 32230 rows and 454 columns\n"
     ]
    }
   ],
   "source": [
    "start = time.time()\n",
    "df = clone_and_convert_multiple_choice_columns(clone_drop_and_convert(raw_df))\n",
    "end = time.time()\n",
    "print('convert multi choice time %s' % (end - start))\n",
    "print(\"convert multi choice dataset has %s rows and %s columns\" % (df.shape[0], df.shape[1]))\n",
    "\n",
    "full_country = df.sample(frac=row_sample_rate, axis=0)\n",
    "\n",
    "start = time.time()\n",
    "full_country_imputed = clone_impute_data(full_country, dummy_na=True, fill_technique=FILL)\n",
    "end = time.time()\n",
    "print('full_country impute time %s' % (end - start))\n",
    "print(\"full country imputed dataset has %s rows and %s columns\" % (full_country_imputed.shape[0], full_country_imputed.shape[1]))"
   ]
  },
  {
   "cell_type": "code",
   "execution_count": 4,
   "id": "b06a9f4f-6929-41d1-8b8b-b591552a2567",
   "metadata": {},
   "outputs": [
    {
     "data": {
      "text/plain": [
       "array(['United States', 'India', 'United Kingdom', 'Germany', 'Canada',\n",
       "       'France', 'Brazil', 'Netherlands', 'Poland', 'Australia', 'Italy',\n",
       "       'Russian Federation', 'Spain'], dtype=object)"
      ]
     },
     "execution_count": 4,
     "metadata": {},
     "output_type": "execute_result"
    }
   ],
   "source": [
    "countries = full_country['Country'].value_counts()\n",
    "countries_with_enough_samples = countries[countries > (1000 * row_sample_rate)].index.values\n",
    "countries_with_enough_samples"
   ]
  },
  {
   "cell_type": "code",
   "execution_count": 5,
   "id": "a9da838e-005d-4aab-90e7-5712b146f988",
   "metadata": {},
   "outputs": [
    {
     "name": "stdout",
     "output_type": "stream",
     "text": [
      "rowset_label=full_country_United States, columnset_label=all_numeric_categerical, cutoff=5000 yield columns=193, ACC=0.8330747750542973, in duration=208.018s\n",
      "rowset_label=full_country_United States, columnset_label=all_numeric_categerical, cutoff=2500 yield columns=293, ACC=0.8383493639466336, in duration=303.245s\n",
      "rowset_label=full_country_United States, columnset_label=all_numeric_categerical, cutoff=1000 yield columns=381, ACC=0.8413486399834522, in duration=409.004s\n",
      "rowset_label=full_country_United States, columnset_label=all_numeric_categerical, cutoff=500 yield columns=422, ACC=0.84269314303444, in duration=432.132s\n",
      "rowset_label=full_country_United States, columnset_label=all_numeric_categerical, cutoff=250 yield columns=442, ACC=0.8423828730995967, in duration=463.326s\n",
      "rowset_label=full_country_United States, columnset_label=all_numeric_categerical, cutoff=100 yield columns=451, ACC=0.8415554866066811, in duration=477.525s\n",
      "rowset_label=full_country_India, columnset_label=all_numeric_categerical, cutoff=5000 yield columns=193, ACC=0.882614541317613, in duration=200.967s\n",
      "rowset_label=full_country_India, columnset_label=all_numeric_categerical, cutoff=2500 yield columns=293, ACC=0.8872685903402627, in duration=278.342s\n",
      "rowset_label=full_country_India, columnset_label=all_numeric_categerical, cutoff=1000 yield columns=381, ACC=0.8967835350087909, in duration=390.953s\n",
      "rowset_label=full_country_India, columnset_label=all_numeric_categerical, cutoff=500 yield columns=422, ACC=0.8977143448133209, in duration=418.021s\n",
      "rowset_label=full_country_India, columnset_label=all_numeric_categerical, cutoff=250 yield columns=442, ACC=0.8977143448133209, in duration=458.601s\n",
      "rowset_label=full_country_India, columnset_label=all_numeric_categerical, cutoff=100 yield columns=451, ACC=0.8978177681249354, in duration=459.39s\n",
      "rowset_label=full_country_United Kingdom, columnset_label=all_numeric_categerical, cutoff=5000 yield columns=193, ACC=0.9374288964732651, in duration=203.143s\n",
      "rowset_label=full_country_United Kingdom, columnset_label=all_numeric_categerical, cutoff=2500 yield columns=293, ACC=0.9374288964732651, in duration=297.234s\n",
      "rowset_label=full_country_United Kingdom, columnset_label=all_numeric_categerical, cutoff=1000 yield columns=381, ACC=0.9374288964732651, in duration=388.961s\n",
      "rowset_label=full_country_United Kingdom, columnset_label=all_numeric_categerical, cutoff=500 yield columns=422, ACC=0.9374288964732651, in duration=418.983s\n",
      "rowset_label=full_country_United Kingdom, columnset_label=all_numeric_categerical, cutoff=250 yield columns=442, ACC=0.9374288964732651, in duration=471.953s\n",
      "rowset_label=full_country_United Kingdom, columnset_label=all_numeric_categerical, cutoff=100 yield columns=451, ACC=0.9374288964732651, in duration=468.174s\n",
      "rowset_label=full_country_Germany, columnset_label=all_numeric_categerical, cutoff=5000 yield columns=193, ACC=0.9414624056262282, in duration=192.089s\n",
      "rowset_label=full_country_Germany, columnset_label=all_numeric_categerical, cutoff=2500 yield columns=293, ACC=0.9414624056262282, in duration=300.983s\n",
      "rowset_label=full_country_Germany, columnset_label=all_numeric_categerical, cutoff=1000 yield columns=381, ACC=0.9414624056262282, in duration=400.648s\n",
      "rowset_label=full_country_Germany, columnset_label=all_numeric_categerical, cutoff=500 yield columns=422, ACC=0.9414624056262282, in duration=434.4s\n",
      "rowset_label=full_country_Germany, columnset_label=all_numeric_categerical, cutoff=250 yield columns=442, ACC=0.9414624056262282, in duration=464.434s\n",
      "rowset_label=full_country_Germany, columnset_label=all_numeric_categerical, cutoff=100 yield columns=451, ACC=0.9414624056262282, in duration=452.47s\n",
      "rowset_label=full_country_Canada, columnset_label=all_numeric_categerical, cutoff=5000 yield columns=193, ACC=0.9674216568414521, in duration=196.343s\n",
      "rowset_label=full_country_Canada, columnset_label=all_numeric_categerical, cutoff=2500 yield columns=293, ACC=0.9674216568414521, in duration=285.507s\n",
      "rowset_label=full_country_Canada, columnset_label=all_numeric_categerical, cutoff=1000 yield columns=381, ACC=0.9674216568414521, in duration=403.031s\n",
      "rowset_label=full_country_Canada, columnset_label=all_numeric_categerical, cutoff=500 yield columns=422, ACC=0.9674216568414521, in duration=434.648s\n",
      "rowset_label=full_country_Canada, columnset_label=all_numeric_categerical, cutoff=250 yield columns=442, ACC=0.9674216568414521, in duration=495.186s\n",
      "rowset_label=full_country_Canada, columnset_label=all_numeric_categerical, cutoff=100 yield columns=451, ACC=0.9674216568414521, in duration=460.365s\n",
      "rowset_label=full_country_France, columnset_label=all_numeric_categerical, cutoff=5000 yield columns=193, ACC=0.970938049436343, in duration=208.072s\n",
      "rowset_label=full_country_France, columnset_label=all_numeric_categerical, cutoff=2500 yield columns=293, ACC=0.970938049436343, in duration=300.681s\n",
      "rowset_label=full_country_France, columnset_label=all_numeric_categerical, cutoff=1000 yield columns=381, ACC=0.970938049436343, in duration=418.54s\n",
      "rowset_label=full_country_France, columnset_label=all_numeric_categerical, cutoff=500 yield columns=422, ACC=0.970938049436343, in duration=459.072s\n",
      "rowset_label=full_country_France, columnset_label=all_numeric_categerical, cutoff=250 yield columns=442, ACC=0.970938049436343, in duration=460.415s\n",
      "rowset_label=full_country_France, columnset_label=all_numeric_categerical, cutoff=100 yield columns=451, ACC=0.970938049436343, in duration=457.634s\n",
      "rowset_label=full_country_Brazil, columnset_label=all_numeric_categerical, cutoff=5000 yield columns=193, ACC=0.9703175095666563, in duration=183.414s\n",
      "rowset_label=full_country_Brazil, columnset_label=all_numeric_categerical, cutoff=2500 yield columns=293, ACC=0.9703175095666563, in duration=315.219s\n",
      "rowset_label=full_country_Brazil, columnset_label=all_numeric_categerical, cutoff=1000 yield columns=381, ACC=0.9703175095666563, in duration=416.602s\n",
      "rowset_label=full_country_Brazil, columnset_label=all_numeric_categerical, cutoff=500 yield columns=422, ACC=0.9703175095666563, in duration=439.742s\n",
      "rowset_label=full_country_Brazil, columnset_label=all_numeric_categerical, cutoff=250 yield columns=442, ACC=0.9703175095666563, in duration=468.724s\n",
      "rowset_label=full_country_Brazil, columnset_label=all_numeric_categerical, cutoff=100 yield columns=451, ACC=0.9703175095666563, in duration=461.392s\n",
      "rowset_label=full_country_Netherlands, columnset_label=all_numeric_categerical, cutoff=5000 yield columns=193, ACC=0.9798324542351846, in duration=193.862s\n",
      "rowset_label=full_country_Netherlands, columnset_label=all_numeric_categerical, cutoff=2500 yield columns=293, ACC=0.9798324542351846, in duration=295.163s\n",
      "rowset_label=full_country_Netherlands, columnset_label=all_numeric_categerical, cutoff=1000 yield columns=381, ACC=0.9798324542351846, in duration=399.731s\n",
      "rowset_label=full_country_Netherlands, columnset_label=all_numeric_categerical, cutoff=500 yield columns=422, ACC=0.9798324542351846, in duration=433.395s\n",
      "rowset_label=full_country_Netherlands, columnset_label=all_numeric_categerical, cutoff=250 yield columns=442, ACC=0.9798324542351846, in duration=460.462s\n",
      "rowset_label=full_country_Netherlands, columnset_label=all_numeric_categerical, cutoff=100 yield columns=451, ACC=0.9798324542351846, in duration=472.163s\n",
      "rowset_label=full_country_Poland, columnset_label=all_numeric_categerical, cutoff=5000 yield columns=193, ACC=0.9806598407281001, in duration=202.545s\n",
      "rowset_label=full_country_Poland, columnset_label=all_numeric_categerical, cutoff=2500 yield columns=293, ACC=0.9806598407281001, in duration=299.414s\n",
      "rowset_label=full_country_Poland, columnset_label=all_numeric_categerical, cutoff=1000 yield columns=381, ACC=0.9806598407281001, in duration=412.85s\n",
      "rowset_label=full_country_Poland, columnset_label=all_numeric_categerical, cutoff=500 yield columns=422, ACC=0.9806598407281001, in duration=435.557s\n",
      "rowset_label=full_country_Poland, columnset_label=all_numeric_categerical, cutoff=250 yield columns=442, ACC=0.9806598407281001, in duration=456.539s\n",
      "rowset_label=full_country_Poland, columnset_label=all_numeric_categerical, cutoff=100 yield columns=451, ACC=0.9806598407281001, in duration=468.152s\n",
      "rowset_label=full_country_Australia, columnset_label=all_numeric_categerical, cutoff=5000 yield columns=193, ACC=0.9802461474816424, in duration=188.842s\n",
      "rowset_label=full_country_Australia, columnset_label=all_numeric_categerical, cutoff=2500 yield columns=293, ACC=0.9802461474816424, in duration=302.543s\n",
      "rowset_label=full_country_Australia, columnset_label=all_numeric_categerical, cutoff=1000 yield columns=381, ACC=0.9802461474816424, in duration=404.279s\n",
      "rowset_label=full_country_Australia, columnset_label=all_numeric_categerical, cutoff=500 yield columns=422, ACC=0.9802461474816424, in duration=416.175s\n",
      "rowset_label=full_country_Australia, columnset_label=all_numeric_categerical, cutoff=250 yield columns=442, ACC=0.9802461474816424, in duration=472.665s\n",
      "rowset_label=full_country_Australia, columnset_label=all_numeric_categerical, cutoff=100 yield columns=451, ACC=0.9802461474816424, in duration=469.805s\n",
      "rowset_label=full_country_Italy, columnset_label=all_numeric_categerical, cutoff=5000 yield columns=193, ACC=0.9804529941048712, in duration=184.776s\n",
      "rowset_label=full_country_Italy, columnset_label=all_numeric_categerical, cutoff=2500 yield columns=293, ACC=0.9804529941048712, in duration=284.91s\n",
      "rowset_label=full_country_Italy, columnset_label=all_numeric_categerical, cutoff=1000 yield columns=381, ACC=0.9804529941048712, in duration=379.367s\n",
      "rowset_label=full_country_Italy, columnset_label=all_numeric_categerical, cutoff=500 yield columns=422, ACC=0.9804529941048712, in duration=417.796s\n",
      "rowset_label=full_country_Italy, columnset_label=all_numeric_categerical, cutoff=250 yield columns=442, ACC=0.9804529941048712, in duration=470.891s\n",
      "rowset_label=full_country_Italy, columnset_label=all_numeric_categerical, cutoff=100 yield columns=451, ACC=0.9804529941048712, in duration=476.001s\n",
      "rowset_label=full_country_Russian Federation, columnset_label=all_numeric_categerical, cutoff=5000 yield columns=193, ACC=0.9826248836487744, in duration=189.164s\n",
      "rowset_label=full_country_Russian Federation, columnset_label=all_numeric_categerical, cutoff=2500 yield columns=293, ACC=0.9826248836487744, in duration=295.684s\n",
      "rowset_label=full_country_Russian Federation, columnset_label=all_numeric_categerical, cutoff=1000 yield columns=381, ACC=0.9826248836487744, in duration=409.909s\n",
      "rowset_label=full_country_Russian Federation, columnset_label=all_numeric_categerical, cutoff=500 yield columns=422, ACC=0.9826248836487744, in duration=420.342s\n",
      "rowset_label=full_country_Russian Federation, columnset_label=all_numeric_categerical, cutoff=250 yield columns=442, ACC=0.9826248836487744, in duration=467.057s\n",
      "rowset_label=full_country_Russian Federation, columnset_label=all_numeric_categerical, cutoff=100 yield columns=451, ACC=0.9826248836487744, in duration=476.533s\n",
      "rowset_label=full_country_Spain, columnset_label=all_numeric_categerical, cutoff=5000 yield columns=193, ACC=0.9829351535836177, in duration=198.334s\n",
      "rowset_label=full_country_Spain, columnset_label=all_numeric_categerical, cutoff=2500 yield columns=293, ACC=0.9829351535836177, in duration=291.835s\n",
      "rowset_label=full_country_Spain, columnset_label=all_numeric_categerical, cutoff=1000 yield columns=381, ACC=0.9829351535836177, in duration=392.691s\n",
      "rowset_label=full_country_Spain, columnset_label=all_numeric_categerical, cutoff=500 yield columns=422, ACC=0.9829351535836177, in duration=431.616s\n",
      "rowset_label=full_country_Spain, columnset_label=all_numeric_categerical, cutoff=250 yield columns=442, ACC=0.9829351535836177, in duration=465.024s\n",
      "rowset_label=full_country_Spain, columnset_label=all_numeric_categerical, cutoff=100 yield columns=451, ACC=0.9829351535836177, in duration=475.357s\n"
     ]
    }
   ],
   "source": [
    "#cutoffs here pertains to the number of missing values allowed in the used columns.\n",
    "#Therefore, lower values for the cutoff provides more predictors in the model.\n",
    "\n",
    "# cutoffs = [5000, 3500, 2500, 1000, 100, 50, 30, 25, 0]\n",
    "adjust_cutoff_with_sample_rate = lambda cutoff: cutoff * row_sample_rate\n",
    "#cutoffs = map(adjust_cutoff_with_sample_rate, [5000, 2500, 1000, 500, 250, 100])\n",
    "cutoffs = [5000, 2500, 1000, 500, 250, 100]\n",
    "\n",
    "results = []\n",
    "for country in countries_with_enough_samples:\n",
    "    country_results = predict_country( \\\n",
    "        rowset_label='full_country_%s' % country, \\\n",
    "        columnset_label='all_numeric_categerical', \\\n",
    "        imputed_df=full_country_imputed, \\\n",
    "        cutoffs=cutoffs, \\\n",
    "        country_to_classify=country, \\\n",
    "        row_sample_rate=row_sample_rate \\\n",
    "    )\n",
    "    results.extend(country_results)"
   ]
  },
  {
   "cell_type": "code",
   "execution_count": 6,
   "id": "5f663f0b-6e39-4cfc-bd3e-4de31550a912",
   "metadata": {},
   "outputs": [],
   "source": [
    "# result_df = pd.DataFrame(data=results).set_index(['rowset_label', 'columnset_label', 'country', 'cutoff'])\n",
    "result_df = pd.DataFrame(data=results).set_index(['country', 'cutoff'])\n",
    "for to_round in ['TPR', 'TNR', 'PPV', 'NPV', 'ACC', 'duration']:\n",
    "    result_df[to_round] = result_df[to_round].map(lambda x: round(x,3))\n",
    "\n",
    "result_df.drop(columns=['X_columns', 'coefficients']).sort_values('ACC')\n",
    "\n",
    "with open('./pickles/results.pkl', 'wb') as f:\n",
    "    pickle.dump(result_df, f)"
   ]
  },
  {
   "cell_type": "code",
   "execution_count": 7,
   "id": "a2f91171-a1c8-4b1e-923b-882267e838d1",
   "metadata": {},
   "outputs": [
    {
     "ename": "TypeError",
     "evalue": "unsupported operand type(s) for -: 'str' and 'float'",
     "output_type": "error",
     "traceback": [
      "\u001b[0;31m---------------------------------------------------------------------------\u001b[0m",
      "\u001b[0;31mTypeError\u001b[0m                                 Traceback (most recent call last)",
      "\u001b[0;32m<ipython-input-7-702193832405>\u001b[0m in \u001b[0;36m<module>\u001b[0;34m\u001b[0m\n\u001b[1;32m      1\u001b[0m \u001b[0mscript_end\u001b[0m \u001b[0;34m=\u001b[0m \u001b[0mtime\u001b[0m\u001b[0;34m.\u001b[0m\u001b[0mtime\u001b[0m\u001b[0;34m(\u001b[0m\u001b[0;34m)\u001b[0m\u001b[0;34m\u001b[0m\u001b[0;34m\u001b[0m\u001b[0m\n\u001b[0;32m----> 2\u001b[0;31m \u001b[0mprint\u001b[0m\u001b[0;34m(\u001b[0m\u001b[0;34m'script duration %s'\u001b[0m \u001b[0;34m%\u001b[0m \u001b[0mend\u001b[0m \u001b[0;34m-\u001b[0m \u001b[0mstart\u001b[0m\u001b[0;34m)\u001b[0m\u001b[0;34m\u001b[0m\u001b[0;34m\u001b[0m\u001b[0m\n\u001b[0m",
      "\u001b[0;31mTypeError\u001b[0m: unsupported operand type(s) for -: 'str' and 'float'"
     ]
    }
   ],
   "source": [
    "script_end = time.time()\n",
    "print('script duration %s' % end - start)"
   ]
  }
 ],
 "metadata": {
  "kernelspec": {
   "display_name": "Python 3",
   "language": "python",
   "name": "python3"
  },
  "language_info": {
   "codemirror_mode": {
    "name": "ipython",
    "version": 3
   },
   "file_extension": ".py",
   "mimetype": "text/x-python",
   "name": "python",
   "nbconvert_exporter": "python",
   "pygments_lexer": "ipython3",
   "version": "3.9.5"
  }
 },
 "nbformat": 4,
 "nbformat_minor": 5
}
