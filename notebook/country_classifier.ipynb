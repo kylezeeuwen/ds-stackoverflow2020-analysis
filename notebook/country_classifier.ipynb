{
 "cells": [
  {
   "cell_type": "code",
   "execution_count": 1,
   "id": "24a5156b-b84f-4b37-81a2-6fcaff091a0b",
   "metadata": {},
   "outputs": [],
   "source": [
    "row_sample_rate = 1\n",
    "country_min_sample_cutoff = 1200\n",
    "DUMMY_NA = True\n",
    "FILL=\"Mean\"\n",
    "cutoffs = [5000, 2500, 1000, 500, 250, 100]\n"
   ]
  },
  {
   "cell_type": "code",
   "execution_count": 2,
   "id": "4b540d18-dd73-444f-87a1-1421d177f60f",
   "metadata": {},
   "outputs": [],
   "source": [
    "import numpy as np\n",
    "import pandas as pd\n",
    "import time\n",
    "import pickle\n",
    "\n",
    "from helpers import clone_drop_and_convert, clone_and_convert_multiple_choice_columns, clone_impute_data, perf_measures, round_decision, reduce_dataframe_using_min_non_null, get_coefficent_weights\n",
    "from models import apply_linear_regression_model\n",
    "from predict_country import predict_country\n",
    "\n",
    "# Developer note: If you modify the modules above, the changes to those modules will not be reflected until you \n",
    "# re-execute this cell, specifically the reload commands\n",
    "# TODO this doesn't work yet\n",
    "# import reload\n",
    "# reload(clone_drop_and_convert)\n",
    "# reload(models)\n",
    "\n",
    "pd.options.display.max_rows = 2000\n",
    "pd.options.display.max_columns = 1000\n",
    "pd.options.display.max_colwidth = 255\n",
    "\n",
    "script_start = time.time()\n",
    "\n",
    "raw_df = pd.read_csv('./assets/survey_results_public.csv')\n",
    "schema = pd.read_csv('./assets/survey_results_schema.csv')"
   ]
  },
  {
   "cell_type": "code",
   "execution_count": 3,
   "id": "355aad10-cb31-43cb-a2ed-fca578236c98",
   "metadata": {},
   "outputs": [
    {
     "name": "stdout",
     "output_type": "stream",
     "text": [
      "convert multi choice time 35.354s\n",
      "convert multi choice dataset has 64461 rows and 358 columns\n",
      "full_country impute time 0.724s\n",
      "full country imputed dataset has 64461 rows and 443 columns\n"
     ]
    }
   ],
   "source": [
    "start = time.time()\n",
    "\n",
    "df = clone_and_convert_multiple_choice_columns( \\\n",
    "         clone_drop_and_convert( \\\n",
    "             raw_df.sample(frac=row_sample_rate, axis=0) \\\n",
    "         ) \\\n",
    "     )\n",
    "end = time.time()\n",
    "print('convert multi choice time %ss' % round(end - start, 3))\n",
    "print(\"convert multi choice dataset has %s rows and %s columns\" % (df.shape[0], df.shape[1]))\n",
    "\n",
    "full_country = df\n",
    "\n",
    "start = time.time()\n",
    "full_country_imputed = clone_impute_data(full_country, dummy_na=True, fill_technique=FILL)\n",
    "end = time.time()\n",
    "print('full_country impute time %ss' % round(end - start, 3))\n",
    "print(\"full country imputed dataset has %s rows and %s columns\" % (full_country_imputed.shape[0], full_country_imputed.shape[1]))"
   ]
  },
  {
   "cell_type": "code",
   "execution_count": 4,
   "id": "b06a9f4f-6929-41d1-8b8b-b591552a2567",
   "metadata": {},
   "outputs": [
    {
     "data": {
      "text/plain": [
       "array(['United States', 'India', 'United Kingdom', 'Germany', 'Canada',\n",
       "       'France', 'Brazil', 'Netherlands', 'Poland', 'Australia'],\n",
       "      dtype=object)"
      ]
     },
     "execution_count": 4,
     "metadata": {},
     "output_type": "execute_result"
    }
   ],
   "source": [
    "countries = full_country['Country'].value_counts()\n",
    "countries_with_enough_samples = countries[countries > (country_min_sample_cutoff * row_sample_rate)].index.values\n",
    "countries_with_enough_samples"
   ]
  },
  {
   "cell_type": "code",
   "execution_count": 5,
   "id": "a9da838e-005d-4aab-90e7-5712b146f988",
   "metadata": {},
   "outputs": [
    {
     "name": "stdout",
     "output_type": "stream",
     "text": [
      "model_type=linear_regression rowset_label=full_country_United States, columnset_label=all_numeric_categerical, cutoff=5000 yield columns=291, ACC=0.8300325766585656, in duration=0.6379s\n",
      "model_type=random_forest rowset_label=full_country_United States, columnset_label=all_numeric_categerical, cutoff=5000 yield columns=291, ACC=0.8388748125549408, in duration=9.0446s\n"
     ]
    },
    {
     "name": "stderr",
     "output_type": "stream",
     "text": [
      "/opt/conda/lib/python3.9/site-packages/sklearn/svm/_base.py:985: ConvergenceWarning: Liblinear failed to converge, increase the number of iterations.\n",
      "  warnings.warn(\"Liblinear failed to converge, increase \"\n"
     ]
    },
    {
     "name": "stdout",
     "output_type": "stream",
     "text": [
      "model_type=linear_svm rowset_label=full_country_United States, columnset_label=all_numeric_categerical, cutoff=5000 yield columns=291, ACC=0.8029370701690883, in duration=15.0556s\n",
      "model_type=linear_regression rowset_label=full_country_United States, columnset_label=all_numeric_categerical, cutoff=2500 yield columns=358, ACC=0.8308599203681679, in duration=0.7355s\n",
      "model_type=random_forest rowset_label=full_country_United States, columnset_label=all_numeric_categerical, cutoff=2500 yield columns=358, ACC=0.8310150473137184, in duration=9.7086s\n"
     ]
    },
    {
     "name": "stderr",
     "output_type": "stream",
     "text": [
      "/opt/conda/lib/python3.9/site-packages/sklearn/svm/_base.py:985: ConvergenceWarning: Liblinear failed to converge, increase the number of iterations.\n",
      "  warnings.warn(\"Liblinear failed to converge, increase \"\n"
     ]
    },
    {
     "name": "stdout",
     "output_type": "stream",
     "text": [
      "model_type=linear_svm rowset_label=full_country_United States, columnset_label=all_numeric_categerical, cutoff=2500 yield columns=358, ACC=0.8046434665701432, in duration=15.4422s\n",
      "model_type=linear_regression rowset_label=full_country_United States, columnset_label=all_numeric_categerical, cutoff=1000 yield columns=414, ACC=0.832979988624024, in duration=0.9078s\n",
      "model_type=random_forest rowset_label=full_country_United States, columnset_label=all_numeric_categerical, cutoff=1000 yield columns=414, ACC=0.8277056724753089, in duration=10.4871s\n"
     ]
    },
    {
     "name": "stderr",
     "output_type": "stream",
     "text": [
      "/opt/conda/lib/python3.9/site-packages/sklearn/svm/_base.py:985: ConvergenceWarning: Liblinear failed to converge, increase the number of iterations.\n",
      "  warnings.warn(\"Liblinear failed to converge, increase \"\n"
     ]
    },
    {
     "name": "stdout",
     "output_type": "stream",
     "text": [
      "model_type=linear_svm rowset_label=full_country_United States, columnset_label=all_numeric_categerical, cutoff=1000 yield columns=414, ACC=0.7908371684161539, in duration=15.671s\n",
      "model_type=linear_regression rowset_label=full_country_United States, columnset_label=all_numeric_categerical, cutoff=500 yield columns=433, ACC=0.8322560628781219, in duration=0.9082s\n",
      "model_type=random_forest rowset_label=full_country_United States, columnset_label=all_numeric_categerical, cutoff=500 yield columns=433, ACC=0.8281710533119603, in duration=10.5375s\n"
     ]
    },
    {
     "name": "stderr",
     "output_type": "stream",
     "text": [
      "/opt/conda/lib/python3.9/site-packages/sklearn/svm/_base.py:985: ConvergenceWarning: Liblinear failed to converge, increase the number of iterations.\n",
      "  warnings.warn(\"Liblinear failed to converge, increase \"\n"
     ]
    },
    {
     "name": "stdout",
     "output_type": "stream",
     "text": [
      "model_type=linear_svm rowset_label=full_country_United States, columnset_label=all_numeric_categerical, cutoff=500 yield columns=433, ACC=0.37235637830291124, in duration=15.2939s\n",
      "model_type=linear_regression rowset_label=full_country_United States, columnset_label=all_numeric_categerical, cutoff=250 yield columns=439, ACC=0.8325663167692228, in duration=0.9488s\n",
      "model_type=random_forest rowset_label=full_country_United States, columnset_label=all_numeric_categerical, cutoff=250 yield columns=439, ACC=0.8299808676767154, in duration=10.4232s\n"
     ]
    },
    {
     "name": "stderr",
     "output_type": "stream",
     "text": [
      "/opt/conda/lib/python3.9/site-packages/sklearn/svm/_base.py:985: ConvergenceWarning: Liblinear failed to converge, increase the number of iterations.\n",
      "  warnings.warn(\"Liblinear failed to converge, increase \"\n"
     ]
    },
    {
     "name": "stdout",
     "output_type": "stream",
     "text": [
      "model_type=linear_svm rowset_label=full_country_United States, columnset_label=all_numeric_categerical, cutoff=250 yield columns=439, ACC=0.8043332126790423, in duration=15.1402s\n",
      "model_type=linear_regression rowset_label=full_country_United States, columnset_label=all_numeric_categerical, cutoff=100 yield columns=441, ACC=0.8325663167692228, in duration=0.9817s\n",
      "model_type=random_forest rowset_label=full_country_United States, columnset_label=all_numeric_categerical, cutoff=100 yield columns=441, ACC=0.828429598221211, in duration=10.9362s\n"
     ]
    },
    {
     "name": "stderr",
     "output_type": "stream",
     "text": [
      "/opt/conda/lib/python3.9/site-packages/sklearn/svm/_base.py:985: ConvergenceWarning: Liblinear failed to converge, increase the number of iterations.\n",
      "  warnings.warn(\"Liblinear failed to converge, increase \"\n"
     ]
    },
    {
     "name": "stdout",
     "output_type": "stream",
     "text": [
      "model_type=linear_svm rowset_label=full_country_United States, columnset_label=all_numeric_categerical, cutoff=100 yield columns=441, ACC=0.7879414654325456, in duration=15.7369s\n",
      "model_type=linear_regression rowset_label=full_country_India, columnset_label=all_numeric_categerical, cutoff=5000 yield columns=291, ACC=0.8816898495268628, in duration=0.5931s\n",
      "model_type=random_forest rowset_label=full_country_India, columnset_label=all_numeric_categerical, cutoff=5000 yield columns=291, ACC=0.8680903873002741, in duration=8.099s\n"
     ]
    },
    {
     "name": "stderr",
     "output_type": "stream",
     "text": [
      "/opt/conda/lib/python3.9/site-packages/sklearn/svm/_base.py:985: ConvergenceWarning: Liblinear failed to converge, increase the number of iterations.\n",
      "  warnings.warn(\"Liblinear failed to converge, increase \"\n"
     ]
    },
    {
     "name": "stdout",
     "output_type": "stream",
     "text": [
      "model_type=linear_svm rowset_label=full_country_India, columnset_label=all_numeric_categerical, cutoff=5000 yield columns=291, ACC=0.7750659289518589, in duration=15.2746s\n",
      "model_type=linear_regression rowset_label=full_country_India, columnset_label=all_numeric_categerical, cutoff=2500 yield columns=358, ACC=0.8833962459279177, in duration=0.7452s\n",
      "model_type=random_forest rowset_label=full_country_India, columnset_label=all_numeric_categerical, cutoff=2500 yield columns=358, ACC=0.8672630435906717, in duration=8.8918s\n"
     ]
    },
    {
     "name": "stderr",
     "output_type": "stream",
     "text": [
      "/opt/conda/lib/python3.9/site-packages/sklearn/svm/_base.py:985: ConvergenceWarning: Liblinear failed to converge, increase the number of iterations.\n",
      "  warnings.warn(\"Liblinear failed to converge, increase \"\n"
     ]
    },
    {
     "name": "stdout",
     "output_type": "stream",
     "text": [
      "model_type=linear_svm rowset_label=full_country_India, columnset_label=all_numeric_categerical, cutoff=2500 yield columns=358, ACC=0.8661254459899684, in duration=15.7385s\n",
      "model_type=linear_regression rowset_label=full_country_India, columnset_label=all_numeric_categerical, cutoff=1000 yield columns=414, ACC=0.884895806401572, in duration=0.9356s\n",
      "model_type=random_forest rowset_label=full_country_India, columnset_label=all_numeric_categerical, cutoff=1000 yield columns=414, ACC=0.8671596256269714, in duration=9.8514s\n"
     ]
    },
    {
     "name": "stderr",
     "output_type": "stream",
     "text": [
      "/opt/conda/lib/python3.9/site-packages/sklearn/svm/_base.py:985: ConvergenceWarning: Liblinear failed to converge, increase the number of iterations.\n",
      "  warnings.warn(\"Liblinear failed to converge, increase \"\n"
     ]
    },
    {
     "name": "stdout",
     "output_type": "stream",
     "text": [
      "model_type=linear_svm rowset_label=full_country_India, columnset_label=all_numeric_categerical, cutoff=1000 yield columns=414, ACC=0.8551114328558871, in duration=15.8663s\n",
      "model_type=linear_regression rowset_label=full_country_India, columnset_label=all_numeric_categerical, cutoff=500 yield columns=433, ACC=0.8852060602926728, in duration=0.9348s\n",
      "model_type=random_forest rowset_label=full_country_India, columnset_label=all_numeric_categerical, cutoff=500 yield columns=433, ACC=0.8671596256269714, in duration=9.7449s\n"
     ]
    },
    {
     "name": "stderr",
     "output_type": "stream",
     "text": [
      "/opt/conda/lib/python3.9/site-packages/sklearn/svm/_base.py:985: ConvergenceWarning: Liblinear failed to converge, increase the number of iterations.\n",
      "  warnings.warn(\"Liblinear failed to converge, increase \"\n"
     ]
    },
    {
     "name": "stdout",
     "output_type": "stream",
     "text": [
      "model_type=linear_svm rowset_label=full_country_India, columnset_label=all_numeric_categerical, cutoff=500 yield columns=433, ACC=0.7933709085268111, in duration=15.8257s\n",
      "model_type=linear_regression rowset_label=full_country_India, columnset_label=all_numeric_categerical, cutoff=250 yield columns=439, ACC=0.8855163141837737, in duration=0.9335s\n",
      "model_type=random_forest rowset_label=full_country_India, columnset_label=all_numeric_categerical, cutoff=250 yield columns=439, ACC=0.8670044986814209, in duration=9.6665s\n"
     ]
    },
    {
     "name": "stderr",
     "output_type": "stream",
     "text": [
      "/opt/conda/lib/python3.9/site-packages/sklearn/svm/_base.py:985: ConvergenceWarning: Liblinear failed to converge, increase the number of iterations.\n",
      "  warnings.warn(\"Liblinear failed to converge, increase \"\n"
     ]
    },
    {
     "name": "stdout",
     "output_type": "stream",
     "text": [
      "model_type=linear_svm rowset_label=full_country_India, columnset_label=all_numeric_categerical, cutoff=250 yield columns=439, ACC=0.8649361394074151, in duration=16.0039s\n",
      "model_type=linear_regression rowset_label=full_country_India, columnset_label=all_numeric_categerical, cutoff=100 yield columns=441, ACC=0.8854646052019236, in duration=0.9513s\n",
      "model_type=random_forest rowset_label=full_country_India, columnset_label=all_numeric_categerical, cutoff=100 yield columns=441, ACC=0.8672630435906717, in duration=10.0247s\n"
     ]
    },
    {
     "name": "stderr",
     "output_type": "stream",
     "text": [
      "/opt/conda/lib/python3.9/site-packages/sklearn/svm/_base.py:985: ConvergenceWarning: Liblinear failed to converge, increase the number of iterations.\n",
      "  warnings.warn(\"Liblinear failed to converge, increase \"\n"
     ]
    },
    {
     "name": "stdout",
     "output_type": "stream",
     "text": [
      "model_type=linear_svm rowset_label=full_country_India, columnset_label=all_numeric_categerical, cutoff=100 yield columns=441, ACC=0.3589120430218729, in duration=15.4427s\n",
      "model_type=linear_regression rowset_label=full_country_United Kingdom, columnset_label=all_numeric_categerical, cutoff=5000 yield columns=291, ACC=0.9411551786545322, in duration=0.6032s\n",
      "model_type=random_forest rowset_label=full_country_United Kingdom, columnset_label=all_numeric_categerical, cutoff=5000 yield columns=291, ACC=0.9411551786545322, in duration=8.2281s\n"
     ]
    },
    {
     "name": "stderr",
     "output_type": "stream",
     "text": [
      "/opt/conda/lib/python3.9/site-packages/sklearn/svm/_base.py:985: ConvergenceWarning: Liblinear failed to converge, increase the number of iterations.\n",
      "  warnings.warn(\"Liblinear failed to converge, increase \"\n"
     ]
    },
    {
     "name": "stdout",
     "output_type": "stream",
     "text": [
      "model_type=linear_svm rowset_label=full_country_United Kingdom, columnset_label=all_numeric_categerical, cutoff=5000 yield columns=291, ACC=0.9411551786545322, in duration=15.2444s\n",
      "model_type=linear_regression rowset_label=full_country_United Kingdom, columnset_label=all_numeric_categerical, cutoff=2500 yield columns=358, ACC=0.9411551786545322, in duration=0.7635s\n",
      "model_type=random_forest rowset_label=full_country_United Kingdom, columnset_label=all_numeric_categerical, cutoff=2500 yield columns=358, ACC=0.9411551786545322, in duration=9.2495s\n"
     ]
    },
    {
     "name": "stderr",
     "output_type": "stream",
     "text": [
      "/opt/conda/lib/python3.9/site-packages/sklearn/svm/_base.py:985: ConvergenceWarning: Liblinear failed to converge, increase the number of iterations.\n",
      "  warnings.warn(\"Liblinear failed to converge, increase \"\n"
     ]
    },
    {
     "name": "stdout",
     "output_type": "stream",
     "text": [
      "model_type=linear_svm rowset_label=full_country_United Kingdom, columnset_label=all_numeric_categerical, cutoff=2500 yield columns=358, ACC=0.2455142458244997, in duration=15.5563s\n",
      "model_type=linear_regression rowset_label=full_country_United Kingdom, columnset_label=all_numeric_categerical, cutoff=1000 yield columns=414, ACC=0.9411551786545322, in duration=0.934s\n",
      "model_type=random_forest rowset_label=full_country_United Kingdom, columnset_label=all_numeric_categerical, cutoff=1000 yield columns=414, ACC=0.9411551786545322, in duration=10.1529s\n"
     ]
    },
    {
     "name": "stderr",
     "output_type": "stream",
     "text": [
      "/opt/conda/lib/python3.9/site-packages/sklearn/svm/_base.py:985: ConvergenceWarning: Liblinear failed to converge, increase the number of iterations.\n",
      "  warnings.warn(\"Liblinear failed to converge, increase \"\n"
     ]
    },
    {
     "name": "stdout",
     "output_type": "stream",
     "text": [
      "model_type=linear_svm rowset_label=full_country_United Kingdom, columnset_label=all_numeric_categerical, cutoff=1000 yield columns=414, ACC=0.9411551786545322, in duration=15.774s\n",
      "model_type=linear_regression rowset_label=full_country_United Kingdom, columnset_label=all_numeric_categerical, cutoff=500 yield columns=433, ACC=0.9411551786545322, in duration=0.9319s\n",
      "model_type=random_forest rowset_label=full_country_United Kingdom, columnset_label=all_numeric_categerical, cutoff=500 yield columns=433, ACC=0.9411551786545322, in duration=10.2404s\n"
     ]
    },
    {
     "name": "stderr",
     "output_type": "stream",
     "text": [
      "/opt/conda/lib/python3.9/site-packages/sklearn/svm/_base.py:985: ConvergenceWarning: Liblinear failed to converge, increase the number of iterations.\n",
      "  warnings.warn(\"Liblinear failed to converge, increase \"\n"
     ]
    },
    {
     "name": "stdout",
     "output_type": "stream",
     "text": [
      "model_type=linear_svm rowset_label=full_country_United Kingdom, columnset_label=all_numeric_categerical, cutoff=500 yield columns=433, ACC=0.9295206577382491, in duration=15.8035s\n",
      "model_type=linear_regression rowset_label=full_country_United Kingdom, columnset_label=all_numeric_categerical, cutoff=250 yield columns=439, ACC=0.9411551786545322, in duration=0.9737s\n",
      "model_type=random_forest rowset_label=full_country_United Kingdom, columnset_label=all_numeric_categerical, cutoff=250 yield columns=439, ACC=0.9411551786545322, in duration=10.1891s\n"
     ]
    },
    {
     "name": "stderr",
     "output_type": "stream",
     "text": [
      "/opt/conda/lib/python3.9/site-packages/sklearn/svm/_base.py:985: ConvergenceWarning: Liblinear failed to converge, increase the number of iterations.\n",
      "  warnings.warn(\"Liblinear failed to converge, increase \"\n"
     ]
    },
    {
     "name": "stdout",
     "output_type": "stream",
     "text": [
      "model_type=linear_svm rowset_label=full_country_United Kingdom, columnset_label=all_numeric_categerical, cutoff=250 yield columns=439, ACC=0.25068514400951447, in duration=15.7986s\n",
      "model_type=linear_regression rowset_label=full_country_United Kingdom, columnset_label=all_numeric_categerical, cutoff=100 yield columns=441, ACC=0.9411551786545322, in duration=0.9485s\n",
      "model_type=random_forest rowset_label=full_country_United Kingdom, columnset_label=all_numeric_categerical, cutoff=100 yield columns=441, ACC=0.9411551786545322, in duration=10.5646s\n"
     ]
    },
    {
     "name": "stderr",
     "output_type": "stream",
     "text": [
      "/opt/conda/lib/python3.9/site-packages/sklearn/svm/_base.py:985: ConvergenceWarning: Liblinear failed to converge, increase the number of iterations.\n",
      "  warnings.warn(\"Liblinear failed to converge, increase \"\n"
     ]
    },
    {
     "name": "stdout",
     "output_type": "stream",
     "text": [
      "model_type=linear_svm rowset_label=full_country_United Kingdom, columnset_label=all_numeric_categerical, cutoff=100 yield columns=441, ACC=0.9411551786545322, in duration=15.4979s\n",
      "model_type=linear_regression rowset_label=full_country_Germany, columnset_label=all_numeric_categerical, cutoff=5000 yield columns=291, ACC=0.9413103056000828, in duration=0.6266s\n",
      "model_type=random_forest rowset_label=full_country_Germany, columnset_label=all_numeric_categerical, cutoff=5000 yield columns=291, ACC=0.9413103056000828, in duration=8.0267s\n"
     ]
    },
    {
     "name": "stderr",
     "output_type": "stream",
     "text": [
      "/opt/conda/lib/python3.9/site-packages/sklearn/svm/_base.py:985: ConvergenceWarning: Liblinear failed to converge, increase the number of iterations.\n",
      "  warnings.warn(\"Liblinear failed to converge, increase \"\n"
     ]
    },
    {
     "name": "stdout",
     "output_type": "stream",
     "text": [
      "model_type=linear_svm rowset_label=full_country_Germany, columnset_label=all_numeric_categerical, cutoff=5000 yield columns=291, ACC=0.9396039091990279, in duration=15.1456s\n",
      "model_type=linear_regression rowset_label=full_country_Germany, columnset_label=all_numeric_categerical, cutoff=2500 yield columns=358, ACC=0.9413103056000828, in duration=0.7534s\n",
      "model_type=random_forest rowset_label=full_country_Germany, columnset_label=all_numeric_categerical, cutoff=2500 yield columns=358, ACC=0.9413103056000828, in duration=8.9343s\n"
     ]
    },
    {
     "name": "stderr",
     "output_type": "stream",
     "text": [
      "/opt/conda/lib/python3.9/site-packages/sklearn/svm/_base.py:985: ConvergenceWarning: Liblinear failed to converge, increase the number of iterations.\n",
      "  warnings.warn(\"Liblinear failed to converge, increase \"\n"
     ]
    },
    {
     "name": "stdout",
     "output_type": "stream",
     "text": [
      "model_type=linear_svm rowset_label=full_country_Germany, columnset_label=all_numeric_categerical, cutoff=2500 yield columns=358, ACC=0.9413103056000828, in duration=15.6349s\n",
      "model_type=linear_regression rowset_label=full_country_Germany, columnset_label=all_numeric_categerical, cutoff=1000 yield columns=414, ACC=0.9413103056000828, in duration=0.9478s\n",
      "model_type=random_forest rowset_label=full_country_Germany, columnset_label=all_numeric_categerical, cutoff=1000 yield columns=414, ACC=0.9413103056000828, in duration=9.7554s\n"
     ]
    },
    {
     "name": "stderr",
     "output_type": "stream",
     "text": [
      "/opt/conda/lib/python3.9/site-packages/sklearn/svm/_base.py:985: ConvergenceWarning: Liblinear failed to converge, increase the number of iterations.\n",
      "  warnings.warn(\"Liblinear failed to converge, increase \"\n"
     ]
    },
    {
     "name": "stdout",
     "output_type": "stream",
     "text": [
      "model_type=linear_svm rowset_label=full_country_Germany, columnset_label=all_numeric_categerical, cutoff=1000 yield columns=414, ACC=0.9183515176586173, in duration=15.7469s\n",
      "model_type=linear_regression rowset_label=full_country_Germany, columnset_label=all_numeric_categerical, cutoff=500 yield columns=433, ACC=0.9413103056000828, in duration=0.9405s\n",
      "model_type=random_forest rowset_label=full_country_Germany, columnset_label=all_numeric_categerical, cutoff=500 yield columns=433, ACC=0.9413103056000828, in duration=9.7182s\n"
     ]
    },
    {
     "name": "stderr",
     "output_type": "stream",
     "text": [
      "/opt/conda/lib/python3.9/site-packages/sklearn/svm/_base.py:985: ConvergenceWarning: Liblinear failed to converge, increase the number of iterations.\n",
      "  warnings.warn(\"Liblinear failed to converge, increase \"\n"
     ]
    },
    {
     "name": "stdout",
     "output_type": "stream",
     "text": [
      "model_type=linear_svm rowset_label=full_country_Germany, columnset_label=all_numeric_categerical, cutoff=500 yield columns=433, ACC=0.9159729044935105, in duration=15.6239s\n",
      "model_type=linear_regression rowset_label=full_country_Germany, columnset_label=all_numeric_categerical, cutoff=250 yield columns=439, ACC=0.9413103056000828, in duration=1.052s\n",
      "model_type=random_forest rowset_label=full_country_Germany, columnset_label=all_numeric_categerical, cutoff=250 yield columns=439, ACC=0.9413103056000828, in duration=9.8603s\n"
     ]
    },
    {
     "name": "stderr",
     "output_type": "stream",
     "text": [
      "/opt/conda/lib/python3.9/site-packages/sklearn/svm/_base.py:985: ConvergenceWarning: Liblinear failed to converge, increase the number of iterations.\n",
      "  warnings.warn(\"Liblinear failed to converge, increase \"\n"
     ]
    },
    {
     "name": "stdout",
     "output_type": "stream",
     "text": [
      "model_type=linear_svm rowset_label=full_country_Germany, columnset_label=all_numeric_categerical, cutoff=250 yield columns=439, ACC=0.9220745643518279, in duration=15.3666s\n",
      "model_type=linear_regression rowset_label=full_country_Germany, columnset_label=all_numeric_categerical, cutoff=100 yield columns=441, ACC=0.9413103056000828, in duration=0.9761s\n",
      "model_type=random_forest rowset_label=full_country_Germany, columnset_label=all_numeric_categerical, cutoff=100 yield columns=441, ACC=0.9413103056000828, in duration=10.1455s\n"
     ]
    },
    {
     "name": "stderr",
     "output_type": "stream",
     "text": [
      "/opt/conda/lib/python3.9/site-packages/sklearn/svm/_base.py:985: ConvergenceWarning: Liblinear failed to converge, increase the number of iterations.\n",
      "  warnings.warn(\"Liblinear failed to converge, increase \"\n"
     ]
    },
    {
     "name": "stdout",
     "output_type": "stream",
     "text": [
      "model_type=linear_svm rowset_label=full_country_Germany, columnset_label=all_numeric_categerical, cutoff=100 yield columns=441, ACC=0.9236258338073323, in duration=15.9384s\n",
      "model_type=linear_regression rowset_label=full_country_Canada, columnset_label=all_numeric_categerical, cutoff=5000 yield columns=291, ACC=0.9647861833600496, in duration=0.5989s\n",
      "model_type=random_forest rowset_label=full_country_Canada, columnset_label=all_numeric_categerical, cutoff=5000 yield columns=291, ACC=0.9647861833600496, in duration=7.7456s\n"
     ]
    },
    {
     "name": "stderr",
     "output_type": "stream",
     "text": [
      "/opt/conda/lib/python3.9/site-packages/sklearn/svm/_base.py:985: ConvergenceWarning: Liblinear failed to converge, increase the number of iterations.\n",
      "  warnings.warn(\"Liblinear failed to converge, increase \"\n"
     ]
    },
    {
     "name": "stdout",
     "output_type": "stream",
     "text": [
      "model_type=linear_svm rowset_label=full_country_Canada, columnset_label=all_numeric_categerical, cutoff=5000 yield columns=291, ACC=0.9597704121205853, in duration=499.9966s\n",
      "model_type=linear_regression rowset_label=full_country_Canada, columnset_label=all_numeric_categerical, cutoff=2500 yield columns=358, ACC=0.9647861833600496, in duration=0.7765s\n",
      "model_type=random_forest rowset_label=full_country_Canada, columnset_label=all_numeric_categerical, cutoff=2500 yield columns=358, ACC=0.9647861833600496, in duration=8.4267s\n"
     ]
    },
    {
     "name": "stderr",
     "output_type": "stream",
     "text": [
      "/opt/conda/lib/python3.9/site-packages/sklearn/svm/_base.py:985: ConvergenceWarning: Liblinear failed to converge, increase the number of iterations.\n",
      "  warnings.warn(\"Liblinear failed to converge, increase \"\n"
     ]
    },
    {
     "name": "stdout",
     "output_type": "stream",
     "text": [
      "model_type=linear_svm rowset_label=full_country_Canada, columnset_label=all_numeric_categerical, cutoff=2500 yield columns=358, ACC=0.9647861833600496, in duration=15.123s\n",
      "model_type=linear_regression rowset_label=full_country_Canada, columnset_label=all_numeric_categerical, cutoff=1000 yield columns=414, ACC=0.9647861833600496, in duration=0.9321s\n",
      "model_type=random_forest rowset_label=full_country_Canada, columnset_label=all_numeric_categerical, cutoff=1000 yield columns=414, ACC=0.9647861833600496, in duration=9.7101s\n"
     ]
    },
    {
     "name": "stderr",
     "output_type": "stream",
     "text": [
      "/opt/conda/lib/python3.9/site-packages/sklearn/svm/_base.py:985: ConvergenceWarning: Liblinear failed to converge, increase the number of iterations.\n",
      "  warnings.warn(\"Liblinear failed to converge, increase \"\n"
     ]
    },
    {
     "name": "stdout",
     "output_type": "stream",
     "text": [
      "model_type=linear_svm rowset_label=full_country_Canada, columnset_label=all_numeric_categerical, cutoff=1000 yield columns=414, ACC=0.9452401882206939, in duration=15.3046s\n",
      "model_type=linear_regression rowset_label=full_country_Canada, columnset_label=all_numeric_categerical, cutoff=500 yield columns=433, ACC=0.9647861833600496, in duration=0.9078s\n",
      "model_type=random_forest rowset_label=full_country_Canada, columnset_label=all_numeric_categerical, cutoff=500 yield columns=433, ACC=0.9647861833600496, in duration=9.6194s\n"
     ]
    },
    {
     "name": "stderr",
     "output_type": "stream",
     "text": [
      "/opt/conda/lib/python3.9/site-packages/sklearn/svm/_base.py:985: ConvergenceWarning: Liblinear failed to converge, increase the number of iterations.\n",
      "  warnings.warn(\"Liblinear failed to converge, increase \"\n"
     ]
    },
    {
     "name": "stdout",
     "output_type": "stream",
     "text": [
      "model_type=linear_svm rowset_label=full_country_Canada, columnset_label=all_numeric_categerical, cutoff=500 yield columns=433, ACC=0.9510315941879104, in duration=15.8081s\n",
      "model_type=linear_regression rowset_label=full_country_Canada, columnset_label=all_numeric_categerical, cutoff=250 yield columns=439, ACC=0.9647861833600496, in duration=0.9634s\n",
      "model_type=random_forest rowset_label=full_country_Canada, columnset_label=all_numeric_categerical, cutoff=250 yield columns=439, ACC=0.9647861833600496, in duration=9.7388s\n"
     ]
    },
    {
     "name": "stderr",
     "output_type": "stream",
     "text": [
      "/opt/conda/lib/python3.9/site-packages/sklearn/svm/_base.py:985: ConvergenceWarning: Liblinear failed to converge, increase the number of iterations.\n",
      "  warnings.warn(\"Liblinear failed to converge, increase \"\n"
     ]
    },
    {
     "name": "stdout",
     "output_type": "stream",
     "text": [
      "model_type=linear_svm rowset_label=full_country_Canada, columnset_label=all_numeric_categerical, cutoff=250 yield columns=439, ACC=0.9490149438957547, in duration=15.5036s\n",
      "model_type=linear_regression rowset_label=full_country_Canada, columnset_label=all_numeric_categerical, cutoff=100 yield columns=441, ACC=0.9647861833600496, in duration=0.9609s\n",
      "model_type=random_forest rowset_label=full_country_Canada, columnset_label=all_numeric_categerical, cutoff=100 yield columns=441, ACC=0.9647861833600496, in duration=10.0638s\n"
     ]
    },
    {
     "name": "stderr",
     "output_type": "stream",
     "text": [
      "/opt/conda/lib/python3.9/site-packages/sklearn/svm/_base.py:985: ConvergenceWarning: Liblinear failed to converge, increase the number of iterations.\n",
      "  warnings.warn(\"Liblinear failed to converge, increase \"\n"
     ]
    },
    {
     "name": "stdout",
     "output_type": "stream",
     "text": [
      "model_type=linear_svm rowset_label=full_country_Canada, columnset_label=all_numeric_categerical, cutoff=100 yield columns=441, ACC=0.9647861833600496, in duration=15.5389s\n",
      "model_type=linear_regression rowset_label=full_country_France, columnset_label=all_numeric_categerical, cutoff=5000 yield columns=291, ACC=0.9711980971094679, in duration=0.6154s\n",
      "model_type=random_forest rowset_label=full_country_France, columnset_label=all_numeric_categerical, cutoff=5000 yield columns=291, ACC=0.9711980971094679, in duration=7.1491s\n"
     ]
    },
    {
     "name": "stderr",
     "output_type": "stream",
     "text": [
      "/opt/conda/lib/python3.9/site-packages/sklearn/svm/_base.py:985: ConvergenceWarning: Liblinear failed to converge, increase the number of iterations.\n",
      "  warnings.warn(\"Liblinear failed to converge, increase \"\n"
     ]
    },
    {
     "name": "stdout",
     "output_type": "stream",
     "text": [
      "model_type=linear_svm rowset_label=full_country_France, columnset_label=all_numeric_categerical, cutoff=5000 yield columns=291, ACC=0.9711980971094679, in duration=15.2486s\n",
      "model_type=linear_regression rowset_label=full_country_France, columnset_label=all_numeric_categerical, cutoff=2500 yield columns=358, ACC=0.9711980971094679, in duration=0.7402s\n",
      "model_type=random_forest rowset_label=full_country_France, columnset_label=all_numeric_categerical, cutoff=2500 yield columns=358, ACC=0.9711980971094679, in duration=8.025s\n"
     ]
    },
    {
     "name": "stderr",
     "output_type": "stream",
     "text": [
      "/opt/conda/lib/python3.9/site-packages/sklearn/svm/_base.py:985: ConvergenceWarning: Liblinear failed to converge, increase the number of iterations.\n",
      "  warnings.warn(\"Liblinear failed to converge, increase \"\n"
     ]
    },
    {
     "name": "stdout",
     "output_type": "stream",
     "text": [
      "model_type=linear_svm rowset_label=full_country_France, columnset_label=all_numeric_categerical, cutoff=2500 yield columns=358, ACC=0.9711980971094679, in duration=15.3572s\n",
      "model_type=linear_regression rowset_label=full_country_France, columnset_label=all_numeric_categerical, cutoff=1000 yield columns=414, ACC=0.9711980971094679, in duration=0.9609s\n",
      "model_type=random_forest rowset_label=full_country_France, columnset_label=all_numeric_categerical, cutoff=1000 yield columns=414, ACC=0.9711980971094679, in duration=8.8061s\n"
     ]
    },
    {
     "name": "stderr",
     "output_type": "stream",
     "text": [
      "/opt/conda/lib/python3.9/site-packages/sklearn/svm/_base.py:985: ConvergenceWarning: Liblinear failed to converge, increase the number of iterations.\n",
      "  warnings.warn(\"Liblinear failed to converge, increase \"\n"
     ]
    },
    {
     "name": "stdout",
     "output_type": "stream",
     "text": [
      "model_type=linear_svm rowset_label=full_country_France, columnset_label=all_numeric_categerical, cutoff=1000 yield columns=414, ACC=0.9530482444800662, in duration=15.5682s\n",
      "model_type=linear_regression rowset_label=full_country_France, columnset_label=all_numeric_categerical, cutoff=500 yield columns=433, ACC=0.9711980971094679, in duration=0.906s\n",
      "model_type=random_forest rowset_label=full_country_France, columnset_label=all_numeric_categerical, cutoff=500 yield columns=433, ACC=0.9711980971094679, in duration=8.9173s\n"
     ]
    },
    {
     "name": "stderr",
     "output_type": "stream",
     "text": [
      "/opt/conda/lib/python3.9/site-packages/sklearn/svm/_base.py:985: ConvergenceWarning: Liblinear failed to converge, increase the number of iterations.\n",
      "  warnings.warn(\"Liblinear failed to converge, increase \"\n"
     ]
    },
    {
     "name": "stdout",
     "output_type": "stream",
     "text": [
      "model_type=linear_svm rowset_label=full_country_France, columnset_label=all_numeric_categerical, cutoff=500 yield columns=433, ACC=0.9711980971094679, in duration=15.6552s\n",
      "model_type=linear_regression rowset_label=full_country_France, columnset_label=all_numeric_categerical, cutoff=250 yield columns=439, ACC=0.9711980971094679, in duration=0.9389s\n",
      "model_type=random_forest rowset_label=full_country_France, columnset_label=all_numeric_categerical, cutoff=250 yield columns=439, ACC=0.9711980971094679, in duration=8.866s\n"
     ]
    },
    {
     "name": "stderr",
     "output_type": "stream",
     "text": [
      "/opt/conda/lib/python3.9/site-packages/sklearn/svm/_base.py:985: ConvergenceWarning: Liblinear failed to converge, increase the number of iterations.\n",
      "  warnings.warn(\"Liblinear failed to converge, increase \"\n"
     ]
    },
    {
     "name": "stdout",
     "output_type": "stream",
     "text": [
      "model_type=linear_svm rowset_label=full_country_France, columnset_label=all_numeric_categerical, cutoff=250 yield columns=439, ACC=0.9711980971094679, in duration=15.5991s\n",
      "model_type=linear_regression rowset_label=full_country_France, columnset_label=all_numeric_categerical, cutoff=100 yield columns=441, ACC=0.9711980971094679, in duration=0.9715s\n",
      "model_type=random_forest rowset_label=full_country_France, columnset_label=all_numeric_categerical, cutoff=100 yield columns=441, ACC=0.9711980971094679, in duration=9.3034s\n"
     ]
    },
    {
     "name": "stderr",
     "output_type": "stream",
     "text": [
      "/opt/conda/lib/python3.9/site-packages/sklearn/svm/_base.py:985: ConvergenceWarning: Liblinear failed to converge, increase the number of iterations.\n",
      "  warnings.warn(\"Liblinear failed to converge, increase \"\n"
     ]
    },
    {
     "name": "stdout",
     "output_type": "stream",
     "text": [
      "model_type=linear_svm rowset_label=full_country_France, columnset_label=all_numeric_categerical, cutoff=100 yield columns=441, ACC=0.9668545426340556, in duration=19.3172s\n",
      "model_type=linear_regression rowset_label=full_country_Brazil, columnset_label=all_numeric_categerical, cutoff=5000 yield columns=291, ACC=0.9732664563834738, in duration=0.6904s\n",
      "model_type=random_forest rowset_label=full_country_Brazil, columnset_label=all_numeric_categerical, cutoff=5000 yield columns=291, ACC=0.9732664563834738, in duration=8.2529s\n"
     ]
    },
    {
     "name": "stderr",
     "output_type": "stream",
     "text": [
      "/opt/conda/lib/python3.9/site-packages/sklearn/svm/_base.py:985: ConvergenceWarning: Liblinear failed to converge, increase the number of iterations.\n",
      "  warnings.warn(\"Liblinear failed to converge, increase \"\n"
     ]
    },
    {
     "name": "stdout",
     "output_type": "stream",
     "text": [
      "model_type=linear_svm rowset_label=full_country_Brazil, columnset_label=all_numeric_categerical, cutoff=5000 yield columns=291, ACC=0.4696209731630384, in duration=19.1698s\n",
      "model_type=linear_regression rowset_label=full_country_Brazil, columnset_label=all_numeric_categerical, cutoff=2500 yield columns=358, ACC=0.9732664563834738, in duration=0.8747s\n",
      "model_type=random_forest rowset_label=full_country_Brazil, columnset_label=all_numeric_categerical, cutoff=2500 yield columns=358, ACC=0.9732664563834738, in duration=9.0525s\n"
     ]
    },
    {
     "name": "stderr",
     "output_type": "stream",
     "text": [
      "/opt/conda/lib/python3.9/site-packages/sklearn/svm/_base.py:985: ConvergenceWarning: Liblinear failed to converge, increase the number of iterations.\n",
      "  warnings.warn(\"Liblinear failed to converge, increase \"\n"
     ]
    },
    {
     "name": "stdout",
     "output_type": "stream",
     "text": [
      "model_type=linear_svm rowset_label=full_country_Brazil, columnset_label=all_numeric_categerical, cutoff=2500 yield columns=358, ACC=0.9732664563834738, in duration=20.4461s\n",
      "model_type=linear_regression rowset_label=full_country_Brazil, columnset_label=all_numeric_categerical, cutoff=1000 yield columns=414, ACC=0.9732664563834738, in duration=1.0838s\n",
      "model_type=random_forest rowset_label=full_country_Brazil, columnset_label=all_numeric_categerical, cutoff=1000 yield columns=414, ACC=0.9732664563834738, in duration=9.9184s\n"
     ]
    },
    {
     "name": "stderr",
     "output_type": "stream",
     "text": [
      "/opt/conda/lib/python3.9/site-packages/sklearn/svm/_base.py:985: ConvergenceWarning: Liblinear failed to converge, increase the number of iterations.\n",
      "  warnings.warn(\"Liblinear failed to converge, increase \"\n"
     ]
    },
    {
     "name": "stdout",
     "output_type": "stream",
     "text": [
      "model_type=linear_svm rowset_label=full_country_Brazil, columnset_label=all_numeric_categerical, cutoff=1000 yield columns=414, ACC=0.9732664563834738, in duration=20.2328s\n",
      "model_type=linear_regression rowset_label=full_country_Brazil, columnset_label=all_numeric_categerical, cutoff=500 yield columns=433, ACC=0.9732664563834738, in duration=1.063s\n",
      "model_type=random_forest rowset_label=full_country_Brazil, columnset_label=all_numeric_categerical, cutoff=500 yield columns=433, ACC=0.9732664563834738, in duration=9.62s\n"
     ]
    },
    {
     "name": "stderr",
     "output_type": "stream",
     "text": [
      "/opt/conda/lib/python3.9/site-packages/sklearn/svm/_base.py:985: ConvergenceWarning: Liblinear failed to converge, increase the number of iterations.\n",
      "  warnings.warn(\"Liblinear failed to converge, increase \"\n"
     ]
    },
    {
     "name": "stdout",
     "output_type": "stream",
     "text": [
      "model_type=linear_svm rowset_label=full_country_Brazil, columnset_label=all_numeric_categerical, cutoff=500 yield columns=433, ACC=0.9333988313770102, in duration=20.1436s\n",
      "model_type=linear_regression rowset_label=full_country_Brazil, columnset_label=all_numeric_categerical, cutoff=250 yield columns=439, ACC=0.9732664563834738, in duration=1.1152s\n",
      "model_type=random_forest rowset_label=full_country_Brazil, columnset_label=all_numeric_categerical, cutoff=250 yield columns=439, ACC=0.9732664563834738, in duration=9.6937s\n"
     ]
    },
    {
     "name": "stderr",
     "output_type": "stream",
     "text": [
      "/opt/conda/lib/python3.9/site-packages/sklearn/svm/_base.py:985: ConvergenceWarning: Liblinear failed to converge, increase the number of iterations.\n",
      "  warnings.warn(\"Liblinear failed to converge, increase \"\n"
     ]
    },
    {
     "name": "stdout",
     "output_type": "stream",
     "text": [
      "model_type=linear_svm rowset_label=full_country_Brazil, columnset_label=all_numeric_categerical, cutoff=250 yield columns=439, ACC=0.9548580588448213, in duration=20.3978s\n",
      "model_type=linear_regression rowset_label=full_country_Brazil, columnset_label=all_numeric_categerical, cutoff=100 yield columns=441, ACC=0.9732664563834738, in duration=1.1672s\n",
      "model_type=random_forest rowset_label=full_country_Brazil, columnset_label=all_numeric_categerical, cutoff=100 yield columns=441, ACC=0.9732664563834738, in duration=9.9744s\n"
     ]
    },
    {
     "name": "stderr",
     "output_type": "stream",
     "text": [
      "/opt/conda/lib/python3.9/site-packages/sklearn/svm/_base.py:985: ConvergenceWarning: Liblinear failed to converge, increase the number of iterations.\n",
      "  warnings.warn(\"Liblinear failed to converge, increase \"\n"
     ]
    },
    {
     "name": "stdout",
     "output_type": "stream",
     "text": [
      "model_type=linear_svm rowset_label=full_country_Brazil, columnset_label=all_numeric_categerical, cutoff=100 yield columns=441, ACC=0.9732664563834738, in duration=20.5779s\n",
      "model_type=linear_regression rowset_label=full_country_Netherlands, columnset_label=all_numeric_categerical, cutoff=5000 yield columns=291, ACC=0.9795232431873416, in duration=0.6926s\n",
      "model_type=random_forest rowset_label=full_country_Netherlands, columnset_label=all_numeric_categerical, cutoff=5000 yield columns=291, ACC=0.9795232431873416, in duration=8.0833s\n"
     ]
    },
    {
     "name": "stderr",
     "output_type": "stream",
     "text": [
      "/opt/conda/lib/python3.9/site-packages/sklearn/svm/_base.py:985: ConvergenceWarning: Liblinear failed to converge, increase the number of iterations.\n",
      "  warnings.warn(\"Liblinear failed to converge, increase \"\n"
     ]
    },
    {
     "name": "stdout",
     "output_type": "stream",
     "text": [
      "model_type=linear_svm rowset_label=full_country_Netherlands, columnset_label=all_numeric_categerical, cutoff=5000 yield columns=291, ACC=0.9795232431873416, in duration=19.2737s\n",
      "model_type=linear_regression rowset_label=full_country_Netherlands, columnset_label=all_numeric_categerical, cutoff=2500 yield columns=358, ACC=0.9795232431873416, in duration=0.8574s\n",
      "model_type=random_forest rowset_label=full_country_Netherlands, columnset_label=all_numeric_categerical, cutoff=2500 yield columns=358, ACC=0.9795232431873416, in duration=8.7611s\n"
     ]
    },
    {
     "name": "stderr",
     "output_type": "stream",
     "text": [
      "/opt/conda/lib/python3.9/site-packages/sklearn/svm/_base.py:985: ConvergenceWarning: Liblinear failed to converge, increase the number of iterations.\n",
      "  warnings.warn(\"Liblinear failed to converge, increase \"\n"
     ]
    },
    {
     "name": "stdout",
     "output_type": "stream",
     "text": [
      "model_type=linear_svm rowset_label=full_country_Netherlands, columnset_label=all_numeric_categerical, cutoff=2500 yield columns=358, ACC=0.9795232431873416, in duration=19.4615s\n",
      "model_type=linear_regression rowset_label=full_country_Netherlands, columnset_label=all_numeric_categerical, cutoff=1000 yield columns=414, ACC=0.9795232431873416, in duration=1.1229s\n",
      "model_type=random_forest rowset_label=full_country_Netherlands, columnset_label=all_numeric_categerical, cutoff=1000 yield columns=414, ACC=0.9795232431873416, in duration=9.6732s\n"
     ]
    },
    {
     "name": "stderr",
     "output_type": "stream",
     "text": [
      "/opt/conda/lib/python3.9/site-packages/sklearn/svm/_base.py:985: ConvergenceWarning: Liblinear failed to converge, increase the number of iterations.\n",
      "  warnings.warn(\"Liblinear failed to converge, increase \"\n"
     ]
    },
    {
     "name": "stdout",
     "output_type": "stream",
     "text": [
      "model_type=linear_svm rowset_label=full_country_Netherlands, columnset_label=all_numeric_categerical, cutoff=1000 yield columns=414, ACC=0.9751796887119293, in duration=19.4482s\n",
      "model_type=linear_regression rowset_label=full_country_Netherlands, columnset_label=all_numeric_categerical, cutoff=500 yield columns=433, ACC=0.9795232431873416, in duration=1.0613s\n",
      "model_type=random_forest rowset_label=full_country_Netherlands, columnset_label=all_numeric_categerical, cutoff=500 yield columns=433, ACC=0.9795232431873416, in duration=9.6422s\n"
     ]
    },
    {
     "name": "stderr",
     "output_type": "stream",
     "text": [
      "/opt/conda/lib/python3.9/site-packages/sklearn/svm/_base.py:985: ConvergenceWarning: Liblinear failed to converge, increase the number of iterations.\n",
      "  warnings.warn(\"Liblinear failed to converge, increase \"\n"
     ]
    },
    {
     "name": "stdout",
     "output_type": "stream",
     "text": [
      "model_type=linear_svm rowset_label=full_country_Netherlands, columnset_label=all_numeric_categerical, cutoff=500 yield columns=433, ACC=0.9692848647810125, in duration=19.6284s\n",
      "model_type=linear_regression rowset_label=full_country_Netherlands, columnset_label=all_numeric_categerical, cutoff=250 yield columns=439, ACC=0.9795232431873416, in duration=1.1222s\n",
      "model_type=random_forest rowset_label=full_country_Netherlands, columnset_label=all_numeric_categerical, cutoff=250 yield columns=439, ACC=0.9795232431873416, in duration=9.8265s\n"
     ]
    },
    {
     "name": "stderr",
     "output_type": "stream",
     "text": [
      "/opt/conda/lib/python3.9/site-packages/sklearn/svm/_base.py:985: ConvergenceWarning: Liblinear failed to converge, increase the number of iterations.\n",
      "  warnings.warn(\"Liblinear failed to converge, increase \"\n"
     ]
    },
    {
     "name": "stdout",
     "output_type": "stream",
     "text": [
      "model_type=linear_svm rowset_label=full_country_Netherlands, columnset_label=all_numeric_categerical, cutoff=250 yield columns=439, ACC=0.9795232431873416, in duration=20.3187s\n",
      "model_type=linear_regression rowset_label=full_country_Netherlands, columnset_label=all_numeric_categerical, cutoff=100 yield columns=441, ACC=0.9795232431873416, in duration=1.1926s\n",
      "model_type=random_forest rowset_label=full_country_Netherlands, columnset_label=all_numeric_categerical, cutoff=100 yield columns=441, ACC=0.9795232431873416, in duration=9.9125s\n"
     ]
    },
    {
     "name": "stderr",
     "output_type": "stream",
     "text": [
      "/opt/conda/lib/python3.9/site-packages/sklearn/svm/_base.py:985: ConvergenceWarning: Liblinear failed to converge, increase the number of iterations.\n",
      "  warnings.warn(\"Liblinear failed to converge, increase \"\n"
     ]
    },
    {
     "name": "stdout",
     "output_type": "stream",
     "text": [
      "model_type=linear_svm rowset_label=full_country_Netherlands, columnset_label=all_numeric_categerical, cutoff=100 yield columns=441, ACC=0.9386731475257252, in duration=19.7949s\n",
      "model_type=linear_regression rowset_label=full_country_Poland, columnset_label=all_numeric_categerical, cutoff=5000 yield columns=291, ACC=0.9802988779150938, in duration=0.6969s\n",
      "model_type=random_forest rowset_label=full_country_Poland, columnset_label=all_numeric_categerical, cutoff=5000 yield columns=291, ACC=0.9802988779150938, in duration=7.84s\n"
     ]
    },
    {
     "name": "stderr",
     "output_type": "stream",
     "text": [
      "/opt/conda/lib/python3.9/site-packages/sklearn/svm/_base.py:985: ConvergenceWarning: Liblinear failed to converge, increase the number of iterations.\n",
      "  warnings.warn(\"Liblinear failed to converge, increase \"\n"
     ]
    },
    {
     "name": "stdout",
     "output_type": "stream",
     "text": [
      "model_type=linear_svm rowset_label=full_country_Poland, columnset_label=all_numeric_categerical, cutoff=5000 yield columns=291, ACC=0.9802988779150938, in duration=18.6354s\n",
      "model_type=linear_regression rowset_label=full_country_Poland, columnset_label=all_numeric_categerical, cutoff=2500 yield columns=358, ACC=0.9802988779150938, in duration=0.8349s\n",
      "model_type=random_forest rowset_label=full_country_Poland, columnset_label=all_numeric_categerical, cutoff=2500 yield columns=358, ACC=0.9802988779150938, in duration=8.253s\n"
     ]
    },
    {
     "name": "stderr",
     "output_type": "stream",
     "text": [
      "/opt/conda/lib/python3.9/site-packages/sklearn/svm/_base.py:985: ConvergenceWarning: Liblinear failed to converge, increase the number of iterations.\n",
      "  warnings.warn(\"Liblinear failed to converge, increase \"\n"
     ]
    },
    {
     "name": "stdout",
     "output_type": "stream",
     "text": [
      "model_type=linear_svm rowset_label=full_country_Poland, columnset_label=all_numeric_categerical, cutoff=2500 yield columns=358, ACC=0.9802988779150938, in duration=19.6107s\n",
      "model_type=linear_regression rowset_label=full_country_Poland, columnset_label=all_numeric_categerical, cutoff=1000 yield columns=414, ACC=0.9802988779150938, in duration=1.0925s\n",
      "model_type=random_forest rowset_label=full_country_Poland, columnset_label=all_numeric_categerical, cutoff=1000 yield columns=414, ACC=0.9802988779150938, in duration=9.1434s\n"
     ]
    },
    {
     "name": "stderr",
     "output_type": "stream",
     "text": [
      "/opt/conda/lib/python3.9/site-packages/sklearn/svm/_base.py:985: ConvergenceWarning: Liblinear failed to converge, increase the number of iterations.\n",
      "  warnings.warn(\"Liblinear failed to converge, increase \"\n"
     ]
    },
    {
     "name": "stdout",
     "output_type": "stream",
     "text": [
      "model_type=linear_svm rowset_label=full_country_Poland, columnset_label=all_numeric_categerical, cutoff=1000 yield columns=414, ACC=0.9802988779150938, in duration=20.2133s\n",
      "model_type=linear_regression rowset_label=full_country_Poland, columnset_label=all_numeric_categerical, cutoff=500 yield columns=433, ACC=0.9802988779150938, in duration=1.0537s\n",
      "model_type=random_forest rowset_label=full_country_Poland, columnset_label=all_numeric_categerical, cutoff=500 yield columns=433, ACC=0.9802988779150938, in duration=9.1212s\n"
     ]
    },
    {
     "name": "stderr",
     "output_type": "stream",
     "text": [
      "/opt/conda/lib/python3.9/site-packages/sklearn/svm/_base.py:985: ConvergenceWarning: Liblinear failed to converge, increase the number of iterations.\n",
      "  warnings.warn(\"Liblinear failed to converge, increase \"\n"
     ]
    },
    {
     "name": "stdout",
     "output_type": "stream",
     "text": [
      "model_type=linear_svm rowset_label=full_country_Poland, columnset_label=all_numeric_categerical, cutoff=500 yield columns=433, ACC=0.6807487460571902, in duration=19.7918s\n",
      "model_type=linear_regression rowset_label=full_country_Poland, columnset_label=all_numeric_categerical, cutoff=250 yield columns=439, ACC=0.9802988779150938, in duration=1.092s\n",
      "model_type=random_forest rowset_label=full_country_Poland, columnset_label=all_numeric_categerical, cutoff=250 yield columns=439, ACC=0.9802988779150938, in duration=9.1245s\n"
     ]
    },
    {
     "name": "stderr",
     "output_type": "stream",
     "text": [
      "/opt/conda/lib/python3.9/site-packages/sklearn/svm/_base.py:985: ConvergenceWarning: Liblinear failed to converge, increase the number of iterations.\n",
      "  warnings.warn(\"Liblinear failed to converge, increase \"\n"
     ]
    },
    {
     "name": "stdout",
     "output_type": "stream",
     "text": [
      "model_type=linear_svm rowset_label=full_country_Poland, columnset_label=all_numeric_categerical, cutoff=250 yield columns=439, ACC=0.9525311546615647, in duration=19.1257s\n",
      "model_type=linear_regression rowset_label=full_country_Poland, columnset_label=all_numeric_categerical, cutoff=100 yield columns=441, ACC=0.9802988779150938, in duration=1.1073s\n",
      "model_type=random_forest rowset_label=full_country_Poland, columnset_label=all_numeric_categerical, cutoff=100 yield columns=441, ACC=0.9802988779150938, in duration=9.4503s\n"
     ]
    },
    {
     "name": "stderr",
     "output_type": "stream",
     "text": [
      "/opt/conda/lib/python3.9/site-packages/sklearn/svm/_base.py:985: ConvergenceWarning: Liblinear failed to converge, increase the number of iterations.\n",
      "  warnings.warn(\"Liblinear failed to converge, increase \"\n"
     ]
    },
    {
     "name": "stdout",
     "output_type": "stream",
     "text": [
      "model_type=linear_svm rowset_label=full_country_Poland, columnset_label=all_numeric_categerical, cutoff=100 yield columns=441, ACC=0.9646310564144992, in duration=19.9868s\n",
      "model_type=linear_regression rowset_label=full_country_Australia, columnset_label=all_numeric_categerical, cutoff=5000 yield columns=291, ACC=0.9814881844976472, in duration=0.6931s\n",
      "model_type=random_forest rowset_label=full_country_Australia, columnset_label=all_numeric_categerical, cutoff=5000 yield columns=291, ACC=0.9814881844976472, in duration=7.7566s\n"
     ]
    },
    {
     "name": "stderr",
     "output_type": "stream",
     "text": [
      "/opt/conda/lib/python3.9/site-packages/sklearn/svm/_base.py:985: ConvergenceWarning: Liblinear failed to converge, increase the number of iterations.\n",
      "  warnings.warn(\"Liblinear failed to converge, increase \"\n"
     ]
    },
    {
     "name": "stdout",
     "output_type": "stream",
     "text": [
      "model_type=linear_svm rowset_label=full_country_Australia, columnset_label=all_numeric_categerical, cutoff=5000 yield columns=291, ACC=0.958270851646931, in duration=17.7027s\n",
      "model_type=linear_regression rowset_label=full_country_Australia, columnset_label=all_numeric_categerical, cutoff=2500 yield columns=358, ACC=0.9814881844976472, in duration=0.8424s\n",
      "model_type=random_forest rowset_label=full_country_Australia, columnset_label=all_numeric_categerical, cutoff=2500 yield columns=358, ACC=0.9814881844976472, in duration=8.5737s\n"
     ]
    },
    {
     "name": "stderr",
     "output_type": "stream",
     "text": [
      "/opt/conda/lib/python3.9/site-packages/sklearn/svm/_base.py:985: ConvergenceWarning: Liblinear failed to converge, increase the number of iterations.\n",
      "  warnings.warn(\"Liblinear failed to converge, increase \"\n"
     ]
    },
    {
     "name": "stdout",
     "output_type": "stream",
     "text": [
      "model_type=linear_svm rowset_label=full_country_Australia, columnset_label=all_numeric_categerical, cutoff=2500 yield columns=358, ACC=0.9667511246703553, in duration=18.8745s\n",
      "model_type=linear_regression rowset_label=full_country_Australia, columnset_label=all_numeric_categerical, cutoff=1000 yield columns=414, ACC=0.9814881844976472, in duration=1.0866s\n",
      "model_type=random_forest rowset_label=full_country_Australia, columnset_label=all_numeric_categerical, cutoff=1000 yield columns=414, ACC=0.9814881844976472, in duration=9.3084s\n"
     ]
    },
    {
     "name": "stderr",
     "output_type": "stream",
     "text": [
      "/opt/conda/lib/python3.9/site-packages/sklearn/svm/_base.py:985: ConvergenceWarning: Liblinear failed to converge, increase the number of iterations.\n",
      "  warnings.warn(\"Liblinear failed to converge, increase \"\n"
     ]
    },
    {
     "name": "stdout",
     "output_type": "stream",
     "text": [
      "model_type=linear_svm rowset_label=full_country_Australia, columnset_label=all_numeric_categerical, cutoff=1000 yield columns=414, ACC=0.9648378923418998, in duration=19.0272s\n",
      "model_type=linear_regression rowset_label=full_country_Australia, columnset_label=all_numeric_categerical, cutoff=500 yield columns=433, ACC=0.9814881844976472, in duration=1.0572s\n",
      "model_type=random_forest rowset_label=full_country_Australia, columnset_label=all_numeric_categerical, cutoff=500 yield columns=433, ACC=0.9814881844976472, in duration=9.3911s\n"
     ]
    },
    {
     "name": "stderr",
     "output_type": "stream",
     "text": [
      "/opt/conda/lib/python3.9/site-packages/sklearn/svm/_base.py:985: ConvergenceWarning: Liblinear failed to converge, increase the number of iterations.\n",
      "  warnings.warn(\"Liblinear failed to converge, increase \"\n"
     ]
    },
    {
     "name": "stdout",
     "output_type": "stream",
     "text": [
      "model_type=linear_svm rowset_label=full_country_Australia, columnset_label=all_numeric_categerical, cutoff=500 yield columns=433, ACC=0.9657169450333523, in duration=18.9616s\n",
      "model_type=linear_regression rowset_label=full_country_Australia, columnset_label=all_numeric_categerical, cutoff=250 yield columns=439, ACC=0.9814881844976472, in duration=1.104s\n",
      "model_type=random_forest rowset_label=full_country_Australia, columnset_label=all_numeric_categerical, cutoff=250 yield columns=439, ACC=0.9814881844976472, in duration=9.313s\n"
     ]
    },
    {
     "name": "stderr",
     "output_type": "stream",
     "text": [
      "/opt/conda/lib/python3.9/site-packages/sklearn/svm/_base.py:985: ConvergenceWarning: Liblinear failed to converge, increase the number of iterations.\n",
      "  warnings.warn(\"Liblinear failed to converge, increase \"\n"
     ]
    },
    {
     "name": "stdout",
     "output_type": "stream",
     "text": [
      "model_type=linear_svm rowset_label=full_country_Australia, columnset_label=all_numeric_categerical, cutoff=250 yield columns=439, ACC=0.9814881844976472, in duration=19.0906s\n",
      "model_type=linear_regression rowset_label=full_country_Australia, columnset_label=all_numeric_categerical, cutoff=100 yield columns=441, ACC=0.9814881844976472, in duration=1.0918s\n",
      "model_type=random_forest rowset_label=full_country_Australia, columnset_label=all_numeric_categerical, cutoff=100 yield columns=441, ACC=0.9814881844976472, in duration=9.7993s\n",
      "model_type=linear_svm rowset_label=full_country_Australia, columnset_label=all_numeric_categerical, cutoff=100 yield columns=441, ACC=0.981436475515797, in duration=19.7503s\n"
     ]
    },
    {
     "name": "stderr",
     "output_type": "stream",
     "text": [
      "/opt/conda/lib/python3.9/site-packages/sklearn/svm/_base.py:985: ConvergenceWarning: Liblinear failed to converge, increase the number of iterations.\n",
      "  warnings.warn(\"Liblinear failed to converge, increase \"\n"
     ]
    }
   ],
   "source": [
    "results = []\n",
    "for country in countries_with_enough_samples:\n",
    "    country_results = predict_country( \\\n",
    "        rowset_label='full_country_%s' % country, \\\n",
    "        columnset_label='all_numeric_categerical', \\\n",
    "        imputed_df=full_country_imputed, \\\n",
    "        cutoffs=cutoffs, \\\n",
    "        country_to_classify=country, \\\n",
    "        row_sample_rate=row_sample_rate \\\n",
    "    )\n",
    "    results.extend(country_results)"
   ]
  },
  {
   "cell_type": "code",
   "execution_count": 6,
   "id": "5f663f0b-6e39-4cfc-bd3e-4de31550a912",
   "metadata": {},
   "outputs": [],
   "source": [
    "# result_df = pd.DataFrame(data=results).set_index(['rowset_label', 'columnset_label', 'country', 'cutoff'])\n",
    "result_df = pd.DataFrame(data=results).set_index(['country', 'cutoff'])\n",
    "for to_round in ['TPR', 'TNR', 'PPV', 'NPV', 'ACC', 'duration']:\n",
    "    result_df[to_round] = result_df[to_round].map(lambda x: round(x,3))\n",
    "\n",
    "result_df.drop(columns=['X_columns', 'coefficients']).sort_values('ACC')\n",
    "\n",
    "with open('./pickles/latest_results.pkl', 'wb') as f:\n",
    "    pickle.dump(result_df, f)\n",
    "\n",
    "cutoff_string = '-'.join(map(str, cutoffs))\n",
    "dataset_name = 'full_country_row_sample_rate_%s_country_min_sample_cutoff_%s_cutoffs_%s_results' % (row_sample_rate, country_min_sample_cutoff, cutoff_string)\n",
    "with open('./pickles/%s.pkl' % dataset_name, 'wb') as f:\n",
    "    pickle.dump(result_df, f)\n"
   ]
  },
  {
   "cell_type": "code",
   "execution_count": 7,
   "id": "a2f91171-a1c8-4b1e-923b-882267e838d1",
   "metadata": {},
   "outputs": [
    {
     "name": "stdout",
     "output_type": "stream",
     "text": [
      "script duration 2138.407s\n"
     ]
    }
   ],
   "source": [
    "script_end = time.time()\n",
    "print('script duration %ss' % round(script_end - start, 3))"
   ]
  },
  {
   "cell_type": "code",
   "execution_count": null,
   "id": "d4d265ac-0d5f-4b6a-ba98-98c0432a7bad",
   "metadata": {},
   "outputs": [],
   "source": []
  }
 ],
 "metadata": {
  "kernelspec": {
   "display_name": "Python 3",
   "language": "python",
   "name": "python3"
  },
  "language_info": {
   "codemirror_mode": {
    "name": "ipython",
    "version": 3
   },
   "file_extension": ".py",
   "mimetype": "text/x-python",
   "name": "python",
   "nbconvert_exporter": "python",
   "pygments_lexer": "ipython3",
   "version": "3.9.5"
  }
 },
 "nbformat": 4,
 "nbformat_minor": 5
}
