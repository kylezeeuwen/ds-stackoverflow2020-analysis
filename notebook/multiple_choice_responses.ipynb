{
 "cells": [
  {
   "cell_type": "code",
   "execution_count": 1,
   "id": "2bafb7a5-a73b-49be-b7a9-8853e9b7a699",
   "metadata": {},
   "outputs": [],
   "source": [
    "country_min_sample_cutoff = 3000"
   ]
  },
  {
   "cell_type": "code",
   "execution_count": 2,
   "id": "acf6bd1b-bc0c-4be2-bfa1-6c9b227f2d4b",
   "metadata": {},
   "outputs": [],
   "source": [
    "import numpy as np\n",
    "import pandas as pd\n",
    "import time\n",
    "import pickle\n",
    "\n",
    "from helpers import get_multiple_choice_columns, clone_and_convert_multiple_choice_columns\n",
    "\n",
    "pd.options.display.max_rows = 2000\n",
    "pd.options.display.max_columns = 1000\n",
    "pd.options.display.max_colwidth = 255\n",
    "\n",
    "script_start = time.time()\n",
    "\n",
    "df = pd.read_csv('./assets/survey_results_public.csv')\n",
    "schema = pd.read_csv('./assets/survey_results_schema.csv')\n",
    "multiple_choice_columns = get_multiple_choice_columns()"
   ]
  },
  {
   "cell_type": "code",
   "execution_count": 3,
   "id": "67815495-c21d-4bdd-8b8a-dc0af4a41015",
   "metadata": {},
   "outputs": [],
   "source": [
    "countries = df['Country'].value_counts()\n",
    "countries_with_enough_samples = countries[countries > (country_min_sample_cutoff)].index.values"
   ]
  },
  {
   "cell_type": "code",
   "execution_count": 4,
   "id": "70d5fd09-736e-44ad-a36e-c7d4c33e88a3",
   "metadata": {},
   "outputs": [
    {
     "name": "stdout",
     "output_type": "stream",
     "text": [
      "convert multi choice time 0.022s\n",
      "original data set has 64461 rows and 61 columns\n",
      "convert multi choice dataset has 28658 rows and 61 columns\n"
     ]
    }
   ],
   "source": [
    "start = time.time()\n",
    "# country_subset = clone_and_convert_multiple_choice_columns(df.query('Country in @countries_with_enough_samples'))\n",
    "country_subset = df.query('Country in @countries_with_enough_samples')\n",
    "end = time.time()\n",
    "print('convert multi choice time %ss' % round(end - start, 3))\n",
    "print(\"original data set has %s rows and %s columns\" % (df.shape[0], df.shape[1]))\n",
    "print(\"convert multi choice dataset has %s rows and %s columns\" % (country_subset.shape[0], country_subset.shape[1]))"
   ]
  },
  {
   "cell_type": "code",
   "execution_count": null,
   "id": "c88d67b1-99da-4c12-a902-753042b8f370",
   "metadata": {},
   "outputs": [],
   "source": []
  },
  {
   "cell_type": "code",
   "execution_count": 5,
   "id": "dc96fec8-9767-45aa-be84-09ce8ffaaed6",
   "metadata": {},
   "outputs": [],
   "source": [
    "# {'index': 'answer', 'column': 'count'}\n",
    "# ed_0_perc = answers_for_other_countries\n",
    "# ed_1_perc = answers_for_country\n",
    "\n",
    "# comp_df = pd.merge(ed_1_perc, ed_0_perc, left_index=True, right_index=True)\n",
    "# comp_df.columns = ['ed_1_perc', 'ed_0_perc']\n",
    "# comp_df['Diff_HigherEd_Vals'] = comp_df['ed_1_perc'] - comp_df['ed_0_perc']\n",
    "# comp_df.style.bar(subset=['Diff_HigherEd_Vals'], align='mid', color=['#d65f5f', '#5fba7d'])"
   ]
  },
  {
   "cell_type": "code",
   "execution_count": 7,
   "id": "c6222bd5-4279-489f-ab8f-6dba48391c0d",
   "metadata": {},
   "outputs": [],
   "source": [
    "def split_results_by_on_country_v2 (df, mc_column):\n",
    "    \n",
    "    indexed_by_country = {}\n",
    "    indexed_by_answer = {}\n",
    "    def fill_answers_lookup (row):\n",
    "        answer_string = row[mc_column]\n",
    "        answers = [] if answer_string != answer_string else answer_string.split(';')\n",
    "\n",
    "        for answer in answers:\n",
    "            if answer not in indexed_by_country:\n",
    "                indexed_by_country[answer] = {}\n",
    "            if row['Country'] not in indexed_by_country[answer]:\n",
    "                indexed_by_country[answer][row['Country']] = 0\n",
    "            indexed_by_country[answer][row['Country']] += 1\n",
    "\n",
    "            if row['Country'] not in indexed_by_answer:\n",
    "                indexed_by_answer[row['Country']] = {}\n",
    "            if answer not in indexed_by_answer[row['Country']]:\n",
    "                indexed_by_answer[row['Country']][answer] = 0\n",
    "            indexed_by_answer[row['Country']][answer] += 1\n",
    "                        \n",
    "    df.apply(fill_answers_lookup, axis=1)\n",
    "    \n",
    "    return pd.DataFrame(data=indexed_by_country), pd.DataFrame(data=indexed_by_answer)\n",
    "\n",
    "indexed_by_country, indexed_by_answer = split_results_by_on_country_v2(country_subset, 'DatabaseDesireNextYear')\n",
    "\n",
    "counts_per_answer = indexed_by_answer.sum(axis=1)\n",
    "total_answer_count = counts_per_answer.sum()\n",
    "proportion_per_answer = round(counts_per_answer / total_answer_count,4)"
   ]
  },
  {
   "cell_type": "code",
   "execution_count": 8,
   "id": "c453fef3-c930-493f-a85d-9bd1acba8201",
   "metadata": {},
   "outputs": [
    {
     "data": {
      "text/plain": [
       "Microsoft SQL Server    0.1036\n",
       "Cassandra               0.0338\n",
       "PostgreSQL              0.1703\n",
       "Elasticsearch           0.0813\n",
       "MongoDB                 0.1072\n",
       "Redis                   0.1107\n",
       "MySQL                   0.1141\n",
       "Couchbase               0.0152\n",
       "DynamoDB                0.0530\n",
       "MariaDB                 0.0364\n",
       "SQLite                  0.0914\n",
       "Firebase                0.0504\n",
       "Oracle                  0.0258\n",
       "IBM DB2                 0.0068\n",
       "Name: United States, dtype: float64"
      ]
     },
     "execution_count": 8,
     "metadata": {},
     "output_type": "execute_result"
    }
   ],
   "source": [
    "country = 'United States'\n",
    "country_counts_per_answer = indexed_by_answer[country]\n",
    "country_total_answer_count = country_counts_per_answer.sum()\n",
    "country_proportion_per_answer = round(country_counts_per_answer / country_total_answer_count,4)\n",
    "country_proportion_per_answer"
   ]
  },
  {
   "cell_type": "code",
   "execution_count": 10,
   "id": "3cfb4b1c-110e-4d48-a80b-5ec68c1a61ba",
   "metadata": {},
   "outputs": [
    {
     "data": {
      "text/plain": [
       "pandas.core.series.Series"
      ]
     },
     "execution_count": 10,
     "metadata": {},
     "output_type": "execute_result"
    }
   ],
   "source": [
    "diff = proportion_per_answer - country_proportion_per_answer\n",
    "# diff.plot.bar(align='center')\n",
    "diff"
   ]
  },
  {
   "cell_type": "code",
   "execution_count": null,
   "id": "8be9abde-1d38-45da-a98a-38cc1dc44330",
   "metadata": {},
   "outputs": [],
   "source": [
    "# data set : questions : (question) -> total_respondents, total_answers\n",
    "# data set 2 : answers : (question, answer) -> answer_count, respondent_proportion, respondent_proportion_stddev\n",
    "# data set 1 : answers by country : (country, question, answer) -> country_answers, country_respondent_proportion, country_respondent_diff_proportion "
   ]
  }
 ],
 "metadata": {
  "kernelspec": {
   "display_name": "Python 3",
   "language": "python",
   "name": "python3"
  },
  "language_info": {
   "codemirror_mode": {
    "name": "ipython",
    "version": 3
   },
   "file_extension": ".py",
   "mimetype": "text/x-python",
   "name": "python",
   "nbconvert_exporter": "python",
   "pygments_lexer": "ipython3",
   "version": "3.9.5"
  }
 },
 "nbformat": 4,
 "nbformat_minor": 5
}
