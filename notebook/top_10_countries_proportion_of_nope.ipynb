{
 "cells": [
  {
   "cell_type": "code",
   "execution_count": 50,
   "id": "ef26df2b-1e31-40f6-b08e-9ebe6a96f277",
   "metadata": {},
   "outputs": [],
   "source": [
    "pickle_file = 'full_country_row_sample_rate_1_country_min_sample_cutoff_1200_cutoffs_5000-2500-1000-500-250-100_results.pkl'"
   ]
  },
  {
   "cell_type": "code",
   "execution_count": 51,
   "id": "4cf6b254-2a2f-405d-b495-1f3040cc9097",
   "metadata": {},
   "outputs": [],
   "source": [
    "import numpy as np\n",
    "import pandas as pd\n",
    "import time\n",
    "import pickle\n",
    "import matplotlib.pyplot as plt\n",
    "\n",
    "pd.options.display.max_rows = 2000\n",
    "pd.options.display.max_columns = 1000\n",
    "pd.options.display.max_colwidth = 255"
   ]
  },
  {
   "cell_type": "code",
   "execution_count": 52,
   "id": "18ede7b0-db14-4183-a448-af165e1fddf3",
   "metadata": {},
   "outputs": [],
   "source": [
    "with open('./pickles/%s' % pickle_file, 'rb') as f:\n",
    "    results_df = pickle.load(f)    "
   ]
  },
  {
   "cell_type": "code",
   "execution_count": 53,
   "id": "de5878d1-994a-4384-808a-a45a6b03c8e0",
   "metadata": {},
   "outputs": [
    {
     "data": {
      "text/html": [
       "<div>\n",
       "<style scoped>\n",
       "    .dataframe tbody tr th:only-of-type {\n",
       "        vertical-align: middle;\n",
       "    }\n",
       "\n",
       "    .dataframe tbody tr th {\n",
       "        vertical-align: top;\n",
       "    }\n",
       "\n",
       "    .dataframe thead th {\n",
       "        text-align: right;\n",
       "    }\n",
       "</style>\n",
       "<table border=\"1\" class=\"dataframe\">\n",
       "  <thead>\n",
       "    <tr style=\"text-align: right;\">\n",
       "      <th></th>\n",
       "      <th>total_sims</th>\n",
       "      <th>country_proportion</th>\n",
       "      <th>nopes</th>\n",
       "      <th>proportion_of_nopes</th>\n",
       "    </tr>\n",
       "    <tr>\n",
       "      <th>country</th>\n",
       "      <th></th>\n",
       "      <th></th>\n",
       "      <th></th>\n",
       "      <th></th>\n",
       "    </tr>\n",
       "  </thead>\n",
       "  <tbody>\n",
       "    <tr>\n",
       "      <th>Australia</th>\n",
       "      <td>18.0</td>\n",
       "      <td>0.018</td>\n",
       "      <td>13.0</td>\n",
       "      <td>0.722</td>\n",
       "    </tr>\n",
       "    <tr>\n",
       "      <th>Brazil</th>\n",
       "      <td>18.0</td>\n",
       "      <td>0.028</td>\n",
       "      <td>15.0</td>\n",
       "      <td>0.833</td>\n",
       "    </tr>\n",
       "    <tr>\n",
       "      <th>Canada</th>\n",
       "      <td>18.0</td>\n",
       "      <td>0.034</td>\n",
       "      <td>16.0</td>\n",
       "      <td>0.889</td>\n",
       "    </tr>\n",
       "    <tr>\n",
       "      <th>France</th>\n",
       "      <td>18.0</td>\n",
       "      <td>0.031</td>\n",
       "      <td>14.0</td>\n",
       "      <td>0.778</td>\n",
       "    </tr>\n",
       "    <tr>\n",
       "      <th>Germany</th>\n",
       "      <td>18.0</td>\n",
       "      <td>0.061</td>\n",
       "      <td>16.0</td>\n",
       "      <td>0.889</td>\n",
       "    </tr>\n",
       "    <tr>\n",
       "      <th>India</th>\n",
       "      <td>18.0</td>\n",
       "      <td>0.130</td>\n",
       "      <td>0.0</td>\n",
       "      <td>0.000</td>\n",
       "    </tr>\n",
       "    <tr>\n",
       "      <th>Netherlands</th>\n",
       "      <td>18.0</td>\n",
       "      <td>0.021</td>\n",
       "      <td>14.0</td>\n",
       "      <td>0.778</td>\n",
       "    </tr>\n",
       "    <tr>\n",
       "      <th>Poland</th>\n",
       "      <td>18.0</td>\n",
       "      <td>0.020</td>\n",
       "      <td>15.0</td>\n",
       "      <td>0.833</td>\n",
       "    </tr>\n",
       "    <tr>\n",
       "      <th>United Kingdom</th>\n",
       "      <td>18.0</td>\n",
       "      <td>0.059</td>\n",
       "      <td>13.0</td>\n",
       "      <td>0.722</td>\n",
       "    </tr>\n",
       "    <tr>\n",
       "      <th>United States</th>\n",
       "      <td>18.0</td>\n",
       "      <td>0.196</td>\n",
       "      <td>0.0</td>\n",
       "      <td>0.000</td>\n",
       "    </tr>\n",
       "  </tbody>\n",
       "</table>\n",
       "</div>"
      ],
      "text/plain": [
       "                total_sims  country_proportion  nopes  proportion_of_nopes\n",
       "country                                                                   \n",
       "Australia             18.0               0.018   13.0                0.722\n",
       "Brazil                18.0               0.028   15.0                0.833\n",
       "Canada                18.0               0.034   16.0                0.889\n",
       "France                18.0               0.031   14.0                0.778\n",
       "Germany               18.0               0.061   16.0                0.889\n",
       "India                 18.0               0.130    0.0                0.000\n",
       "Netherlands           18.0               0.021   14.0                0.778\n",
       "Poland                18.0               0.020   15.0                0.833\n",
       "United Kingdom        18.0               0.059   13.0                0.722\n",
       "United States         18.0               0.196    0.0                0.000"
      ]
     },
     "execution_count": 53,
     "metadata": {},
     "output_type": "execute_result"
    }
   ],
   "source": [
    "def choose_largest_coefficient_name (coefficients):\n",
    "    if coefficients is None:\n",
    "        return None\n",
    "    return coefficients.sort_values(by='abs_weight', ascending=False)['X_Column'].iloc[0]\n",
    "\n",
    "def choose_largest_coefficient_weight (coefficients):    \n",
    "    if coefficients is None:\n",
    "        return None\n",
    "    return coefficients.sort_values(by='abs_weight', ascending=False)['abs_weight'].iloc[0]\n",
    "    \n",
    "    \n",
    "results_df['largest_coefficient_column'] = results_df['coefficients'].apply(choose_largest_coefficient_name)\n",
    "results_df['largest_coefficient_weight'] = results_df['coefficients'].apply(choose_largest_coefficient_weight)\n",
    "\n",
    "def generate_country_aggregates (runs_for_country):\n",
    "    total_sims = runs_for_country.shape[0]\n",
    "    nopes =  runs_for_country.query('TP == 0 and FP == 0').shape[0]\n",
    "    proportion_of_nopes = round(nopes / total_sims, 3)\n",
    "    country_proportion = round(runs_for_country.iloc[0]['P'] / (runs_for_country.iloc[0]['P'] + runs_for_country.iloc[0]['N']),3)\n",
    "\n",
    "    result = pd.Series({\n",
    "        'total_sims' : total_sims,\n",
    "        'country_proportion': country_proportion,\n",
    "        'nopes' : nopes,\n",
    "        'proportion_of_nopes' : proportion_of_nopes,\n",
    "    })\n",
    "    \n",
    "    return result\n",
    "    \n",
    "country_aggregates = results_df \\\n",
    "    .reset_index() \\\n",
    "    .drop(columns=['coefficients', 'X_columns']) \\\n",
    "    .groupby('country') \\\n",
    "    .apply(generate_country_aggregates)\n",
    "#     .query('TP > 0 or FP > 0')\n",
    "\n",
    "country_aggregates"
   ]
  },
  {
   "cell_type": "code",
   "execution_count": 54,
   "id": "ee222bea-8f2d-4cad-b213-8ae551a08db7",
   "metadata": {},
   "outputs": [
    {
     "data": {
      "image/png": "[encoded data removed]",
      "text/plain": [
       "<Figure size 432x288 with 1 Axes>"
      ]
     },
     "metadata": {
      "needs_background": "light"
     },
     "output_type": "display_data"
    }
   ],
   "source": [
    "(country_aggregates[['proportion_of_nopes', 'country_proportion']]).sort_values(by='country_proportion', ascending=False).plot(kind=\"bar\");\n",
    "plt.title(\"Top 10 Countries measured by predictive model failure count\");\n"
   ]
  },
  {
   "cell_type": "code",
   "execution_count": null,
   "id": "99e4d2bc-f06a-47aa-9d03-0c52cbfd56ac",
   "metadata": {},
   "outputs": [],
   "source": []
  }
 ],
 "metadata": {
  "kernelspec": {
   "display_name": "Python 3",
   "language": "python",
   "name": "python3"
  },
  "language_info": {
   "codemirror_mode": {
    "name": "ipython",
    "version": 3
   },
   "file_extension": ".py",
   "mimetype": "text/x-python",
   "name": "python",
   "nbconvert_exporter": "python",
   "pygments_lexer": "ipython3",
   "version": "3.9.5"
  }
 },
 "nbformat": 4,
 "nbformat_minor": 5
}
