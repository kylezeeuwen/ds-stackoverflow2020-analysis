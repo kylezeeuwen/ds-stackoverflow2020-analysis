{
 "cells": [
  {
   "cell_type": "code",
   "execution_count": 1,
   "id": "4b540d18-dd73-444f-87a1-1421d177f60f",
   "metadata": {},
   "outputs": [],
   "source": [
    "import numpy as np\n",
    "import pandas as pd\n",
    "\n",
    "from sklearn.linear_model import LinearRegression\n",
    "from sklearn.model_selection import train_test_split\n",
    "from sklearn.metrics import r2_score, mean_squared_error\n",
    "\n",
    "# %matplotlib inline\n",
    "\n",
    "pd.options.display.max_rows = 2000\n",
    "pd.options.display.max_colwidth = 255\n",
    "\n",
    "df = pd.read_csv('./assets/survey_results_public.csv')\n",
    "schema = pd.read_csv('./assets/survey_results_schema.csv')"
   ]
  },
  {
   "cell_type": "code",
   "execution_count": null,
   "id": "851ea264-72bc-4c78-ac34-1cc807ee37a7",
   "metadata": {},
   "outputs": [],
   "source": []
  },
  {
   "cell_type": "code",
   "execution_count": 7,
   "id": "b8351ec7-b9d1-4e70-9406-68a3e03546b5",
   "metadata": {},
   "outputs": [
    {
     "data": {
      "text/plain": [
       "7858"
      ]
     },
     "execution_count": 7,
     "metadata": {},
     "output_type": "execute_result"
    }
   ],
   "source": [
    "# use respondent as the index\n",
    "if 'Respondent' in df.columns:    \n",
    "    df.set_index('Respondent')\n",
    "\n",
    "# Exclude CompTotal as it is pre converted and normalised to annual USD , which is stored in ConvertedComp\n",
    "if 'CompTotal' in df.columns:\n",
    "    df.drop(columns=['CompTotal'], inplace=True)\n",
    "    \n",
    "# convert these near numerics to a numeric Series\n",
    "from helpers import convert_age_series_to_numeric\n",
    "df['YearsCode'] = df['YearsCode'].map(convert_age_series_to_numeric)\n",
    "df['YearsCodePro'] = df['YearsCodePro'].map(convert_age_series_to_numeric)\n",
    "df['Age1stCode'] = df['Age1stCode'].map(convert_age_series_to_numeric)\n",
    "\n",
    "# country_subset = df.query(\"Country in ['United States', 'Canada', 'Australia', 'United Kingdom', 'New Zealand']\")[[\n",
    "# country_subset = df.query(\"Country in ['United States', 'Canada']\")[[\n",
    "country_subset = df.query(\"Country in ['United States', 'Canada', 'Australia', 'New Zealand']\")[[\n",
    "    'Country',\n",
    "    'Age',\n",
    "    'Age1stCode',\n",
    "    'ConvertedComp',\n",
    "    'Employment',\n",
    "    'JobSat',\n",
    "    'JobSeek',\n",
    "    'MainBranch',\n",
    "    'NEWEdImpt',\n",
    "    'OpSys',\n",
    "    'OrgSize',\n",
    "    'UndergradMajor',\n",
    "    'WorkWeekHrs',\n",
    "    'YearsCode',\n",
    "    'YearsCodePro'\n",
    "]].dropna()    "
   ]
  },
  {
   "cell_type": "code",
   "execution_count": 12,
   "id": "ff442b42-d7ee-41c3-84ca-79073f29ac3f",
   "metadata": {},
   "outputs": [],
   "source": [
    "x = df.query(\"Country in ['United States', 'Canada', 'Australia', 'New Zealand']\")[[\n",
    "    'Country',\n",
    "    'Age',\n",
    "    'Age1stCode',\n",
    "    'ConvertedComp',\n",
    "    'Employment',\n",
    "    'JobSat',\n",
    "    'JobSeek',\n",
    "    'MainBranch',\n",
    "    'NEWEdImpt',\n",
    "    'OpSys',\n",
    "    'OrgSize',\n",
    "    'UndergradMajor',\n",
    "    'WorkWeekHrs',\n",
    "    'WorkWeekHrs',\n",
    "    'YearsCode',\n",
    "    'YearsCodePro'\n",
    "]]"
   ]
  },
  {
   "cell_type": "code",
   "execution_count": 14,
   "id": "1a1769bf-86f2-417e-82b8-0a90b144f1fa",
   "metadata": {},
   "outputs": [
    {
     "data": {
      "text/plain": [
       "Country           0.000000\n",
       "MainBranch        0.002774\n",
       "Employment        0.004439\n",
       "Age1stCode        0.056470\n",
       "YearsCode         0.058443\n",
       "OpSys             0.083965\n",
       "UndergradMajor    0.146415\n",
       "JobSeek           0.146662\n",
       "NEWEdImpt         0.171321\n",
       "YearsCodePro      0.209605\n",
       "JobSat            0.227360\n",
       "Age               0.229826\n",
       "OrgSize           0.244005\n",
       "WorkWeekHrs       0.276493\n",
       "WorkWeekHrs       0.276493\n",
       "ConvertedComp     0.354417\n",
       "dtype: float64"
      ]
     },
     "execution_count": 14,
     "metadata": {},
     "output_type": "execute_result"
    }
   ],
   "source": [
    "(x.isna().sum() / x.shape[0]).sort_values()"
   ]
  },
  {
   "cell_type": "code",
   "execution_count": 12,
   "id": "b6c2a03d-4f2a-49fa-ab11-940ee657dc47",
   "metadata": {},
   "outputs": [
    {
     "data": {
      "text/plain": [
       "Country           0.000000\n",
       "MainBranch        0.002774\n",
       "Employment        0.004439\n",
       "OpSys             0.083965\n",
       "UndergradMajor    0.146415\n",
       "JobSeek           0.146662\n",
       "NEWEdImpt         0.171321\n",
       "JobSat            0.227360\n",
       "OrgSize           0.244005\n",
       "dtype: float64"
      ]
     },
     "execution_count": 12,
     "metadata": {},
     "output_type": "execute_result"
    }
   ],
   "source": [
    "cat_x = x.select_dtypes(include='object')\n",
    "(cat_x.isna().sum() / cat_x.shape[0]).sort_values()"
   ]
  },
  {
   "cell_type": "code",
   "execution_count": 13,
   "id": "31c81992-3891-437e-9aa0-7a6fcfd4b1c7",
   "metadata": {},
   "outputs": [
    {
     "data": {
      "text/plain": [
       "Age1stCode       0.056470\n",
       "YearsCode        0.058443\n",
       "YearsCodePro     0.209605\n",
       "Age              0.229826\n",
       "WorkWeekHrs      0.276493\n",
       "WorkWeekHrs      0.276493\n",
       "ConvertedComp    0.354417\n",
       "dtype: float64"
      ]
     },
     "execution_count": 13,
     "metadata": {},
     "output_type": "execute_result"
    }
   ],
   "source": [
    "num_x = x.select_dtypes(exclude='object')\n",
    "(num_x.isna().sum() / num_x.shape[0]).sort_values()"
   ]
  },
  {
   "cell_type": "code",
   "execution_count": 3,
   "id": "78693cfd-32a9-4a44-bb5e-fec729fc0af9",
   "metadata": {},
   "outputs": [
    {
     "data": {
      "text/plain": [
       "(8363, 16)"
      ]
     },
     "execution_count": 3,
     "metadata": {},
     "output_type": "execute_result"
    }
   ],
   "source": [
    "country_subset.shape"
   ]
  },
  {
   "cell_type": "code",
   "execution_count": 4,
   "id": "16ff9029-3df1-469d-8c94-7704890344a6",
   "metadata": {},
   "outputs": [
    {
     "data": {
      "text/plain": [
       "1    6504\n",
       "0    1859\n",
       "Name: is_south_hemi, dtype: int64"
      ]
     },
     "execution_count": 4,
     "metadata": {},
     "output_type": "execute_result"
    }
   ],
   "source": [
    "is_usa = lambda country: 1 if country == 'United States' else 0\n",
    "is_south_hemi = lambda country: 1 if country in ['Australia', 'New Zealand'] else 0\n",
    "#country_subset['is_usa_numeric'] = country_subset['Country'].map(is_usa)\n",
    "country_subset['is_south_hemi'] = country_subset['Country'].map(is_usa)\n",
    "country_subset['is_south_hemi'].value_counts()"
   ]
  },
  {
   "cell_type": "code",
   "execution_count": 5,
   "id": "c3f99439-3984-436e-ba92-c9beecb64e07",
   "metadata": {},
   "outputs": [],
   "source": [
    "categorical_only_columns = country_subset.select_dtypes(include='object').columns\n",
    "for var in categorical_only_columns:\n",
    "    if var == 'Country':\n",
    "        continue\n",
    "    # for each cat add dummy var, drop original column\n",
    "    country_subset = pd.concat([country_subset.drop(var, axis=1), pd.get_dummies(country_subset[var], prefix=var, prefix_sep='_', drop_first=True)], axis=1)"
   ]
  },
  {
   "cell_type": "code",
   "execution_count": 6,
   "id": "32cfe948-09e2-4482-9710-7b559f2facd0",
   "metadata": {},
   "outputs": [
    {
     "data": {
      "text/plain": [
       "'The r-squared score for the model was 0.045168155286912315 on 2509 values.'"
      ]
     },
     "execution_count": 6,
     "metadata": {},
     "output_type": "execute_result"
    }
   ],
   "source": [
    "# X_columns = [ elem for elem in country_subset.columns if elem not in ['Country', 'is_usa_numeric']]\n",
    "# y_column = 'is_usa_numeric'\n",
    "\n",
    "X_columns = [ elem for elem in country_subset.columns if elem not in ['Country', 'is_south_hemi']]\n",
    "y_column = 'is_south_hemi'\n",
    "\n",
    "\n",
    "\n",
    "X = country_subset[X_columns]\n",
    "y = country_subset[y_column]\n",
    "\n",
    "X_train, X_test, y_train, y_test = train_test_split(X, y, test_size = .30, random_state=42) \n",
    "\n",
    "lm_model = LinearRegression(normalize=True) # Instantiate\n",
    "lm_model.fit(X_train, y_train) #Fit\n",
    "        \n",
    "#Predict and score the model\n",
    "y_test_preds = lm_model.predict(X_test) \n",
    "\"The r-squared score for the model was {} on {} values.\".format(r2_score(y_test, y_test_preds), len(y_test))\n"
   ]
  },
  {
   "cell_type": "code",
   "execution_count": null,
   "id": "5e7fb090-6aaa-4332-95cf-be82e91e43cb",
   "metadata": {},
   "outputs": [],
   "source": []
  }
 ],
 "metadata": {
  "kernelspec": {
   "display_name": "Python 3",
   "language": "python",
   "name": "python3"
  },
  "language_info": {
   "codemirror_mode": {
    "name": "ipython",
    "version": 3
   },
   "file_extension": ".py",
   "mimetype": "text/x-python",
   "name": "python",
   "nbconvert_exporter": "python",
   "pygments_lexer": "ipython3",
   "version": "3.9.5"
  }
 },
 "nbformat": 4,
 "nbformat_minor": 5
}
