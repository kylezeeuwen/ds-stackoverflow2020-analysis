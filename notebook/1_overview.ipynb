{
 "cells": [
  {
   "cell_type": "markdown",
   "id": "f2025894-8bd8-452e-9850-e27fb7ef24b1",
   "metadata": {},
   "source": [
    "# Overview\n",
    "\n",
    "This collection of notebooks uses the Cross Industry Standard Process for Machine Learning ([CRISP-DM](https://en.wikipedia.org/wiki/Cross-industry_standard_process_for_data_mining)) process model to analyse the [Stack Overflow 2020 Developer Survey Results](https://insights.stackoverflow.com/survey/2020).\n",
    "\n",
    "# Business Understanding\n",
    "\n",
    "A general exploration of the data is presented, and then several specific business questions are answered:\n",
    "\n",
    "1. Which countries had the most respondents ?\n",
    "1. Were there any country based biases in the technology preferences surevey responses ?\n",
    "1. Can we predict a respondents country of origin using their answers ?"
   ]
  },
  {
   "cell_type": "code",
   "execution_count": 2,
   "id": "72a0b7de-ff88-4a05-8138-47d9390c3f94",
   "metadata": {
    "pycharm": {
     "name": "#%%\n"
    }
   },
   "outputs": [],
   "source": []
  }
 ],
 "metadata": {
  "kernelspec": {
   "display_name": "Python 3",
   "language": "python",
   "name": "python3"
  },
  "language_info": {
   "codemirror_mode": {
    "name": "ipython",
    "version": 3
   },
   "file_extension": ".py",
   "mimetype": "text/x-python",
   "name": "python",
   "nbconvert_exporter": "python",
   "pygments_lexer": "ipython3",
   "version": "3.9.5"
  }
 },
 "nbformat": 4,
 "nbformat_minor": 5
}