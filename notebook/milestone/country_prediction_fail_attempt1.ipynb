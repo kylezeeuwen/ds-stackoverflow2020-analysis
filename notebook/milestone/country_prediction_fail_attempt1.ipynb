{
 "cells": [
  {
   "cell_type": "code",
   "execution_count": 1,
   "id": "4b540d18-dd73-444f-87a1-1421d177f60f",
   "metadata": {},
   "outputs": [],
   "source": [
    "import numpy as np\n",
    "import pandas as pd\n",
    "\n",
    "from sklearn.linear_model import LinearRegression\n",
    "from sklearn.model_selection import train_test_split\n",
    "from sklearn.metrics import r2_score, mean_squared_error\n",
    "\n",
    "# %matplotlib inline\n",
    "\n",
    "pd.options.display.max_rows = 2000\n",
    "pd.options.display.max_colwidth = 255\n",
    "\n",
    "df = pd.read_csv('./assets/survey_results_public.csv')\n",
    "schema = pd.read_csv('./assets/survey_results_schema.csv')"
   ]
  },
  {
   "cell_type": "code",
   "execution_count": 2,
   "id": "b8351ec7-b9d1-4e70-9406-68a3e03546b5",
   "metadata": {},
   "outputs": [],
   "source": [
    "# use respondent as the index\n",
    "if 'Respondent' in df.columns:    \n",
    "    df.set_index('Respondent')\n",
    "\n",
    "# Exclude CompTotal as it is pre converted and normalised to annual USD , which is stored in ConvertedComp\n",
    "if 'CompTotal' in df.columns:\n",
    "    df.drop(columns=['CompTotal'], inplace=True)\n",
    "    \n",
    "# convert these near numerics to a numeric Series\n",
    "from helpers import convert_age_series_to_numeric\n",
    "df['YearsCode'] = df['YearsCode'].map(convert_age_series_to_numeric)\n",
    "df['YearsCodePro'] = df['YearsCodePro'].map(convert_age_series_to_numeric)\n",
    "df['Age1stCode'] = df['Age1stCode'].map(convert_age_series_to_numeric)\n",
    "\n",
    "# country_subset = df.query(\"Country in ['United States', 'Canada', 'Australia', 'United Kingdom', 'New Zealand']\")[[\n",
    "# country_subset = df.query(\"Country in ['United States', 'Canada']\")[[\n",
    "country_subset = df.query(\"Country in ['United States', 'Canada', 'United Kingdom', 'Australia', 'New Zealand']\")[[\n",
    "    'Country',\n",
    "    'Age',\n",
    "    'Age1stCode',\n",
    "    'ConvertedComp',\n",
    "    'Employment',\n",
    "    'JobSat',\n",
    "    'JobSeek',\n",
    "    'MainBranch',\n",
    "    'NEWEdImpt',\n",
    "    'OpSys',\n",
    "    'OrgSize',\n",
    "    'UndergradMajor',\n",
    "    'WorkWeekHrs',\n",
    "    'YearsCode',\n",
    "    'YearsCodePro'\n",
    "]].dropna()\n",
    "\n",
    "categorical_only_columns = country_subset.select_dtypes(include='object').columns\n",
    "for var in categorical_only_columns:\n",
    "    if var == 'Country':\n",
    "        continue\n",
    "    # for each cat add dummy var, drop original column\n",
    "    country_subset = pd.concat([country_subset.drop(var, axis=1), pd.get_dummies(country_subset[var], prefix=var, prefix_sep='_', drop_first=True)], axis=1)    "
   ]
  },
  {
   "cell_type": "code",
   "execution_count": 3,
   "id": "32cfe948-09e2-4482-9710-7b559f2facd0",
   "metadata": {},
   "outputs": [
    {
     "name": "stdout",
     "output_type": "stream",
     "text": [
      "predicting is_usa: r-squared: 0.086, test size 3123, train size 7287, feature size 44.\n",
      "predicting is_south_hemi: r-squared: 0.016, test size 3123, train size 7287, feature size 44.\n",
      "predicting is_south_hemi w/ no uk: r-squared: 0.013, test size 2509, train size 5854, feature size 44.\n"
     ]
    }
   ],
   "source": [
    "is_usa = lambda country: 1 if country == 'United States' else 0\n",
    "is_south_hemi = lambda country: 1 if country in ['Australia', 'New Zealand'] else 0\n",
    "country_subset['is_south_hemi'] = country_subset['Country'].map(is_south_hemi)\n",
    "country_subset['is_usa'] = country_subset['Country'].map(is_usa)\n",
    "\n",
    "# Attempt to predict is_usa\n",
    "X_columns = [ elem for elem in country_subset.columns if elem not in ['Country', 'is_usa', 'is_south_hemi']]\n",
    "y_column = 'is_usa'\n",
    "X = country_subset[X_columns]\n",
    "y = country_subset[y_column]\n",
    "X_train, X_test, y_train, y_test = train_test_split(X, y, test_size = .30, random_state=42) \n",
    "lm_model = LinearRegression(normalize=True) # Instantiate\n",
    "lm_model.fit(X_train, y_train) #Fit\n",
    "y_test_preds = lm_model.predict(X_test) #Predict and score the model \n",
    "print(\"predicting is_usa: r-squared: {}, test size {}, train size {}, feature size {}.\".format(round(r2_score(y_test, y_test_preds),3), len(y_test), len(y_train), X.shape[1]))\n",
    "\n",
    "# Attempt to predict is_south_hemi\n",
    "X_columns = [ elem for elem in country_subset.columns if elem not in ['Country', 'is_usa', 'is_south_hemi']]\n",
    "y_column = 'is_south_hemi'\n",
    "X = country_subset[X_columns]\n",
    "y = country_subset[y_column]\n",
    "X_train, X_test, y_train, y_test = train_test_split(X, y, test_size = .30, random_state=42) \n",
    "lm_model = LinearRegression(normalize=True) # Instantiate\n",
    "lm_model.fit(X_train, y_train) #Fit\n",
    "y_test_preds = lm_model.predict(X_test) #Predict and score the model \n",
    "print(\"predicting is_south_hemi: r-squared: {}, test size {}, train size {}, feature size {}.\".format(round(r2_score(y_test, y_test_preds),3), len(y_test), len(y_train), X.shape[1]))\n",
    "\n",
    "# Attempt to predict is_south_hemi without UK\n",
    "X_columns = [ elem for elem in country_subset.columns if elem not in ['Country', 'is_usa', 'is_south_hemi']]\n",
    "y_column = 'is_south_hemi'\n",
    "no_uk = country_subset[country_subset['Country'] != 'United Kingdom']\n",
    "X = no_uk[X_columns]\n",
    "y = no_uk[y_column]\n",
    "X_train, X_test, y_train, y_test = train_test_split(X, y, test_size = .30, random_state=42) \n",
    "lm_model = LinearRegression(normalize=True) # Instantiate\n",
    "lm_model.fit(X_train, y_train) #Fit\n",
    "y_test_preds = lm_model.predict(X_test) #Predict and score the model \n",
    "print(\"predicting is_south_hemi w/ no uk: r-squared: {}, test size {}, train size {}, feature size {}.\".format(round(r2_score(y_test, y_test_preds),3), len(y_test), len(y_train), X.shape[1]))\n",
    "\n",
    "#dummy_na = False - no fill_mean\n",
    "# predicting is_usa: r-squared: 0.086, test size 3123, train size 7287, feature size 44.\n",
    "# predicting is_south_hemi: r-squared: 0.016, test size 3123, train size 7287, feature size 44.\n",
    "# predicting is_south_hemi w/ no uk: r-squared: 0.013, test size 2509, train size 5854, feature size 44.\n"
   ]
  },
  {
   "cell_type": "code",
   "execution_count": null,
   "id": "5e7fb090-6aaa-4332-95cf-be82e91e43cb",
   "metadata": {},
   "outputs": [],
   "source": []
  }
 ],
 "metadata": {
  "kernelspec": {
   "display_name": "Python 3",
   "language": "python",
   "name": "python3"
  },
  "language_info": {
   "codemirror_mode": {
    "name": "ipython",
    "version": 3
   },
   "file_extension": ".py",
   "mimetype": "text/x-python",
   "name": "python",
   "nbconvert_exporter": "python",
   "pygments_lexer": "ipython3",
   "version": "3.9.5"
  }
 },
 "nbformat": 4,
 "nbformat_minor": 5
}
