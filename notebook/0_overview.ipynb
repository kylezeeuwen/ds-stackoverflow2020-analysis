{
 "cells": [
  {
   "cell_type": "markdown",
   "id": "f2025894-8bd8-452e-9850-e27fb7ef24b1",
   "metadata": {},
   "source": [
    "# Overview\n",
    "\n",
    "This collection of notebooks uses the Cross Industry Standard Process for Machine Learning ([CRISP-DM](https://en.wikipedia.org/wiki/Cross-industry_standard_process_for_data_mining)) process model to analyse the [Stack Overflow 2020 Developer Survey Results](https://insights.stackoverflow.com/survey/2020).\n",
    "\n",
    "A non technical presentation of the results is presented in this medium post : [Does the country change the developer?](https://medium.com/@kylezeeuwen/does-the-country-change-the-developer-ce18116e905f)\n",
    "\n",
    "# Business Understanding\n",
    "\n",
    "A general exploration of the data is presented, and then several specific business questions are answered:\n",
    "\n",
    "1. Which countries had the most respondents ?\n",
    "1. Were there any country based biases in the technology preferences surevey responses ?\n",
    "1. Can we predict a respondents country of origin using their answers, excluding answers that obviously directly predict country ?\n",
    "\n",
    "# Data Understanding\n",
    "\n",
    "Data exploration is performed in these two notebooks:\n",
    "* [1_basics.ipynb](./1_basics.ipynb)                         ← 👋 🔥🔥🔥 : **start here for pictures !! Shiny !!**\n",
    "* [2_value_counts.ipynb](./2_value_counts.ipynb)\n",
    "\n",
    "# Data Prep / Evaluation for \"Which countries had the most respondents\"\n",
    "\n",
    "The full process for this question is performed in the [3_top_countries_measured_by_response_count.ipynb](./3_top_countries_measured_by_response_count.ipynb) notebook.\n",
    "\n",
    "# Data Prep / Evaluation for \"Were there any country based biases in the technology preferences surevey responses\"\n",
    "\n",
    "The full process for this question is performed in the [4_multiple_choice_responses.ipynb](./4_multiple_choice_responses.ipynb) notebook.\n",
    "\n",
    "# Data Prep / Modelling / Evaluation for \"Can we predict a respondents country of origin using their answers\"\n",
    "\n",
    "* The data preperation and modeling for this question are performed in the [5_country_classifier.ipynb](./5_country_classifier.ipynb) notebook.\n",
    "* The evaluation for this question are performed in the [6_visualise_binary_classifier_results.ipynb](./6_visualise_binary_classifier_results.ipynb) notebook."
   ]
  },
  {
   "cell_type": "code",
   "execution_count": null,
   "id": "45b9b157-80c4-48cd-adaf-e5e61fab5bda",
   "metadata": {},
   "outputs": [],
   "source": []
  }
 ],
 "metadata": {
  "kernelspec": {
   "display_name": "Python 3",
   "language": "python",
   "name": "python3"
  },
  "language_info": {
   "codemirror_mode": {
    "name": "ipython",
    "version": 3
   },
   "file_extension": ".py",
   "mimetype": "text/x-python",
   "name": "python",
   "nbconvert_exporter": "python",
   "pygments_lexer": "ipython3",
   "version": "3.9.5"
  }
 },
 "nbformat": 4,
 "nbformat_minor": 5
}
