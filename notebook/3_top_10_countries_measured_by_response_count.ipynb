{
 "cells": [
  {
   "cell_type": "markdown",
   "id": "2eaec959-6ecb-4781-84bf-ca55288d2f77",
   "metadata": {},
   "source": [
    "# File Overview\n",
    "\n",
    "This file lists country by response count and computes the percentage of the responses of the top 10 countries as a percentage of all the responses.\n",
    "\n",
    "# Outputs / Assets\n",
    "\n",
    "* response distribuition bar chart for use in the blog\n",
    "* percentage of responses from top 10 countries"
   ]
  },
  {
   "cell_type": "code",
   "execution_count": 1,
   "id": "cb09f58f-951a-4592-8df6-8c651300e8e4",
   "metadata": {},
   "outputs": [],
   "source": [
    "import numpy as np\n",
    "import pandas as pd\n",
    "import matplotlib.pyplot as plt\n",
    "\n",
    "pd.options.display.max_rows = 2000\n",
    "pd.options.display.max_columns = 1000\n",
    "pd.options.display.max_colwidth = 255\n",
    "\n",
    "df = pd.read_csv('./assets/survey_results_public.csv')"
   ]
  },
  {
   "cell_type": "code",
   "execution_count": 2,
   "id": "ac93f322-e415-45c6-ac0e-90f4ec1fb22c",
   "metadata": {},
   "outputs": [
    {
     "data": {
      "text/plain": [
       "United States     12469\n",
       "India              8403\n",
       "United Kingdom     3896\n",
       "Germany            3890\n",
       "Canada             2191\n",
       "France             1898\n",
       "Brazil             1818\n",
       "Netherlands        1343\n",
       "Poland             1278\n",
       "Australia          1208\n",
       "Name: Country, dtype: int64"
      ]
     },
     "execution_count": 2,
     "metadata": {},
     "output_type": "execute_result"
    }
   ],
   "source": [
    "country_counts = df['Country'].value_counts().head(10)\n",
    "country_counts"
   ]
  },
  {
   "cell_type": "code",
   "execution_count": 3,
   "id": "99d86842-fe7e-42ae-88b8-000cfc9da261",
   "metadata": {},
   "outputs": [
    {
     "data": {
      "image/png": "[encoded data removed]",
      "text/plain": [
       "<Figure size 432x288 with 1 Axes>"
      ]
     },
     "metadata": {
      "needs_background": "light"
     },
     "output_type": "display_data"
    }
   ],
   "source": [
    "(country_counts).plot(kind=\"bar\")\n",
    "plt.title(\"Top 10 Countries measured by Response Count\");"
   ]
  },
  {
   "cell_type": "code",
   "execution_count": 5,
   "id": "063cb302-b79b-49a7-bcba-e901ee0764c4",
   "metadata": {},
   "outputs": [
    {
     "data": {
      "text/plain": [
       "59.9"
      ]
     },
     "execution_count": 5,
     "metadata": {},
     "output_type": "execute_result"
    }
   ],
   "source": [
    "# What proportion of the total survey do these 10 countries represent\n",
    "round(100 * df['Country'].value_counts().head(10).sum() / df['Country'].value_counts().sum(), 1)"
   ]
  }
 ],
 "metadata": {
  "kernelspec": {
   "display_name": "Python 3",
   "language": "python",
   "name": "python3"
  },
  "language_info": {
   "codemirror_mode": {
    "name": "ipython",
    "version": 3
   },
   "file_extension": ".py",
   "mimetype": "text/x-python",
   "name": "python",
   "nbconvert_exporter": "python",
   "pygments_lexer": "ipython3",
   "version": "3.9.5"
  },
  "toc-autonumbering": false,
  "toc-showcode": false,
  "toc-showmarkdowntxt": true
 },
 "nbformat": 4,
 "nbformat_minor": 5
}
