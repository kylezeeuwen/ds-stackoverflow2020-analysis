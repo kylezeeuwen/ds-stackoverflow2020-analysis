{
 "cells": [
  {
   "cell_type": "code",
   "execution_count": 1,
   "id": "c32fe97e-c634-45ab-9ae8-250264e1af5a",
   "metadata": {},
   "outputs": [],
   "source": [
    "import numpy as np\n",
    "import pandas as pd\n",
    "from collections import defaultdict\n",
    "import matplotlib.pyplot as plt\n",
    "%matplotlib inline\n",
    "\n",
    "df = pd.read_csv('./assets/survey_results_public.csv')\n",
    "schema = pd.read_csv('./assets/survey_results_schema.csv')"
   ]
  },
  {
   "cell_type": "code",
   "execution_count": 2,
   "id": "5b8c5743-c9b9-417d-9d34-bc9633a8b795",
   "metadata": {},
   "outputs": [],
   "source": [
    "pd.options.display.max_rows = 2000\n",
    "pd.options.display.max_colwidth = 1000\n",
    "pd.options.display.float_format = '{:20,.2f}'.format"
   ]
  },
  {
   "cell_type": "code",
   "execution_count": 3,
   "id": "9264d8ba-bdc3-4531-8f93-04abe95223b3",
   "metadata": {},
   "outputs": [
    {
     "data": {
      "text/plain": [
       "Hobbyist                            2\n",
       "NEWOtherComms                       2\n",
       "Trans                               2\n",
       "SOAccount                           3\n",
       "NEWOnboardGood                      3\n",
       "NEWDevOps                           3\n",
       "PurchaseWhat                        3\n",
       "JobSeek                             3\n",
       "NEWOffTopic                         3\n",
       "CompFreq                            3\n",
       "SurveyEase                          3\n",
       "SurveyLength                        3\n",
       "NEWLearn                            4\n",
       "NEWPurpleLink                       4\n",
       "OpSys                               4\n",
       "MainBranch                          5\n",
       "NEWEdImpt                           5\n",
       "NEWDevOpsImpt                       5\n",
       "JobSat                              5\n",
       "NEWOvertime                         5\n",
       "WelcomeChange                       6\n",
       "SOPartFreq                          6\n",
       "SOComm                              6\n",
       "SOVisitFreq                         6\n",
       "Gender                              7\n",
       "Employment                          7\n",
       "EdLevel                             9\n",
       "OrgSize                             9\n",
       "UndergradMajor                     12\n",
       "Sexuality                          14\n",
       "YearsCodePro                       52\n",
       "YearsCode                          52\n",
       "NEWSOSites                         61\n",
       "NEWJobHuntResearch                 63\n",
       "Age1stCode                         63\n",
       "NEWPurchaseResearch                63\n",
       "CurrencySymbol                    141\n",
       "CurrencyDesc                      142\n",
       "Country                           183\n",
       "Ethnicity                         208\n",
       "JobFactors                        230\n",
       "NEWStuck                          444\n",
       "NEWCollabToolsWorkedWith         1153\n",
       "NEWCollabToolsDesireNextYear     1277\n",
       "NEWJobHunt                       2172\n",
       "MiscTechWorkedWith               2730\n",
       "DatabaseWorkedWith               2808\n",
       "DatabaseDesireNextYear           3193\n",
       "WebframeWorkedWith               3789\n",
       "WebframeDesireNextYear           3986\n",
       "MiscTechDesireNextYear           5216\n",
       "PlatformWorkedWith               6287\n",
       "PlatformDesireNextYear           7471\n",
       "DevType                          8269\n",
       "LanguageWorkedWith              14256\n",
       "LanguageDesireNextYear          16243\n",
       "dtype: int64"
      ]
     },
     "execution_count": 3,
     "metadata": {},
     "output_type": "execute_result"
    }
   ],
   "source": [
    "df.select_dtypes(include='object').nunique().sort_values()"
   ]
  },
  {
   "cell_type": "code",
   "execution_count": 4,
   "id": "a2a0c6dc-6c78-41c8-8dc9-043f80273dee",
   "metadata": {},
   "outputs": [
    {
     "ename": "NameError",
     "evalue": "name 'categorical_only' is not defined",
     "output_type": "error",
     "traceback": [
      "\u001b[0;31m---------------------------------------------------------------------------\u001b[0m",
      "\u001b[0;31mNameError\u001b[0m                                 Traceback (most recent call last)",
      "\u001b[0;32m<ipython-input-4-299052542ec0>\u001b[0m in \u001b[0;36m<module>\u001b[0;34m\u001b[0m\n\u001b[1;32m      1\u001b[0m \u001b[0;31m# print the value counts for any categorical column that has less than X unique values\u001b[0m\u001b[0;34m\u001b[0m\u001b[0;34m\u001b[0m\u001b[0;34m\u001b[0m\u001b[0m\n\u001b[0;32m----> 2\u001b[0;31m \u001b[0;32mfor\u001b[0m \u001b[0mcolumn\u001b[0m \u001b[0;32min\u001b[0m \u001b[0mcategorical_only\u001b[0m\u001b[0;34m.\u001b[0m\u001b[0mloc\u001b[0m\u001b[0;34m[\u001b[0m\u001b[0;34m:\u001b[0m\u001b[0;34m,\u001b[0m\u001b[0mcategorical_only\u001b[0m\u001b[0;34m.\u001b[0m\u001b[0mnunique\u001b[0m\u001b[0;34m(\u001b[0m\u001b[0;34m)\u001b[0m\u001b[0;34m<\u001b[0m\u001b[0;36m65\u001b[0m\u001b[0;34m]\u001b[0m\u001b[0;34m.\u001b[0m\u001b[0mcolumns\u001b[0m\u001b[0;34m:\u001b[0m\u001b[0;34m\u001b[0m\u001b[0;34m\u001b[0m\u001b[0m\n\u001b[0m\u001b[1;32m      3\u001b[0m     \u001b[0mprint\u001b[0m\u001b[0;34m(\u001b[0m\u001b[0;34m'----- %s -----'\u001b[0m \u001b[0;34m%\u001b[0m \u001b[0mcolumn\u001b[0m\u001b[0;34m)\u001b[0m\u001b[0;34m\u001b[0m\u001b[0;34m\u001b[0m\u001b[0m\n\u001b[1;32m      4\u001b[0m     \u001b[0mprint\u001b[0m\u001b[0;34m(\u001b[0m\u001b[0mcategorical_only\u001b[0m\u001b[0;34m[\u001b[0m\u001b[0mcolumn\u001b[0m\u001b[0;34m]\u001b[0m\u001b[0;34m.\u001b[0m\u001b[0mvalue_counts\u001b[0m\u001b[0;34m(\u001b[0m\u001b[0;34m)\u001b[0m\u001b[0;34m.\u001b[0m\u001b[0mto_string\u001b[0m\u001b[0;34m(\u001b[0m\u001b[0;34m)\u001b[0m\u001b[0;34m)\u001b[0m\u001b[0;34m\u001b[0m\u001b[0;34m\u001b[0m\u001b[0m\n\u001b[1;32m      5\u001b[0m     \u001b[0mprint\u001b[0m\u001b[0;34m(\u001b[0m\u001b[0;34m''\u001b[0m\u001b[0;34m)\u001b[0m\u001b[0;34m\u001b[0m\u001b[0;34m\u001b[0m\u001b[0m\n",
      "\u001b[0;31mNameError\u001b[0m: name 'categorical_only' is not defined"
     ]
    }
   ],
   "source": [
    "# print the value counts for any categorical column that has less than X unique values\n",
    "for column in categorical_only.loc[:,categorical_only.nunique()<65].columns:\n",
    "    print('----- %s -----' % column)\n",
    "    print(categorical_only[column].value_counts().to_string())\n",
    "    print('')"
   ]
  }
 ],
 "metadata": {
  "kernelspec": {
   "display_name": "Python 3",
   "language": "python",
   "name": "python3"
  },
  "language_info": {
   "codemirror_mode": {
    "name": "ipython",
    "version": 3
   },
   "file_extension": ".py",
   "mimetype": "text/x-python",
   "name": "python",
   "nbconvert_exporter": "python",
   "pygments_lexer": "ipython3",
   "version": "3.9.5"
  }
 },
 "nbformat": 4,
 "nbformat_minor": 5
}
